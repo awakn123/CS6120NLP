{
 "cells": [
  {
   "cell_type": "markdown",
   "metadata": {},
   "source": [
    "# 1.Data Exploration:"
   ]
  },
  {
   "cell_type": "code",
   "execution_count": 13,
   "metadata": {},
   "outputs": [
    {
     "name": "stdout",
     "output_type": "stream",
     "text": [
      "Requirement already satisfied: datasets in c:\\users\\yue\\appdata\\local\\packages\\pythonsoftwarefoundation.python.3.10_qbz5n2kfra8p0\\localcache\\local-packages\\python310\\site-packages (2.18.0)\n",
      "Requirement already satisfied: filelock in c:\\users\\yue\\appdata\\local\\packages\\pythonsoftwarefoundation.python.3.10_qbz5n2kfra8p0\\localcache\\local-packages\\python310\\site-packages (from datasets) (3.13.3)\n",
      "Requirement already satisfied: numpy>=1.17 in c:\\users\\yue\\appdata\\local\\packages\\pythonsoftwarefoundation.python.3.10_qbz5n2kfra8p0\\localcache\\local-packages\\python310\\site-packages (from datasets) (1.26.4)\n",
      "Requirement already satisfied: pyarrow>=12.0.0 in c:\\users\\yue\\appdata\\local\\packages\\pythonsoftwarefoundation.python.3.10_qbz5n2kfra8p0\\localcache\\local-packages\\python310\\site-packages (from datasets) (15.0.2)\n",
      "Requirement already satisfied: pyarrow-hotfix in c:\\users\\yue\\appdata\\local\\packages\\pythonsoftwarefoundation.python.3.10_qbz5n2kfra8p0\\localcache\\local-packages\\python310\\site-packages (from datasets) (0.6)\n",
      "Requirement already satisfied: dill<0.3.9,>=0.3.0 in c:\\users\\yue\\appdata\\local\\packages\\pythonsoftwarefoundation.python.3.10_qbz5n2kfra8p0\\localcache\\local-packages\\python310\\site-packages (from datasets) (0.3.8)\n",
      "Requirement already satisfied: pandas in c:\\users\\yue\\appdata\\local\\packages\\pythonsoftwarefoundation.python.3.10_qbz5n2kfra8p0\\localcache\\local-packages\\python310\\site-packages (from datasets) (1.5.2)\n",
      "Requirement already satisfied: requests>=2.19.0 in c:\\users\\yue\\appdata\\local\\packages\\pythonsoftwarefoundation.python.3.10_qbz5n2kfra8p0\\localcache\\local-packages\\python310\\site-packages (from datasets) (2.28.1)\n",
      "Requirement already satisfied: tqdm>=4.62.1 in c:\\users\\yue\\appdata\\local\\packages\\pythonsoftwarefoundation.python.3.10_qbz5n2kfra8p0\\localcache\\local-packages\\python310\\site-packages (from datasets) (4.66.1)\n",
      "Requirement already satisfied: xxhash in c:\\users\\yue\\appdata\\local\\packages\\pythonsoftwarefoundation.python.3.10_qbz5n2kfra8p0\\localcache\\local-packages\\python310\\site-packages (from datasets) (3.4.1)\n",
      "Requirement already satisfied: multiprocess in c:\\users\\yue\\appdata\\local\\packages\\pythonsoftwarefoundation.python.3.10_qbz5n2kfra8p0\\localcache\\local-packages\\python310\\site-packages (from datasets) (0.70.16)\n",
      "Requirement already satisfied: fsspec<=2024.2.0,>=2023.1.0 in c:\\users\\yue\\appdata\\local\\packages\\pythonsoftwarefoundation.python.3.10_qbz5n2kfra8p0\\localcache\\local-packages\\python310\\site-packages (from fsspec[http]<=2024.2.0,>=2023.1.0->datasets) (2024.2.0)\n",
      "Requirement already satisfied: aiohttp in c:\\users\\yue\\appdata\\local\\packages\\pythonsoftwarefoundation.python.3.10_qbz5n2kfra8p0\\localcache\\local-packages\\python310\\site-packages (from datasets) (3.9.3)\n",
      "Requirement already satisfied: huggingface-hub>=0.19.4 in c:\\users\\yue\\appdata\\local\\packages\\pythonsoftwarefoundation.python.3.10_qbz5n2kfra8p0\\localcache\\local-packages\\python310\\site-packages (from datasets) (0.22.2)\n",
      "Requirement already satisfied: packaging in c:\\users\\yue\\appdata\\local\\packages\\pythonsoftwarefoundation.python.3.10_qbz5n2kfra8p0\\localcache\\local-packages\\python310\\site-packages (from datasets) (21.3)\n",
      "Requirement already satisfied: pyyaml>=5.1 in c:\\users\\yue\\appdata\\local\\packages\\pythonsoftwarefoundation.python.3.10_qbz5n2kfra8p0\\localcache\\local-packages\\python310\\site-packages (from datasets) (6.0.1)\n",
      "Requirement already satisfied: aiosignal>=1.1.2 in c:\\users\\yue\\appdata\\local\\packages\\pythonsoftwarefoundation.python.3.10_qbz5n2kfra8p0\\localcache\\local-packages\\python310\\site-packages (from aiohttp->datasets) (1.3.1)\n",
      "Requirement already satisfied: attrs>=17.3.0 in c:\\users\\yue\\appdata\\local\\packages\\pythonsoftwarefoundation.python.3.10_qbz5n2kfra8p0\\localcache\\local-packages\\python310\\site-packages (from aiohttp->datasets) (23.2.0)\n",
      "Requirement already satisfied: frozenlist>=1.1.1 in c:\\users\\yue\\appdata\\local\\packages\\pythonsoftwarefoundation.python.3.10_qbz5n2kfra8p0\\localcache\\local-packages\\python310\\site-packages (from aiohttp->datasets) (1.4.1)\n",
      "Requirement already satisfied: multidict<7.0,>=4.5 in c:\\users\\yue\\appdata\\local\\packages\\pythonsoftwarefoundation.python.3.10_qbz5n2kfra8p0\\localcache\\local-packages\\python310\\site-packages (from aiohttp->datasets) (6.0.5)\n",
      "Requirement already satisfied: yarl<2.0,>=1.0 in c:\\users\\yue\\appdata\\local\\packages\\pythonsoftwarefoundation.python.3.10_qbz5n2kfra8p0\\localcache\\local-packages\\python310\\site-packages (from aiohttp->datasets) (1.9.4)\n",
      "Requirement already satisfied: async-timeout<5.0,>=4.0 in c:\\users\\yue\\appdata\\local\\packages\\pythonsoftwarefoundation.python.3.10_qbz5n2kfra8p0\\localcache\\local-packages\\python310\\site-packages (from aiohttp->datasets) (4.0.3)\n",
      "Requirement already satisfied: typing-extensions>=3.7.4.3 in c:\\users\\yue\\appdata\\local\\packages\\pythonsoftwarefoundation.python.3.10_qbz5n2kfra8p0\\localcache\\local-packages\\python310\\site-packages (from huggingface-hub>=0.19.4->datasets) (4.9.0)\n",
      "Requirement already satisfied: pyparsing!=3.0.5,>=2.0.2 in c:\\users\\yue\\appdata\\local\\packages\\pythonsoftwarefoundation.python.3.10_qbz5n2kfra8p0\\localcache\\local-packages\\python310\\site-packages (from packaging->datasets) (3.0.9)\n",
      "Requirement already satisfied: charset-normalizer<3,>=2 in c:\\users\\yue\\appdata\\local\\packages\\pythonsoftwarefoundation.python.3.10_qbz5n2kfra8p0\\localcache\\local-packages\\python310\\site-packages (from requests>=2.19.0->datasets) (2.1.1)\n",
      "Requirement already satisfied: idna<4,>=2.5 in c:\\users\\yue\\appdata\\local\\packages\\pythonsoftwarefoundation.python.3.10_qbz5n2kfra8p0\\localcache\\local-packages\\python310\\site-packages (from requests>=2.19.0->datasets) (3.4)\n",
      "Requirement already satisfied: urllib3<1.27,>=1.21.1 in c:\\users\\yue\\appdata\\local\\packages\\pythonsoftwarefoundation.python.3.10_qbz5n2kfra8p0\\localcache\\local-packages\\python310\\site-packages (from requests>=2.19.0->datasets) (1.26.13)\n",
      "Requirement already satisfied: certifi>=2017.4.17 in c:\\users\\yue\\appdata\\local\\packages\\pythonsoftwarefoundation.python.3.10_qbz5n2kfra8p0\\localcache\\local-packages\\python310\\site-packages (from requests>=2.19.0->datasets) (2022.9.24)\n",
      "Requirement already satisfied: colorama in c:\\users\\yue\\appdata\\local\\packages\\pythonsoftwarefoundation.python.3.10_qbz5n2kfra8p0\\localcache\\local-packages\\python310\\site-packages (from tqdm>=4.62.1->datasets) (0.4.6)\n",
      "Requirement already satisfied: python-dateutil>=2.8.1 in c:\\users\\yue\\appdata\\local\\packages\\pythonsoftwarefoundation.python.3.10_qbz5n2kfra8p0\\localcache\\local-packages\\python310\\site-packages (from pandas->datasets) (2.8.2)\n",
      "Requirement already satisfied: pytz>=2020.1 in c:\\users\\yue\\appdata\\local\\packages\\pythonsoftwarefoundation.python.3.10_qbz5n2kfra8p0\\localcache\\local-packages\\python310\\site-packages (from pandas->datasets) (2022.6)\n",
      "Requirement already satisfied: six>=1.5 in c:\\users\\yue\\appdata\\local\\packages\\pythonsoftwarefoundation.python.3.10_qbz5n2kfra8p0\\localcache\\local-packages\\python310\\site-packages (from python-dateutil>=2.8.1->pandas->datasets) (1.16.0)\n",
      "Note: you may need to restart the kernel to use updated packages.\n"
     ]
    }
   ],
   "source": [
    "%pip install datasets\n",
    "from datasets import load_dataset\n",
    "\n",
    "# Load the dataset\n",
    "dataset = load_dataset('yelp_review_full')"
   ]
  },
  {
   "cell_type": "code",
   "execution_count": 14,
   "metadata": {},
   "outputs": [
    {
     "name": "stdout",
     "output_type": "stream",
     "text": [
      "DatasetDict({\n",
      "    train: Dataset({\n",
      "        features: ['label', 'text'],\n",
      "        num_rows: 650000\n",
      "    })\n",
      "    test: Dataset({\n",
      "        features: ['label', 'text'],\n",
      "        num_rows: 50000\n",
      "    })\n",
      "})\n",
      "{'label': [4, 1, 3, 3, 0], 'text': [\"dr. goldberg offers everything i look for in a general practitioner.  he's nice and easy to talk to without being patronizing; he's always on time in seeing his patients; he's affiliated with a top-notch hospital (nyu) which my parents have explained to me is very important in case something happens and you need surgery; and you can get referrals to see specialists without having to see him first.  really, what more do you need?  i'm sitting here trying to think of any complaints i have about him, but i'm really drawing a blank.\", \"Unfortunately, the frustration of being Dr. Goldberg's patient is a repeat of the experience I've had with so many other doctors in NYC -- good doctor, terrible staff.  It seems that his staff simply never answers the phone.  It usually takes 2 hours of repeated calling to get an answer.  Who has time for that or wants to deal with it?  I have run into this problem with many other doctors and I just don't get it.  You have office workers, you have patients with medical needs, why isn't anyone answering the phone?  It's incomprehensible and not work the aggravation.  It's with regret that I feel that I have to give Dr. Goldberg 2 stars.\", \"Been going to Dr. Goldberg for over 10 years. I think I was one of his 1st patients when he started at MHMG. He's been great over the years and is really all about the big picture. It is because of him, not my now former gyn Dr. Markoff, that I found out I have fibroids. He explores all options with you and is very patient and understanding. He doesn't judge and asks all the right questions. Very thorough and wants to be kept in the loop on every aspect of your medical health and your life.\", 'Got a letter in the mail last week that said Dr. Goldberg is moving to Arizona to take a new position there in June.  He will be missed very much.  \\\\n\\\\nI think finding a new doctor in NYC that you actually like might almost be as awful as trying to find a date!', \"I don't know what Dr. Goldberg was like before  moving to Arizona, but let me tell you, STAY AWAY from this doctor and this office. I was going to Dr. Johnson before he left and Goldberg took over when Johnson left. He is not a caring doctor. He is only interested in the co-pay and having you come in for medication refills every month. He will not give refills and could less about patients's financial situations. Trying to get your 90 days mail away pharmacy prescriptions through this guy is a joke. And to make matters even worse, his office staff is incompetent. 90% of the time when you call the office, they'll put you through to a voice mail, that NO ONE ever answers or returns your call. Both my adult children and husband have decided to leave this practice after experiencing such frustration. The entire office has an attitude like they are doing you a favor. Give me a break! Stay away from this doc and the practice. You deserve better and they will not be there when you really need them. I have never felt compelled to write a bad review about anyone until I met this pathetic excuse for a doctor who is all about the money.\"]}\n",
      "   label                                               text\n",
      "0      4  dr. goldberg offers everything i look for in a...\n",
      "1      1  Unfortunately, the frustration of being Dr. Go...\n",
      "2      3  Been going to Dr. Goldberg for over 10 years. ...\n",
      "3      3  Got a letter in the mail last week that said D...\n",
      "4      0  I don't know what Dr. Goldberg was like before...\n"
     ]
    }
   ],
   "source": [
    "print(dataset)\n",
    "print(dataset['train'][:5])\n",
    "df = dataset['train'].to_pandas()\n",
    "print(df.head())"
   ]
  },
  {
   "cell_type": "markdown",
   "metadata": {},
   "source": [
    "The dataset has 650,000 training samples and 50,000 testing samples. Each sample has a 'label' and some 'text'. The 'label' is a number from 0 to 4 that means 1 start to 5 stars and shows how good or bad the review is. The 'text' is the review itself. The next step in the code will create a picture that shows how many samples there are for each label number, both for training and testing. This is to make sure we have a fair mix, which helps build fair and reliable machine learning models."
   ]
  },
  {
   "cell_type": "code",
   "execution_count": 15,
   "metadata": {},
   "outputs": [
    {
     "data": {
      "image/png": "[encoded data removed]",
      "text/plain": [
       "<Figure size 1000x600 with 1 Axes>"
      ]
     },
     "metadata": {},
     "output_type": "display_data"
    },
    {
     "data": {
      "image/png": "[encoded data removed]",
      "text/plain": [
       "<Figure size 1000x600 with 1 Axes>"
      ]
     },
     "metadata": {},
     "output_type": "display_data"
    }
   ],
   "source": [
    "import matplotlib.pyplot as plt\n",
    "import seaborn as sns\n",
    "# Plot the distribution of labels\n",
    "plt.figure(figsize=(10, 6))\n",
    "ax = sns.countplot(data=df, x='label')\n",
    "plt.title('Label Distribution of train data in Yelp Review Dataset')\n",
    "plt.xlabel('Label')\n",
    "plt.ylabel('Count')\n",
    "\n",
    "# Annotate each bar with the count of observations\n",
    "for p in ax.patches:\n",
    "    ax.annotate(f'{p.get_height()}', (p.get_x() + p.get_width() / 2., p.get_height()), \n",
    "                ha = 'center', va = 'center', xytext = (0, 10), \n",
    "                textcoords = 'offset points')\n",
    "\n",
    "plt.xticks(rotation=45)\n",
    "plt.show()\n",
    "\n",
    "df_test = dataset['test'].to_pandas()\n",
    "# Plot the distribution of labels\n",
    "plt.figure(figsize=(10, 6))\n",
    "ax = sns.countplot(data=df_test, x='label')\n",
    "plt.title('Label Distribution of test data in Yelp Review Dataset')\n",
    "plt.xlabel('Label')\n",
    "plt.ylabel('Count')\n",
    "\n",
    "# Annotate each bar with the count of observations\n",
    "for p in ax.patches:\n",
    "    ax.annotate(f'{p.get_height()}', (p.get_x() + p.get_width() / 2., p.get_height()), \n",
    "                ha = 'center', va = 'center', xytext = (0, 10), \n",
    "                textcoords = 'offset points')\n",
    "\n",
    "plt.xticks(rotation=45)\n",
    "plt.show()"
   ]
  },
  {
   "cell_type": "markdown",
   "metadata": {},
   "source": [
    "The two images depict the label distributions in the training and test datasets, respectively. Each chart shows an equal count for all labels, which is crucial for developing unbiased machine learning models with broad applicability. This uniformity ensures that the models trained on this data can learn and evaluate effectively without preference for any particular label."
   ]
  },
  {
   "cell_type": "markdown",
   "metadata": {},
   "source": [
    "# 2. Sentiment Analysis:"
   ]
  },
  {
   "cell_type": "markdown",
   "metadata": {},
   "source": [
    "# 3. Classification Tasks: Zero Shot Classification\n",
    "## 3.a. Based on Summary"
   ]
  },
  {
   "cell_type": "code",
   "execution_count": 16,
   "metadata": {},
   "outputs": [
    {
     "name": "stderr",
     "output_type": "stream",
     "text": [
      "Your max_length is set to 30, but your input_length is only 14. Since this is a summarization task, where outputs shorter than the input are typically wanted, you might consider decreasing max_length manually, e.g. summarizer('...', max_length=7)\n",
      "Your max_length is set to 30, but your input_length is only 6. Since this is a summarization task, where outputs shorter than the input are typically wanted, you might consider decreasing max_length manually, e.g. summarizer('...', max_length=3)\n",
      "Your max_length is set to 30, but your input_length is only 6. Since this is a summarization task, where outputs shorter than the input are typically wanted, you might consider decreasing max_length manually, e.g. summarizer('...', max_length=3)\n",
      "Your max_length is set to 30, but your input_length is only 27. Since this is a summarization task, where outputs shorter than the input are typically wanted, you might consider decreasing max_length manually, e.g. summarizer('...', max_length=13)\n",
      "Your max_length is set to 30, but your input_length is only 28. Since this is a summarization task, where outputs shorter than the input are typically wanted, you might consider decreasing max_length manually, e.g. summarizer('...', max_length=14)\n",
      "Your max_length is set to 30, but your input_length is only 15. Since this is a summarization task, where outputs shorter than the input are typically wanted, you might consider decreasing max_length manually, e.g. summarizer('...', max_length=7)\n",
      "Your max_length is set to 30, but your input_length is only 20. Since this is a summarization task, where outputs shorter than the input are typically wanted, you might consider decreasing max_length manually, e.g. summarizer('...', max_length=10)\n",
      "Your max_length is set to 30, but your input_length is only 17. Since this is a summarization task, where outputs shorter than the input are typically wanted, you might consider decreasing max_length manually, e.g. summarizer('...', max_length=8)\n",
      "Your max_length is set to 30, but your input_length is only 25. Since this is a summarization task, where outputs shorter than the input are typically wanted, you might consider decreasing max_length manually, e.g. summarizer('...', max_length=12)\n",
      "Your max_length is set to 30, but your input_length is only 24. Since this is a summarization task, where outputs shorter than the input are typically wanted, you might consider decreasing max_length manually, e.g. summarizer('...', max_length=12)\n",
      "Your max_length is set to 30, but your input_length is only 24. Since this is a summarization task, where outputs shorter than the input are typically wanted, you might consider decreasing max_length manually, e.g. summarizer('...', max_length=12)\n",
      "Your max_length is set to 30, but your input_length is only 16. Since this is a summarization task, where outputs shorter than the input are typically wanted, you might consider decreasing max_length manually, e.g. summarizer('...', max_length=8)\n",
      "Your max_length is set to 30, but your input_length is only 28. Since this is a summarization task, where outputs shorter than the input are typically wanted, you might consider decreasing max_length manually, e.g. summarizer('...', max_length=14)\n",
      "Your max_length is set to 30, but your input_length is only 13. Since this is a summarization task, where outputs shorter than the input are typically wanted, you might consider decreasing max_length manually, e.g. summarizer('...', max_length=6)\n"
     ]
    },
    {
     "name": "stdout",
     "output_type": "stream",
     "text": [
      "                                                  text  \\\n",
      "0    dr. goldberg offers everything i look for in a...   \n",
      "1    Unfortunately, the frustration of being Dr. Go...   \n",
      "2    Been going to Dr. Goldberg for over 10 years. ...   \n",
      "3    Got a letter in the mail last week that said D...   \n",
      "4    I don't know what Dr. Goldberg was like before...   \n",
      "..                                                 ...   \n",
      "145  Even when we didn't have a car Filene's Baseme...   \n",
      "146  Love this store!  Don't always have much luck ...   \n",
      "147  Another store which has gone the way of the Do...   \n",
      "148  $9.75 for a red bull and vodka? I'm sorry, I t...   \n",
      "149  Really enjoyed this a lot more than I thought ...   \n",
      "\n",
      "                                               summary  stars  \n",
      "0     dr. goldberg offers everything i look for in ...      4  \n",
      "1    The frustration of being Dr. Goldberg's patien...      1  \n",
      "2    I've been going to Dr. Goldberg for over 10 ye...      3  \n",
      "3    Dr. Goldberg is moving to Arizona to take a ne...      3  \n",
      "4    Dr. Goldberg is only interested in the co-pay ...      0  \n",
      "..                                                 ...    ...  \n",
      "145  Filene's Basement was worth the bus trip to th...      3  \n",
      "146  \"Don't always have much luck with the sales, b...      4  \n",
      "147  There was nothing basement like about it. What...      1  \n",
      "148  $9.75 for a red bull and vodka? I'm sorry, I t...      1  \n",
      "149  The drinks were on the pricey side, but I didn...      2  \n",
      "\n",
      "[150 rows x 3 columns]\n"
     ]
    }
   ],
   "source": [
    "from transformers import pipeline\n",
    "from datasets import load_dataset\n",
    "import pandas as pd\n",
    "import torch\n",
    "\n",
    "# Create a text summarization pipeline using the BART model\n",
    "summarizer = pipeline(\"summarization\", model=\"facebook/bart-large-cnn\")\n",
    "\n",
    "# Initialize an empty list to store summaries\n",
    "summaries = []\n",
    "\n",
    "# Dynamically adjust max_length and summarize the text\n",
    "for text in df['text'].iloc[:150].tolist():\n",
    "    input_length = len(text.split())  # Estimate the number of words in the input\n",
    "    max_length = min(130, max(30, int(input_length * 0.5)))  # Dynamically adjust max_length\n",
    "    summary = summarizer(text, max_length=max_length, min_length=30, truncation=True)[0]['summary_text']\n",
    "    summaries.append(summary)\n",
    "\n",
    "# Create a new dataframe to store the original texts and their summaries\n",
    "# Make sure to also copy the star rating information, assuming in the original dataset the star rating is stored in the 'label' column\n",
    "df_summary = df.iloc[:150].copy()  # Copy the first 150 rows\n",
    "df_summary['summary'] = summaries  # Add the summaries to the new dataframe\n",
    "df_summary['stars'] = df['label'].iloc[:150]  # Copy the corresponding star ratings\n",
    "\n",
    "print(df_summary[['text', 'summary', 'stars']])"
   ]
  },
  {
   "cell_type": "markdown",
   "metadata": {},
   "source": [
    "Data Preparation"
   ]
  },
  {
   "cell_type": "code",
   "execution_count": 19,
   "metadata": {},
   "outputs": [],
   "source": [
    "from sklearn.model_selection import train_test_split\n",
    "from transformers import BertTokenizerFast, BertForSequenceClassification, Trainer, TrainingArguments\n",
    "from torch.utils.data import Dataset\n",
    "import numpy as np\n",
    "import torch\n",
    "\n",
    "class YelpReviewDataset(Dataset):\n",
    "    def __init__(self, encodings, labels):\n",
    "        self.encodings = encodings\n",
    "        self.labels = labels   # Convert labels from 1-5 to 0-4\n",
    "\n",
    "    def __getitem__(self, idx):\n",
    "        item = {key: torch.tensor(val[idx]) for key, val in self.encodings.items()}\n",
    "        item['labels'] = torch.tensor(self.labels[idx], dtype=torch.long)\n",
    "        return item\n",
    "\n",
    "    def __len__(self):\n",
    "        return len(self.labels)\n",
    "\n",
    "# Prepare the data\n",
    "tokenizer = BertTokenizerFast.from_pretrained('bert-base-uncased')\n",
    "X = df_summary['summary'].tolist()  # Summary texts\n",
    "y = df_summary['stars'].to_numpy()  # Star ratings\n",
    "\n",
    "X_train, X_val, y_train, y_val = train_test_split(X, y, test_size=0.2, random_state=2021)\n",
    "\n",
    "train_encodings = tokenizer(X_train, truncation=True, padding=True, max_length=512)\n",
    "val_encodings = tokenizer(X_val, truncation=True, padding=True, max_length=512)\n",
    "\n",
    "train_dataset = YelpReviewDataset(train_encodings, y_train)\n",
    "val_dataset = YelpReviewDataset(val_encodings, y_val)\n"
   ]
  },
  {
   "cell_type": "markdown",
   "metadata": {},
   "source": [
    "Model Definition, Training and Evaluation."
   ]
  },
  {
   "cell_type": "code",
   "execution_count": 20,
   "metadata": {},
   "outputs": [
    {
     "name": "stderr",
     "output_type": "stream",
     "text": [
      "Some weights of BertForSequenceClassification were not initialized from the model checkpoint at bert-base-uncased and are newly initialized: ['classifier.bias', 'classifier.weight']\n",
      "You should probably TRAIN this model on a down-stream task to be able to use it for predictions and inference.\n",
      "C:\\Users\\Yue\\AppData\\Local\\Packages\\PythonSoftwareFoundation.Python.3.10_qbz5n2kfra8p0\\LocalCache\\local-packages\\Python310\\site-packages\\accelerate\\accelerator.py:436: FutureWarning: Passing the following arguments to `Accelerator` is deprecated and will be removed in version 1.0 of Accelerate: dict_keys(['dispatch_batches', 'split_batches', 'even_batches', 'use_seedable_sampler']). Please pass an `accelerate.DataLoaderConfiguration` instead: \n",
      "dataloader_config = DataLoaderConfiguration(dispatch_batches=None, split_batches=False, even_batches=True, use_seedable_sampler=True)\n",
      "  warnings.warn(\n",
      "  0%|          | 0/45 [24:05<?, ?it/s]\n",
      "                                      \n",
      "  0%|          | 0/45 [18:57<?, ?it/s]         "
     ]
    },
    {
     "name": "stdout",
     "output_type": "stream",
     "text": [
      "{'loss': 1.653, 'grad_norm': 5.85977840423584, 'learning_rate': 1.0000000000000002e-06, 'epoch': 0.67}\n"
     ]
    },
    {
     "name": "stderr",
     "output_type": "stream",
     "text": [
      "                                      \n",
      "  0%|          | 0/45 [19:48<?, ?it/s]         "
     ]
    },
    {
     "name": "stdout",
     "output_type": "stream",
     "text": [
      "{'loss': 1.6375, 'grad_norm': 6.079554080963135, 'learning_rate': 2.0000000000000003e-06, 'epoch': 1.33}\n"
     ]
    },
    {
     "name": "stderr",
     "output_type": "stream",
     "text": [
      "                                      \n",
      "  0%|          | 0/45 [20:38<?, ?it/s]         "
     ]
    },
    {
     "name": "stdout",
     "output_type": "stream",
     "text": [
      "{'loss': 1.6171, 'grad_norm': 4.7647199630737305, 'learning_rate': 3e-06, 'epoch': 2.0}\n"
     ]
    },
    {
     "name": "stderr",
     "output_type": "stream",
     "text": [
      "                                      \n",
      "  0%|          | 0/45 [21:27<?, ?it/s]         "
     ]
    },
    {
     "name": "stdout",
     "output_type": "stream",
     "text": [
      "{'loss': 1.6226, 'grad_norm': 6.65775728225708, 'learning_rate': 4.000000000000001e-06, 'epoch': 2.67}\n"
     ]
    },
    {
     "name": "stderr",
     "output_type": "stream",
     "text": [
      "                                      \n",
      "100%|██████████| 45/45 [03:43<00:00,  4.97s/it]\n"
     ]
    },
    {
     "name": "stdout",
     "output_type": "stream",
     "text": [
      "{'train_runtime': 223.4901, 'train_samples_per_second': 1.611, 'train_steps_per_second': 0.201, 'train_loss': 1.6244254642062717, 'epoch': 3.0}\n"
     ]
    },
    {
     "name": "stderr",
     "output_type": "stream",
     "text": [
      "100%|██████████| 4/4 [00:03<00:00,  1.24it/s]\n"
     ]
    },
    {
     "data": {
      "text/plain": [
       "{'eval_loss': 1.6399976015090942,\n",
       " 'eval_runtime': 4.3772,\n",
       " 'eval_samples_per_second': 6.854,\n",
       " 'eval_steps_per_second': 0.914,\n",
       " 'epoch': 3.0}"
      ]
     },
     "execution_count": 20,
     "metadata": {},
     "output_type": "execute_result"
    }
   ],
   "source": [
    "model = BertForSequenceClassification.from_pretrained('bert-base-uncased', num_labels=5)\n",
    "\n",
    "training_args = TrainingArguments(\n",
    "    output_dir='./results',\n",
    "    num_train_epochs=3,\n",
    "    per_device_train_batch_size=8,\n",
    "    per_device_eval_batch_size=8,\n",
    "    warmup_steps=500,\n",
    "    weight_decay=0.01,\n",
    "    logging_dir='./logs',\n",
    "    logging_steps=10,\n",
    ")\n",
    "\n",
    "trainer = Trainer(\n",
    "    model=model,\n",
    "    args=training_args,\n",
    "    train_dataset=train_dataset,\n",
    "    eval_dataset=val_dataset\n",
    ")\n",
    "\n",
    "trainer.train()\n",
    "trainer.evaluate()"
   ]
  },
  {
   "cell_type": "markdown",
   "metadata": {},
   "source": [
    "\n",
    "### Result List\n",
    "5   'train_loss': 1.1762760480244954 'eval_loss': 1.5997843742370605\n",
    "\n",
    "15  'train_loss': 1.3541520436604817 'eval_loss': 0.7361515164375305\n",
    "\n",
    "30  'train_loss': 1.2990621990627713 'eval_loss': 1.175505518913269\n",
    "\n",
    "100 'train_loss': 1.2386985460917155 'eval_loss': 1.1782324314117432\n",
    "\n",
    "150 'train_loss': 1.1339557965596516 'eval_loss': 1.2087987661361694\n",
    "\n",
    "The second result in the list shows an intriguing case where the evaluation loss is significantly lower than the training loss. This is an unusual scenario in machine learning models because typically, the training loss is lower due to the model being directly trained on that data. Here, an eval_loss of 0.736 compared to a train_loss of 1.354 suggests a few possible scenarios:\n",
    "\n",
    "Strong Generalization: The model may generalize exceptionally well to the validation data, possibly because the validation set characteristics closely match the model's training data, or the model has learned robust features that work well across varied data samples.\n",
    "\n",
    "Data Distribution: The distribution of data in the training set might be more challenging or diverse compared to the evaluation set, which can lead to higher training loss.\n",
    "\n",
    "Evaluation Set Size: If the evaluation set is significantly smaller or not as diverse, it might not represent the difficulty of the overall dataset, leading to a deceptively low evaluation loss.\n",
    "\n",
    "Overfitting Avoidance: It's also possible that certain regularization techniques or early stopping mechanisms were effective in preventing the model from overfitting, hence the model performs better on unseen data.\n",
    "\n",
    "Random Variation: Especially with smaller datasets, random variation can sometimes lead to situations where evaluation loss is lower than training loss.\n",
    "\n",
    "### The number 300 is used to specify the number of text entries from the Yelp review dataset that we want to process.\n",
    "\n",
    "1.Data Selection: df['text'].iloc[:300].tolist() – This line selects the first 300 entries from the 'text' column of the dataframe df. The .iloc[:300] is an indexing operation used in pandas to select data by position. Here, it slices the first 300 rows of the dataframe.\n",
    "\n",
    "2.Summarization Process: The loop for text in df['text'].iloc[:300].tolist() iterates over each of the first 300 text entries. For each text, the script estimates the input length, adjusts the maximum summary length accordingly, and then generates a summary using the BART model.\n",
    "\n",
    "### Ideal Range\n",
    "\n",
    "Close to 0 but not 0: Ideally, the loss value should be close to 0, which indicates that the model's predictions are very close to the actual labels. However, a loss value of 0 might suggest that the model is overfitting on the training set, perfectly memorizing the training data, which could lead to poor performance on unseen data.\n",
    "\n",
    "Eval loss close to train loss: If the evaluation loss (eval_loss) and training loss (train_loss) are very close, it is usually a good sign, indicating that the model performs consistently on both the training and validation sets, demonstrating good generalization ability.\n",
    "\n",
    "### Specific Range\n",
    "\n",
    "Loss value: The specific range of loss values greatly depends on the characteristics of the dataset and the complexity of the model. For some tasks, such as simple classification problems, the loss value might be between 0.01 and 0.5. For more complex tasks or more challenging datasets, the loss value might range from 1 to 10, or even higher.\n",
    "\n",
    "Difference: The difference between the training loss and evaluation loss should be as small as possible. A good rule of thumb is that the difference should not exceed 10% to 20% of the training loss. For example, if the train_loss is 0.5, the eval_loss should ideally be between 0.5 and 0.6.\n",
    "\n",
    "### Loss Values in Our Model\n",
    "\n",
    "Training Loss (train_loss) of 1.1339557965596516: This indicates the average degree of error the model has when recognizing patterns in the training data. For a complex NLP task, this value might be considered reasonable in the initial stages, especially considering the use of a large pre-trained model and a complex dataset.\n",
    "\n",
    "Evaluation Loss (eval_loss) of 1.2087987661361694: This is slightly higher than the training loss. Such a scenario is common in machine learning models, as the evaluation loss represents the model's performance on unseen data, which is usually slightly higher than the training loss.\n",
    "\n",
    "### Judging Whether Loss Values are \"High\" or \"Low\"\n",
    "\n",
    "Generally, for text classification tasks, if both training and evaluation losses are below 1.0, this is usually considered good performance. However, even if loss values are between 1.0 and 2.0, this may still be acceptable performance depending on the task's complexity and the characteristics of the dataset.\n",
    "\n",
    "It's important to monitor how loss values change with training progress. Ideally, you would want to see both training and evaluation losses gradually decrease as the number of epochs increases, and the gap between them should not significantly widen over time, as this may indicate overfitting.\n",
    "\n",
    "## 3.b. Zero-Shot Classification"
   ]
  },
  {
   "cell_type": "code",
   "execution_count": null,
   "metadata": {},
   "outputs": [],
   "source": [
    "#randly select 100 samples\n",
    "df = df.sample(100)\n",
    "print(df)"
   ]
  },
  {
   "cell_type": "code",
   "execution_count": 21,
   "metadata": {},
   "outputs": [],
   "source": [
    "import pandas as pd\n",
    "# Manually add categories to each review and import the dataset\n",
    "df = pd.read_csv('yelp_review_full.csv')\n",
    "# Define categories\n",
    "classes = [\"Restaurants\", \"Bars\", \"Coffee Shops\", \"Hotels\", \"Salons/Barbershops\",\n",
    "           \"Auto Repair\", \"Home Services\", \"Medical Services\", \"Entertainment\", \"Pet Services\",\n",
    "           \"Financial Services\", \"Travel & Tourism\", \"Education\", \"Real Estate\", \"Fitness\",\n",
    "           \"Landscaping & Gardening Services\", \"Legal Services\", \"Photography Services\",\n",
    "           \"Childcare Services\", \"Computer & Technology Services\"]"
   ]
  },
  {
   "cell_type": "markdown",
   "metadata": {},
   "source": [
    "Model process"
   ]
  },
  {
   "cell_type": "code",
   "execution_count": 22,
   "metadata": {},
   "outputs": [
    {
     "name": "stdout",
     "output_type": "stream",
     "text": [
      "   label                                               text  \\\n",
      "0      4  I've been going here for about 4 yrs.Cleanest ...   \n",
      "1      1  We've wanted to try Thai E-San since they open...   \n",
      "2      0  The food is ok but the service is terrible!!!!...   \n",
      "3      3  There's typically a 15-20 minute wait when we ...   \n",
      "4      3  Five guys offers a basic selection of burgers,...   \n",
      "\n",
      "      Manual_Category         model1  \n",
      "0  Salons/Barbershops  Entertainment  \n",
      "1         Restaurants    Restaurants  \n",
      "2         Restaurants    Restaurants  \n",
      "3         Restaurants    Restaurants  \n",
      "4         Restaurants    Restaurants  \n"
     ]
    }
   ],
   "source": [
    "from transformers import pipeline\n",
    "\n",
    "# Model 1: facebook/bart-large-mnli\n",
    "classifier_1 = pipeline(\"zero-shot-classification\", model=\"facebook/bart-large-mnli\")\n",
    "def model1_review(text):\n",
    "    result = classifier_1(text, candidate_labels=classes, multi_label=True)\n",
    "    return result['labels'][0]  # Returning the top category\n",
    "\n",
    "# Apply the function to each review in the DataFrame\n",
    "df['model1'] = df['text'].apply(model1_review)\n",
    "print(df.head())"
   ]
  },
  {
   "cell_type": "code",
   "execution_count": 23,
   "metadata": {},
   "outputs": [
    {
     "name": "stderr",
     "output_type": "stream",
     "text": [
      "You are using a model of type T5 to instantiate a model of type t5. This is not supported for all configurations of models and can yield errors.\n",
      "You are using the default legacy behaviour of the <class 'transformers.models.t5.tokenization_t5.T5Tokenizer'>. This is expected, and simply means that the `legacy` (previous) behavior will be used so nothing changes for you. If you want to use the new behaviour, set `legacy=False`. This should only be set if you understand what it means, and thoroughly read the reason why this was added as explained in https://github.com/huggingface/transformers/pull/24565\n",
      "Asking to truncate to max_length but no maximum length is provided and the model has no predefined maximum length. Default to no truncation.\n"
     ]
    },
    {
     "name": "stdout",
     "output_type": "stream",
     "text": [
      "   label                                               text  \\\n",
      "0      4  I've been going here for about 4 yrs.Cleanest ...   \n",
      "1      1  We've wanted to try Thai E-San since they open...   \n",
      "2      0  The food is ok but the service is terrible!!!!...   \n",
      "3      3  There's typically a 15-20 minute wait when we ...   \n",
      "4      3  Five guys offers a basic selection of burgers,...   \n",
      "\n",
      "      Manual_Category         model1         model2  \n",
      "0  Salons/Barbershops  Entertainment  Home Services  \n",
      "1         Restaurants    Restaurants   Pet Services  \n",
      "2         Restaurants    Restaurants    Restaurants  \n",
      "3         Restaurants    Restaurants    Restaurants  \n",
      "4         Restaurants    Restaurants    Restaurants  \n"
     ]
    }
   ],
   "source": [
    "# Model 2: knowledgator/comprehend_it-multilingual-t5-base\n",
    "# pip install liqfit sentencepiece\n",
    "from liqfit.pipeline import ZeroShotClassificationPipeline\n",
    "from liqfit.models import T5ForZeroShotClassification\n",
    "from transformers import T5Tokenizer\n",
    "\n",
    "model = T5ForZeroShotClassification.from_pretrained('knowledgator/comprehend_it-multilingual-t5-base')\n",
    "tokenizer = T5Tokenizer.from_pretrained('knowledgator/comprehend_it-multilingual-t5-base')\n",
    "classifier_2 = ZeroShotClassificationPipeline(model=model, tokenizer=tokenizer,\n",
    "                                                      hypothesis_template = '{}', encoder_decoder = True)\n",
    "def model2_review(text):\n",
    "    result = classifier_2(text, candidate_labels=classes, multi_label=True)\n",
    "    return result['labels'][0]  # Returning the top category\n",
    "\n",
    "# Apply the function to each review in the DataFrame\n",
    "df['model2'] = df['text'].apply(model2_review)\n",
    "print(df.head())"
   ]
  },
  {
   "cell_type": "code",
   "execution_count": 24,
   "metadata": {},
   "outputs": [
    {
     "name": "stderr",
     "output_type": "stream",
     "text": [
      "C:\\Users\\Yue\\AppData\\Local\\Packages\\PythonSoftwareFoundation.Python.3.10_qbz5n2kfra8p0\\LocalCache\\local-packages\\Python310\\site-packages\\huggingface_hub\\file_download.py:148: UserWarning: `huggingface_hub` cache-system uses symlinks by default to efficiently store duplicated files but your machine does not support them in C:\\Users\\Yue\\.cache\\huggingface\\hub\\models--MoritzLaurer--DeBERTa-v3-base-mnli-fever-anli. Caching files will still work but in a degraded version that might require more space on your disk. This warning can be disabled by setting the `HF_HUB_DISABLE_SYMLINKS_WARNING` environment variable. For more details, see https://huggingface.co/docs/huggingface_hub/how-to-cache#limitations.\n",
      "To support symlinks on Windows, you either need to activate Developer Mode or to run Python as an administrator. In order to see activate developer mode, see this article: https://docs.microsoft.com/en-us/windows/apps/get-started/enable-your-device-for-development\n",
      "  warnings.warn(message)\n"
     ]
    },
    {
     "name": "stdout",
     "output_type": "stream",
     "text": [
      "WARNING:tensorflow:From C:\\Users\\Yue\\AppData\\Local\\Packages\\PythonSoftwareFoundation.Python.3.10_qbz5n2kfra8p0\\LocalCache\\local-packages\\Python310\\site-packages\\keras\\src\\backend.py:873: The name tf.get_default_graph is deprecated. Please use tf.compat.v1.get_default_graph instead.\n",
      "\n"
     ]
    },
    {
     "name": "stderr",
     "output_type": "stream",
     "text": [
      "Some weights of the PyTorch model were not used when initializing the TF 2.0 model TFDebertaV2ForSequenceClassification: ['deberta.embeddings.position_ids']\n",
      "- This IS expected if you are initializing TFDebertaV2ForSequenceClassification from a PyTorch model trained on another task or with another architecture (e.g. initializing a TFBertForSequenceClassification model from a BertForPreTraining model).\n",
      "- This IS NOT expected if you are initializing TFDebertaV2ForSequenceClassification from a PyTorch model that you expect to be exactly identical (e.g. initializing a TFBertForSequenceClassification model from a BertForSequenceClassification model).\n",
      "All the weights of TFDebertaV2ForSequenceClassification were initialized from the PyTorch model.\n",
      "If your task is similar to the task the model of the checkpoint was trained on, you can already use TFDebertaV2ForSequenceClassification for predictions without further training.\n",
      "Asking to truncate to max_length but no maximum length is provided and the model has no predefined maximum length. Default to no truncation.\n"
     ]
    },
    {
     "name": "stdout",
     "output_type": "stream",
     "text": [
      "   label                                               text  \\\n",
      "0      4  I've been going here for about 4 yrs.Cleanest ...   \n",
      "1      1  We've wanted to try Thai E-San since they open...   \n",
      "2      0  The food is ok but the service is terrible!!!!...   \n",
      "3      3  There's typically a 15-20 minute wait when we ...   \n",
      "4      3  Five guys offers a basic selection of burgers,...   \n",
      "\n",
      "      Manual_Category         model1         model2              model3  \n",
      "0  Salons/Barbershops  Entertainment  Home Services  Salons/Barbershops  \n",
      "1         Restaurants    Restaurants   Pet Services         Restaurants  \n",
      "2         Restaurants    Restaurants    Restaurants         Restaurants  \n",
      "3         Restaurants    Restaurants    Restaurants         Restaurants  \n",
      "4         Restaurants    Restaurants    Restaurants         Restaurants  \n"
     ]
    }
   ],
   "source": [
    "# Model 3: MoritzLaurer/DeBERTa-v3-base-mnli-fever-anli\n",
    "# pip install transformers[sentencepiece]\n",
    "from transformers import pipeline\n",
    "classifier_3 = pipeline(\"zero-shot-classification\", model=\"MoritzLaurer/DeBERTa-v3-base-mnli-fever-anli\")\n",
    "def model3_review(text):\n",
    "    result = classifier_3(text, candidate_labels=classes, multi_label=True)\n",
    "    return result['labels'][0]  # Returning the top category\n",
    "\n",
    "# Apply the function to each review in the DataFrame\n",
    "df['model3'] = df['text'].apply(model3_review)\n",
    "print(df.head())"
   ]
  },
  {
   "cell_type": "markdown",
   "metadata": {},
   "source": [
    "Comparison and Accuracy Calculation:"
   ]
  },
  {
   "cell_type": "code",
   "execution_count": 25,
   "metadata": {},
   "outputs": [
    {
     "name": "stdout",
     "output_type": "stream",
     "text": [
      "Accuracy of model 1:  0.61\n",
      "Accuracy of model 2:  0.59\n",
      "Accuracy of model 3:  0.73\n"
     ]
    }
   ],
   "source": [
    "accuracy1 = (df['model1'] == df['Manual_Category']).mean()\n",
    "accuracy2 = (df['model2'] == df['Manual_Category']).mean()\n",
    "accuracy3 = (df['model3'] == df['Manual_Category']).mean()\n",
    "print(\"Accuracy of model 1: \", accuracy1)\n",
    "print(\"Accuracy of model 2: \", accuracy2)\n",
    "print(\"Accuracy of model 3: \", accuracy3)"
   ]
  },
  {
   "cell_type": "markdown",
   "metadata": {},
   "source": [
    "### Model 1: facebook/bart-large-mnli\n",
    "Accuracy: 61%\n",
    "\n",
    "This model uses a combined bidirectional encoder and autoregressive decoder, trained on the MNLI dataset. Its moderate accuracy suggests that while effective at general language tasks, it may not fully capture the specific nuances of Yelp reviews.\n",
    "\n",
    "### Model 2: knowledgator/comprehend_it-multilingual-t5-base\n",
    "Accuracy: 59%\n",
    "\n",
    "Based on the T5 architecture, which processes tasks as text generation in multiple languages, its slightly lower performance might stem from its generalist training which is not specialized enough for the particular characteristics of Yelp reviews.\n",
    "\n",
    "### Model 3: MoritzLaurer/DeBERTa-v3-base-mnli-fever-anli\n",
    "Accuracy: 73%\n",
    "\n",
    "DeBERTa enhances BERT architectures with a novel attention mechanism and is further fine-tuned on datasets aimed at improving inference, resulting in the highest accuracy among the three models. This suggests superior handling of the complex semantics in review texts.\n",
    "\n",
    "\n",
    "In summary, the varying accuracies reflect each model’s architectural strengths and training focus, with DeBERTa standing out due to its advanced inference capabilities and specialized attention mechanism."
   ]
  }
 ],
 "metadata": {
  "kernelspec": {
   "display_name": "CS6120",
   "language": "python",
   "name": "python3"
  },
  "language_info": {
   "codemirror_mode": {
    "name": "ipython",
    "version": 3
   },
   "file_extension": ".py",
   "mimetype": "text/x-python",
   "name": "python",
   "nbconvert_exporter": "python",
   "pygments_lexer": "ipython3",
   "version": "3.10.11"
  }
 },
 "nbformat": 4,
 "nbformat_minor": 2
}
