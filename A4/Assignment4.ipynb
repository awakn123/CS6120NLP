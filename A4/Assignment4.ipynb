{
 "cells": [
  {
   "cell_type": "markdown",
   "metadata": {},
   "source": [
    "# 1.Data Exploration:"
   ]
  },
  {
   "cell_type": "code",
   "execution_count": 1,
   "metadata": {},
   "outputs": [
    {
     "name": "stdout",
     "output_type": "stream",
     "text": [
      "Requirement already satisfied: datasets in /Users/nanchen/anaconda3/lib/python3.11/site-packages (2.12.0)\n",
      "Requirement already satisfied: numpy>=1.17 in /Users/nanchen/anaconda3/lib/python3.11/site-packages (from datasets) (1.24.3)\n",
      "Requirement already satisfied: pyarrow>=8.0.0 in /Users/nanchen/anaconda3/lib/python3.11/site-packages (from datasets) (11.0.0)\n",
      "Requirement already satisfied: dill<0.3.7,>=0.3.0 in /Users/nanchen/anaconda3/lib/python3.11/site-packages (from datasets) (0.3.6)\n",
      "Requirement already satisfied: pandas in /Users/nanchen/anaconda3/lib/python3.11/site-packages (from datasets) (2.2.1)\n",
      "Requirement already satisfied: requests>=2.19.0 in /Users/nanchen/anaconda3/lib/python3.11/site-packages (from datasets) (2.31.0)\n",
      "Requirement already satisfied: tqdm>=4.62.1 in /Users/nanchen/anaconda3/lib/python3.11/site-packages (from datasets) (4.65.0)\n",
      "Requirement already satisfied: xxhash in /Users/nanchen/anaconda3/lib/python3.11/site-packages (from datasets) (2.0.2)\n",
      "Requirement already satisfied: multiprocess in /Users/nanchen/anaconda3/lib/python3.11/site-packages (from datasets) (0.70.14)\n",
      "Requirement already satisfied: fsspec[http]>=2021.11.1 in /Users/nanchen/anaconda3/lib/python3.11/site-packages (from datasets) (2023.4.0)\n",
      "Requirement already satisfied: aiohttp in /Users/nanchen/anaconda3/lib/python3.11/site-packages (from datasets) (3.8.5)\n",
      "Requirement already satisfied: huggingface-hub<1.0.0,>=0.11.0 in /Users/nanchen/anaconda3/lib/python3.11/site-packages (from datasets) (0.15.1)\n",
      "Requirement already satisfied: packaging in /Users/nanchen/anaconda3/lib/python3.11/site-packages (from datasets) (23.1)\n",
      "Requirement already satisfied: responses<0.19 in /Users/nanchen/anaconda3/lib/python3.11/site-packages (from datasets) (0.13.3)\n",
      "Requirement already satisfied: pyyaml>=5.1 in /Users/nanchen/anaconda3/lib/python3.11/site-packages (from datasets) (6.0)\n",
      "Requirement already satisfied: attrs>=17.3.0 in /Users/nanchen/anaconda3/lib/python3.11/site-packages (from aiohttp->datasets) (22.1.0)\n",
      "Requirement already satisfied: charset-normalizer<4.0,>=2.0 in /Users/nanchen/anaconda3/lib/python3.11/site-packages (from aiohttp->datasets) (2.0.4)\n",
      "Requirement already satisfied: multidict<7.0,>=4.5 in /Users/nanchen/anaconda3/lib/python3.11/site-packages (from aiohttp->datasets) (6.0.2)\n",
      "Requirement already satisfied: async-timeout<5.0,>=4.0.0a3 in /Users/nanchen/anaconda3/lib/python3.11/site-packages (from aiohttp->datasets) (4.0.2)\n",
      "Requirement already satisfied: yarl<2.0,>=1.0 in /Users/nanchen/anaconda3/lib/python3.11/site-packages (from aiohttp->datasets) (1.8.1)\n",
      "Requirement already satisfied: frozenlist>=1.1.1 in /Users/nanchen/anaconda3/lib/python3.11/site-packages (from aiohttp->datasets) (1.3.3)\n",
      "Requirement already satisfied: aiosignal>=1.1.2 in /Users/nanchen/anaconda3/lib/python3.11/site-packages (from aiohttp->datasets) (1.2.0)\n",
      "Requirement already satisfied: filelock in /Users/nanchen/anaconda3/lib/python3.11/site-packages (from huggingface-hub<1.0.0,>=0.11.0->datasets) (3.9.0)\n",
      "Requirement already satisfied: typing-extensions>=3.7.4.3 in /Users/nanchen/anaconda3/lib/python3.11/site-packages (from huggingface-hub<1.0.0,>=0.11.0->datasets) (4.11.0)\n",
      "Requirement already satisfied: idna<4,>=2.5 in /Users/nanchen/anaconda3/lib/python3.11/site-packages (from requests>=2.19.0->datasets) (3.4)\n",
      "Requirement already satisfied: urllib3<3,>=1.21.1 in /Users/nanchen/anaconda3/lib/python3.11/site-packages (from requests>=2.19.0->datasets) (1.26.16)\n",
      "Requirement already satisfied: certifi>=2017.4.17 in /Users/nanchen/anaconda3/lib/python3.11/site-packages (from requests>=2.19.0->datasets) (2024.2.2)\n",
      "Requirement already satisfied: six in /Users/nanchen/anaconda3/lib/python3.11/site-packages (from responses<0.19->datasets) (1.16.0)\n",
      "Requirement already satisfied: python-dateutil>=2.8.2 in /Users/nanchen/anaconda3/lib/python3.11/site-packages (from pandas->datasets) (2.8.2)\n",
      "Requirement already satisfied: pytz>=2020.1 in /Users/nanchen/anaconda3/lib/python3.11/site-packages (from pandas->datasets) (2023.3.post1)\n",
      "Requirement already satisfied: tzdata>=2022.7 in /Users/nanchen/anaconda3/lib/python3.11/site-packages (from pandas->datasets) (2023.3)\n",
      "Note: you may need to restart the kernel to use updated packages.\n"
     ]
    },
    {
     "name": "stderr",
     "output_type": "stream",
     "text": [
      "/Users/nanchen/anaconda3/lib/python3.11/site-packages/pandas/core/arrays/masked.py:60: UserWarning: Pandas requires version '1.3.6' or newer of 'bottleneck' (version '1.3.5' currently installed).\n",
      "  from pandas.core import (\n",
      "Found cached dataset parquet (/Users/nanchen/.cache/huggingface/datasets/parquet/yelp_review_full-9c7006f5a2e02666/0.0.0/2a3b91fbd88a2c90d1dbbb32b460cf621d31bd5b05b934492fdef7d8d6f236ec)\n"
     ]
    },
    {
     "data": {
      "application/vnd.jupyter.widget-view+json": {
       "model_id": "b117351394114b0c9859be09b73934a7",
       "version_major": 2,
       "version_minor": 0
      },
      "text/plain": [
       "  0%|          | 0/2 [00:00<?, ?it/s]"
      ]
     },
     "metadata": {},
     "output_type": "display_data"
    }
   ],
   "source": [
    "%pip install datasets\n",
    "from datasets import load_dataset\n",
    "\n",
    "# Load the dataset\n",
    "dataset = load_dataset('yelp_review_full')"
   ]
  },
  {
   "cell_type": "code",
   "execution_count": 2,
   "metadata": {},
   "outputs": [
    {
     "name": "stdout",
     "output_type": "stream",
     "text": [
      "DatasetDict({\n",
      "    train: Dataset({\n",
      "        features: ['label', 'text'],\n",
      "        num_rows: 650000\n",
      "    })\n",
      "    test: Dataset({\n",
      "        features: ['label', 'text'],\n",
      "        num_rows: 50000\n",
      "    })\n",
      "})\n",
      "{'label': [4, 1, 3, 3, 0], 'text': [\"dr. goldberg offers everything i look for in a general practitioner.  he's nice and easy to talk to without being patronizing; he's always on time in seeing his patients; he's affiliated with a top-notch hospital (nyu) which my parents have explained to me is very important in case something happens and you need surgery; and you can get referrals to see specialists without having to see him first.  really, what more do you need?  i'm sitting here trying to think of any complaints i have about him, but i'm really drawing a blank.\", \"Unfortunately, the frustration of being Dr. Goldberg's patient is a repeat of the experience I've had with so many other doctors in NYC -- good doctor, terrible staff.  It seems that his staff simply never answers the phone.  It usually takes 2 hours of repeated calling to get an answer.  Who has time for that or wants to deal with it?  I have run into this problem with many other doctors and I just don't get it.  You have office workers, you have patients with medical needs, why isn't anyone answering the phone?  It's incomprehensible and not work the aggravation.  It's with regret that I feel that I have to give Dr. Goldberg 2 stars.\", \"Been going to Dr. Goldberg for over 10 years. I think I was one of his 1st patients when he started at MHMG. He's been great over the years and is really all about the big picture. It is because of him, not my now former gyn Dr. Markoff, that I found out I have fibroids. He explores all options with you and is very patient and understanding. He doesn't judge and asks all the right questions. Very thorough and wants to be kept in the loop on every aspect of your medical health and your life.\", 'Got a letter in the mail last week that said Dr. Goldberg is moving to Arizona to take a new position there in June.  He will be missed very much.  \\\\n\\\\nI think finding a new doctor in NYC that you actually like might almost be as awful as trying to find a date!', \"I don't know what Dr. Goldberg was like before  moving to Arizona, but let me tell you, STAY AWAY from this doctor and this office. I was going to Dr. Johnson before he left and Goldberg took over when Johnson left. He is not a caring doctor. He is only interested in the co-pay and having you come in for medication refills every month. He will not give refills and could less about patients's financial situations. Trying to get your 90 days mail away pharmacy prescriptions through this guy is a joke. And to make matters even worse, his office staff is incompetent. 90% of the time when you call the office, they'll put you through to a voice mail, that NO ONE ever answers or returns your call. Both my adult children and husband have decided to leave this practice after experiencing such frustration. The entire office has an attitude like they are doing you a favor. Give me a break! Stay away from this doc and the practice. You deserve better and they will not be there when you really need them. I have never felt compelled to write a bad review about anyone until I met this pathetic excuse for a doctor who is all about the money.\"]}\n",
      "   label                                               text\n",
      "0      4  dr. goldberg offers everything i look for in a...\n",
      "1      1  Unfortunately, the frustration of being Dr. Go...\n",
      "2      3  Been going to Dr. Goldberg for over 10 years. ...\n",
      "3      3  Got a letter in the mail last week that said D...\n",
      "4      0  I don't know what Dr. Goldberg was like before...\n"
     ]
    }
   ],
   "source": [
    "print(dataset)\n",
    "print(dataset['train'][:5])\n",
    "df = dataset['train'].to_pandas()\n",
    "print(df.head())"
   ]
  },
  {
   "cell_type": "markdown",
   "metadata": {},
   "source": [
    "The dataset has 650,000 training samples and 50,000 testing samples. Each sample has a 'label' and some 'text'. The 'label' is a number from 0 to 4 that means 1 start to 5 stars and shows how good or bad the review is. The 'text' is the review itself. The next step in the code will create a picture that shows how many samples there are for each label number, both for training and testing. This is to make sure we have a fair mix, which helps build fair and reliable machine learning models."
   ]
  },
  {
   "cell_type": "code",
   "execution_count": 15,
   "metadata": {},
   "outputs": [
    {
     "data": {
      "image/png": "[encoded data removed]",
      "text/plain": [
       "<Figure size 1000x600 with 1 Axes>"
      ]
     },
     "metadata": {},
     "output_type": "display_data"
    },
    {
     "data": {
      "image/png": "[encoded data removed]",
      "text/plain": [
       "<Figure size 1000x600 with 1 Axes>"
      ]
     },
     "metadata": {},
     "output_type": "display_data"
    }
   ],
   "source": [
    "import matplotlib.pyplot as plt\n",
    "import seaborn as sns\n",
    "# Plot the distribution of labels\n",
    "plt.figure(figsize=(10, 6))\n",
    "ax = sns.countplot(data=df, x='label')\n",
    "plt.title('Label Distribution of train data in Yelp Review Dataset')\n",
    "plt.xlabel('Label')\n",
    "plt.ylabel('Count')\n",
    "\n",
    "# Annotate each bar with the count of observations\n",
    "for p in ax.patches:\n",
    "    ax.annotate(f'{p.get_height()}', (p.get_x() + p.get_width() / 2., p.get_height()), \n",
    "                ha = 'center', va = 'center', xytext = (0, 10), \n",
    "                textcoords = 'offset points')\n",
    "\n",
    "plt.xticks(rotation=45)\n",
    "plt.show()\n",
    "\n",
    "df_test = dataset['test'].to_pandas()\n",
    "# Plot the distribution of labels\n",
    "plt.figure(figsize=(10, 6))\n",
    "ax = sns.countplot(data=df_test, x='label')\n",
    "plt.title('Label Distribution of test data in Yelp Review Dataset')\n",
    "plt.xlabel('Label')\n",
    "plt.ylabel('Count')\n",
    "\n",
    "# Annotate each bar with the count of observations\n",
    "for p in ax.patches:\n",
    "    ax.annotate(f'{p.get_height()}', (p.get_x() + p.get_width() / 2., p.get_height()), \n",
    "                ha = 'center', va = 'center', xytext = (0, 10), \n",
    "                textcoords = 'offset points')\n",
    "\n",
    "plt.xticks(rotation=45)\n",
    "plt.show()"
   ]
  },
  {
   "cell_type": "markdown",
   "metadata": {},
   "source": [
    "The two images depict the label distributions in the training and test datasets, respectively. Each chart shows an equal count for all labels, which is crucial for developing unbiased machine learning models with broad applicability. This uniformity ensures that the models trained on this data can learn and evaluate effectively without preference for any particular label."
   ]
  },
  {
   "cell_type": "markdown",
   "metadata": {},
   "source": [
    "# 2. Sentiment Analysis:"
   ]
  },
  {
   "cell_type": "markdown",
   "metadata": {},
   "source": [
    "I have created a new DataFrame based on a random sample of 1000 rows from an existing DataFrame. This new DataFrame contains three columns: ‘sentiment’, 'label' and ‘text’. The ‘sentiment’ column is determined by mapping the original labels to sentiment categories. Specifically, labels ‘0’ and ‘1’ are mapped to ‘Negative’, and labels ‘3’ and ‘4’ are mapped to ‘Positive’. Therefore, each row in the DataFrame represents a text sample, its original label and its corresponding sentiment label. In the randow sample, it flitered out rows woth label ‘2’ as one of the model I choosen does not have ‘Neutral’ sentiment predition."
   ]
  },
  {
   "cell_type": "code",
   "execution_count": 3,
   "metadata": {},
   "outputs": [],
   "source": [
    "# Filter out rows with label 2\n",
    "df = df[df['label'] != 2]"
   ]
  },
  {
   "cell_type": "code",
   "execution_count": 4,
   "metadata": {},
   "outputs": [
    {
     "name": "stdout",
     "output_type": "stream",
     "text": [
      "        label                                               text\n",
      "87408       1  Although I've dined at Lombardino's before and...\n",
      "431412      0  This review is basically for AT & T in general...\n",
      "467836      0  Gestern hatte ich wieder so einen B\\u00f6ckele...\n",
      "637767      4  Have been to this restaurant several times now...\n",
      "209964      4  Solid 5 stars.  I love P.F. Chang's.  I had a ...\n",
      "        label                                               text\n",
      "647041      4  Great place. Perfect for lunch or dinner or ju...\n",
      "31583       1  I came into the restaurant a few days ago and ...\n",
      "478076      0  Done, gone, repossessed!  How you have a semi-...\n",
      "204086      1  This place is okay, not worth the 2.50 per cup...\n",
      "600552      0  My fianc\\u00e9 and I really don't like Olive G...\n"
     ]
    }
   ],
   "source": [
    "# Randomly select 1000 rows from the DataFrame\n",
    "random_sample = df.sample(n=1000, random_state=1)\n",
    "# Print the first five rows\n",
    "print(random_sample.head())\n",
    "# Print the last five rows\n",
    "print(random_sample.tail())"
   ]
  },
  {
   "cell_type": "code",
   "execution_count": 5,
   "metadata": {},
   "outputs": [
    {
     "name": "stdout",
     "output_type": "stream",
     "text": [
      "    index sentiment  label                                               text\n",
      "0   87408  Negative      1  Although I've dined at Lombardino's before and...\n",
      "1  431412  Negative      0  This review is basically for AT & T in general...\n",
      "2  467836  Negative      0  Gestern hatte ich wieder so einen B\\u00f6ckele...\n",
      "3  637767  Positive      4  Have been to this restaurant several times now...\n",
      "4  209964  Positive      4  Solid 5 stars.  I love P.F. Chang's.  I had a ...\n",
      "      index sentiment  label  \\\n",
      "995  647041  Positive      4   \n",
      "996   31583  Negative      1   \n",
      "997  478076  Negative      0   \n",
      "998  204086  Negative      1   \n",
      "999  600552  Negative      0   \n",
      "\n",
      "                                                  text  \n",
      "995  Great place. Perfect for lunch or dinner or ju...  \n",
      "996  I came into the restaurant a few days ago and ...  \n",
      "997  Done, gone, repossessed!  How you have a semi-...  \n",
      "998  This place is okay, not worth the 2.50 per cup...  \n",
      "999  My fianc\\u00e9 and I really don't like Olive G...  \n"
     ]
    }
   ],
   "source": [
    "# Define a function to map the label numbers to sentiment labels\n",
    "def map_label(label):\n",
    "    if label in [0, 1]:\n",
    "        return \"Negative\"\n",
    "    elif label == 2:\n",
    "        return \"Neutral\"\n",
    "    else:  # 3 and 4\n",
    "        return \"Positive\"\n",
    "\n",
    "# Apply the function to the 'label' column to create a new 'sentiment' column\n",
    "random_sample['sentiment'] = random_sample['label'].apply(map_label)\n",
    "\n",
    "# Create a new DataFrame with only 'sentiment' and 'text' columns\n",
    "new_df = random_sample[['sentiment', 'label', 'text' ]].copy()\n",
    "\n",
    "# Reset the index of the new DataFrame, but keep the old index\n",
    "new_df.reset_index(inplace=True)\n",
    "\n",
    "# Print the first five rows\n",
    "print(new_df.head())\n",
    "\n",
    "# Print the last five rows\n",
    "print(new_df.tail())\n"
   ]
  },
  {
   "cell_type": "markdown",
   "metadata": {},
   "source": [
    "In this task, i choose three models: \"cardiffnlp/twitter-roberta-base-sentiment-latest\", \"LiYuan/amazon-review-sentiment-analysis\" and \"distilbert-base-uncased-finetuned-sst-2-english\"."
   ]
  },
  {
   "cell_type": "markdown",
   "metadata": {},
   "source": [
    "### \"cardiffnlp/twitter-roberta-base-sentiment-latest\""
   ]
  },
  {
   "cell_type": "code",
   "execution_count": 6,
   "metadata": {},
   "outputs": [
    {
     "name": "stderr",
     "output_type": "stream",
     "text": [
      "/Users/nanchen/anaconda3/lib/python3.11/site-packages/transformers/utils/generic.py:260: UserWarning: torch.utils._pytree._register_pytree_node is deprecated. Please use torch.utils._pytree.register_pytree_node instead.\n",
      "  torch.utils._pytree._register_pytree_node(\n",
      "Some weights of the model checkpoint at cardiffnlp/twitter-roberta-base-sentiment-latest were not used when initializing RobertaForSequenceClassification: ['roberta.pooler.dense.bias', 'roberta.pooler.dense.weight']\n",
      "- This IS expected if you are initializing RobertaForSequenceClassification from the checkpoint of a model trained on another task or with another architecture (e.g. initializing a BertForSequenceClassification model from a BertForPreTraining model).\n",
      "- This IS NOT expected if you are initializing RobertaForSequenceClassification from the checkpoint of a model that you expect to be exactly identical (initializing a BertForSequenceClassification model from a BertForSequenceClassification model).\n"
     ]
    },
    {
     "name": "stdout",
     "output_type": "stream",
     "text": [
      "     negative  neutral  positive  \\\n",
      "0      0.6432   0.3035    0.0533   \n",
      "1      0.4116   0.5362    0.0522   \n",
      "2      0.0704   0.7087    0.2209   \n",
      "3      0.0034   0.0100    0.9865   \n",
      "4      0.0884   0.1731    0.7385   \n",
      "..        ...      ...       ...   \n",
      "995    0.0027   0.0128    0.9845   \n",
      "996    0.8955   0.0915    0.0130   \n",
      "997    0.8828   0.1080    0.0092   \n",
      "998    0.8441   0.1386    0.0173   \n",
      "999    0.7318   0.2247    0.0435   \n",
      "\n",
      "                                                  text  \n",
      "0    Although I've dined at Lombardino's before and...  \n",
      "1    This review is basically for AT & T in general...  \n",
      "2    Gestern hatte ich wieder so einen B\\u00f6ckele...  \n",
      "3    Have been to this restaurant several times now...  \n",
      "4    Solid 5 stars.  I love P.F. Chang's.  I had a ...  \n",
      "..                                                 ...  \n",
      "995  Great place. Perfect for lunch or dinner or ju...  \n",
      "996  I came into the restaurant a few days ago and ...  \n",
      "997  Done, gone, repossessed!  How you have a semi-...  \n",
      "998  This place is okay, not worth the 2.50 per cup...  \n",
      "999  My fianc\\u00e9 and I really don't like Olive G...  \n",
      "\n",
      "[1000 rows x 4 columns]\n"
     ]
    }
   ],
   "source": [
    "from transformers import AutoModelForSequenceClassification\n",
    "from transformers import TFAutoModelForSequenceClassification\n",
    "from transformers import AutoTokenizer, AutoConfig\n",
    "import numpy as np\n",
    "from scipy.special import softmax\n",
    "import pandas as pd\n",
    "\n",
    "MODEL = f\"cardiffnlp/twitter-roberta-base-sentiment-latest\"\n",
    "tokenizer = AutoTokenizer.from_pretrained(MODEL)\n",
    "config = AutoConfig.from_pretrained(MODEL)\n",
    "\n",
    "# Initialize an empty list to store the outputs\n",
    "results = []\n",
    "\n",
    "# PT\n",
    "model = AutoModelForSequenceClassification.from_pretrained(MODEL)\n",
    "#model.save_pretrained(MODEL)\n",
    "# Iterate over the Yelp reviews in batches\n",
    "for review in random_sample['text']:\n",
    "\n",
    "    # Tokenize the batch of reviews\n",
    "    encoded_input = tokenizer(review, truncation=True, max_length=500, padding=True, return_tensors=\"pt\")\n",
    "\n",
    "\n",
    "    output = model(**encoded_input)\n",
    "    scores = output[0][0].detach().numpy()\n",
    "    scores = softmax(scores)\n",
    "\n",
    "    ranking = np.argsort(scores)\n",
    "    ranking = ranking[::-1]\n",
    "    result = {}\n",
    "    for i in range(scores.shape[0]):\n",
    "        l = config.id2label[ranking[i]]\n",
    "        s = scores[ranking[i]]\n",
    "        result[l] = np.round(float(s), 4)\n",
    "    result[\"text\"] = review\n",
    "    results.append(result)\n",
    "\n",
    "# Convert the output to a dataframe including the text\n",
    "cardiffnlp_df = pd.DataFrame(results)\n",
    "print(cardiffnlp_df)\n",
    "\n"
   ]
  },
  {
   "cell_type": "markdown",
   "metadata": {},
   "source": [
    "I have created a new DataFrame with three columns: ‘label’, ‘score’, and ‘text’. For each row, the ‘label’ column is determined by the sentiment (positive, neutral, or negative) that has the highest score. The ‘score’ column contains the highest score itself, and the ‘text’ column contains the corresponding review text. In other words, for each review, the DataFrame stores the most likely sentiment, the confidence score of that sentiment, and the review text itself."
   ]
  },
  {
   "cell_type": "code",
   "execution_count": 7,
   "metadata": {},
   "outputs": [
    {
     "name": "stdout",
     "output_type": "stream",
     "text": [
      "        label   score                                               text\n",
      "0    negative  0.6432  Although I've dined at Lombardino's before and...\n",
      "1     neutral  0.5362  This review is basically for AT & T in general...\n",
      "2     neutral  0.7087  Gestern hatte ich wieder so einen B\\u00f6ckele...\n",
      "3    positive  0.9865  Have been to this restaurant several times now...\n",
      "4    positive  0.7385  Solid 5 stars.  I love P.F. Chang's.  I had a ...\n",
      "..        ...     ...                                                ...\n",
      "995  positive  0.9845  Great place. Perfect for lunch or dinner or ju...\n",
      "996  negative  0.8955  I came into the restaurant a few days ago and ...\n",
      "997  negative  0.8828  Done, gone, repossessed!  How you have a semi-...\n",
      "998  negative  0.8441  This place is okay, not worth the 2.50 per cup...\n",
      "999  negative  0.7318  My fianc\\u00e9 and I really don't like Olive G...\n",
      "\n",
      "[1000 rows x 3 columns]\n"
     ]
    }
   ],
   "source": [
    "# Initialize an empty list to store the outputs\n",
    "new_results = []\n",
    "\n",
    "# Iterate over the results\n",
    "for result in results:\n",
    "    # Create a new dictionary that only contains the sentiment scores\n",
    "    scores = {k: v for k, v in result.items() if k != 'text'}\n",
    "    # Get the label with the maximum score\n",
    "    max_label = max(scores, key=scores.get)\n",
    "    # Get the maximum score\n",
    "    max_score = scores[max_label]\n",
    "    # Get the text\n",
    "    text = result['text']\n",
    "    # Append the new result to the new_results list\n",
    "    new_results.append({'label': max_label, 'score': max_score, 'text': text})\n",
    "\n",
    "# Convert the output to a dataframe including the text\n",
    "new_cardiffnlp_df = pd.DataFrame(new_results)\n",
    "print(new_cardiffnlp_df)\n",
    "\n"
   ]
  },
  {
   "cell_type": "markdown",
   "metadata": {},
   "source": [
    "### \"LiYuan/amazon-review-sentiment-analysis\""
   ]
  },
  {
   "cell_type": "code",
   "execution_count": 8,
   "metadata": {},
   "outputs": [
    {
     "name": "stderr",
     "output_type": "stream",
     "text": [
      "/Users/nanchen/anaconda3/lib/python3.11/site-packages/transformers/utils/generic.py:260: UserWarning: torch.utils._pytree._register_pytree_node is deprecated. Please use torch.utils._pytree.register_pytree_node instead.\n",
      "  torch.utils._pytree._register_pytree_node(\n"
     ]
    },
    {
     "name": "stdout",
     "output_type": "stream",
     "text": [
      "       label     score                                               text\n",
      "0    2 stars  0.895350  Although I've dined at Lombardino's before and...\n",
      "1     1 star  0.924806  This review is basically for AT & T in general...\n",
      "2    5 stars  0.648529  Gestern hatte ich wieder so einen B\\u00f6ckele...\n",
      "3    5 stars  0.858533  Have been to this restaurant several times now...\n",
      "4    5 stars  0.850267  Solid 5 stars.  I love P.F. Chang's.  I had a ...\n",
      "..       ...       ...                                                ...\n",
      "995  5 stars  0.770085  Great place. Perfect for lunch or dinner or ju...\n",
      "996   1 star  0.552957  I came into the restaurant a few days ago and ...\n",
      "997  5 stars  0.728095  Done, gone, repossessed!  How you have a semi-...\n",
      "998  3 stars  0.825199  This place is okay, not worth the 2.50 per cup...\n",
      "999   1 star  0.369396  My fianc\\u00e9 and I really don't like Olive G...\n",
      "\n",
      "[1000 rows x 3 columns]\n"
     ]
    }
   ],
   "source": [
    "import torch\n",
    "from transformers import DistilBertTokenizer, DistilBertForSequenceClassification\n",
    "import torch.nn.functional as F\n",
    "from transformers import pipeline\n",
    "from transformers import AutoTokenizer, AutoModelForSequenceClassification\n",
    "import pandas as pd\n",
    "\n",
    "tokenizer = AutoTokenizer.from_pretrained(\"LiYuan/amazon-review-sentiment-analysis\")\n",
    "model = AutoModelForSequenceClassification.from_pretrained(\"LiYuan/amazon-review-sentiment-analysis\")\n",
    "\n",
    "# Initialize an empty list to store the outputs\n",
    "results = []\n",
    "\n",
    "for review in random_sample['text']:\n",
    "    # Tokenize the batch of reviews\n",
    "    encoded_input = tokenizer(review, truncation=True, max_length=500, padding=True, return_tensors=\"pt\")\n",
    "    result = {}\n",
    "\n",
    "    with torch.no_grad():\n",
    "        logits = model(**encoded_input).logits\n",
    "\n",
    "    predicted_class_id = logits.argmax().item()\n",
    "    predicted_class_label = model.config.id2label[predicted_class_id]\n",
    "\n",
    "    # Apply softmax to the logits\n",
    "    probabilities = F.softmax(logits, dim=1)\n",
    "\n",
    "    # Get the probability of the predicted class\n",
    "    predicted_class_probability = probabilities[0, predicted_class_id].item()\n",
    "\n",
    "    # Store the review, predicted class label, and probability in the result dictionary\n",
    "    result[\"label\"] = predicted_class_label\n",
    "    result[\"score\"] = predicted_class_probability\n",
    "    result[\"text\"] = review\n",
    "\n",
    "    # Append the result dictionary to the results list\n",
    "    results.append(result)\n",
    "\n",
    "# Convert the output to a dataframe including the text\n",
    "LiYuan_df = pd.DataFrame(results)\n",
    "print(LiYuan_df)\n"
   ]
  },
  {
   "cell_type": "markdown",
   "metadata": {},
   "source": [
    "I have created a new DataFrame with three columns: ‘label’, ‘score’, and ‘text’. The ‘label’ column is determined by the sentiment corresponding to the star rating of each review. For instance, reviews with a rating of ‘5 stars’ or ‘4 stars’ are labeled as ‘Positive’, reviews with a ‘3 stars’ rating are labeled as ‘Neutral’, and those with ‘2 stars’ or ‘1 star’ are labeled as ‘Negative’. The ‘score’ column contains the corresponding sentiment score, and the ‘text’ column contains the review text. Therefore, each row in the DataFrame represents a review, its sentiment label, and the sentiment score."
   ]
  },
  {
   "cell_type": "code",
   "execution_count": 9,
   "metadata": {},
   "outputs": [
    {
     "name": "stdout",
     "output_type": "stream",
     "text": [
      "        label     score                                               text\n",
      "0    Negative  0.895350  Although I've dined at Lombardino's before and...\n",
      "1    Negative  0.924806  This review is basically for AT & T in general...\n",
      "2    Positive  0.648529  Gestern hatte ich wieder so einen B\\u00f6ckele...\n",
      "3    Positive  0.858533  Have been to this restaurant several times now...\n",
      "4    Positive  0.850267  Solid 5 stars.  I love P.F. Chang's.  I had a ...\n",
      "..        ...       ...                                                ...\n",
      "995  Positive  0.770085  Great place. Perfect for lunch or dinner or ju...\n",
      "996  Negative  0.552957  I came into the restaurant a few days ago and ...\n",
      "997  Positive  0.728095  Done, gone, repossessed!  How you have a semi-...\n",
      "998   Neutral  0.825199  This place is okay, not worth the 2.50 per cup...\n",
      "999  Negative  0.369396  My fianc\\u00e9 and I really don't like Olive G...\n",
      "\n",
      "[1000 rows x 3 columns]\n"
     ]
    }
   ],
   "source": [
    "# Define a function to map star ratings to sentiment labels\n",
    "def map_label(label):\n",
    "    if label in [\"5 stars\", \"4 stars\"]:\n",
    "        return \"Positive\"\n",
    "    elif label == \"3 stars\":\n",
    "        return \"Neutral\"\n",
    "    else:  # \"2 stars\" and \"1 star\"\n",
    "        return \"Negative\"\n",
    "\n",
    "# Initialize an empty list to store the outputs\n",
    "new_results = []\n",
    "\n",
    "for result in results:\n",
    "    # Map the star rating to a sentiment label\n",
    "    new_label = map_label(result[\"label\"])\n",
    "    # Store the review, new sentiment label, and probability in the result dictionary\n",
    "    new_result = {\"label\": new_label, \"score\": result[\"score\"], \"text\": result[\"text\"]}\n",
    "    # Append the new result dictionary to the new_results list\n",
    "    new_results.append(new_result)\n",
    "\n",
    "# Convert the output to a dataframe including the text\n",
    "new_LiYuan_df = pd.DataFrame(new_results)\n",
    "print(new_LiYuan_df)\n"
   ]
  },
  {
   "cell_type": "markdown",
   "metadata": {},
   "source": [
    "### \"distilbert-base-uncased-finetuned-sst-2-english\""
   ]
  },
  {
   "cell_type": "code",
   "execution_count": 10,
   "metadata": {},
   "outputs": [
    {
     "name": "stdout",
     "output_type": "stream",
     "text": [
      "        label     score                                               text\n",
      "0    NEGATIVE  0.999523  Although I've dined at Lombardino's before and...\n",
      "1    NEGATIVE  0.999587  This review is basically for AT & T in general...\n",
      "2    NEGATIVE  0.995537  Gestern hatte ich wieder so einen B\\u00f6ckele...\n",
      "3    POSITIVE  0.999798  Have been to this restaurant several times now...\n",
      "4    POSITIVE  0.983273  Solid 5 stars.  I love P.F. Chang's.  I had a ...\n",
      "..        ...       ...                                                ...\n",
      "995  POSITIVE  0.999824  Great place. Perfect for lunch or dinner or ju...\n",
      "996  NEGATIVE  0.997701  I came into the restaurant a few days ago and ...\n",
      "997  NEGATIVE  0.999292  Done, gone, repossessed!  How you have a semi-...\n",
      "998  NEGATIVE  0.998770  This place is okay, not worth the 2.50 per cup...\n",
      "999  NEGATIVE  0.978287  My fianc\\u00e9 and I really don't like Olive G...\n",
      "\n",
      "[1000 rows x 3 columns]\n",
      "label\n",
      "NEGATIVE    522\n",
      "POSITIVE    478\n",
      "Name: count, dtype: int64\n"
     ]
    }
   ],
   "source": [
    "import torch\n",
    "from transformers import DistilBertTokenizer, DistilBertForSequenceClassification\n",
    "import torch.nn.functional as F\n",
    "\n",
    "tokenizer = DistilBertTokenizer.from_pretrained(\"distilbert-base-uncased-finetuned-sst-2-english\")\n",
    "model = DistilBertForSequenceClassification.from_pretrained(\"distilbert-base-uncased-finetuned-sst-2-english\")\n",
    "\n",
    "# Initialize an empty list to store the outputs\n",
    "results = []\n",
    "\n",
    "for review in random_sample['text']:\n",
    "    # Tokenize the batch of reviews\n",
    "    encoded_input = tokenizer(review, truncation=True, max_length=500, padding=True, return_tensors=\"pt\")\n",
    "    result = {}\n",
    "\n",
    "    with torch.no_grad():\n",
    "        logits = model(**encoded_input).logits\n",
    "\n",
    "    predicted_class_id = logits.argmax().item()\n",
    "    predicted_class_label = model.config.id2label[predicted_class_id]\n",
    "\n",
    "    # Apply softmax to the logits\n",
    "    probabilities = F.softmax(logits, dim=1)\n",
    "\n",
    "    # Get the probability of the predicted class\n",
    "    predicted_class_probability = probabilities[0, predicted_class_id].item()\n",
    "\n",
    "    # Store the review, predicted class label, and probability in the result dictionary\n",
    "    result[\"label\"] = predicted_class_label\n",
    "    result[\"score\"] = predicted_class_probability\n",
    "    result[\"text\"] = review\n",
    "\n",
    "    # Append the result dictionary to the results list\n",
    "    results.append(result)\n",
    "\n",
    "# Convert the output to a dataframe including the text\n",
    "distilbert_df = pd.DataFrame(results)\n",
    "print(distilbert_df)\n",
    "print(distilbert_df['label'].value_counts())\n",
    "\n"
   ]
  },
  {
   "cell_type": "markdown",
   "metadata": {},
   "source": [
    "### Analyze the overall sentiment distribution and provide insights based on the results."
   ]
  },
  {
   "cell_type": "markdown",
   "metadata": {},
   "source": [
    " I computed the percentage of incorrect predictions made by three sentiment analysis models (new_cardiffnlp_df, new_LiYuan_df, distilbert_df) for each sentiment label (0, 1, 3, 4) in the new_df dataset. I then visualized these percentages using a histogram. The x-axis of the histogram represents the sentiment labels, while the y-axis represents the percentage of incorrect predictions. Each sentiment label on the x-axis has three corresponding bars on the histogram, each representing the percentage of incorrect predictions made by one of the three models."
   ]
  },
  {
   "cell_type": "code",
   "execution_count": 11,
   "metadata": {},
   "outputs": [
    {
     "name": "stdout",
     "output_type": "stream",
     "text": [
      "Incorrect count for each model:\n",
      "\n",
      "   Label  cardiffnlp_model  LiYuan_model  distilbert_model\n",
      "0      0                50            38                 5\n",
      "1      1               100           113                29\n",
      "2      3                31            10                41\n",
      "3      4                15             3                19\n",
      "4  Total               196           164                94\n",
      "\n",
      "Incorrect precentage for each model:\n",
      "\n",
      "   Label  cardiffnlp_model  LiYuan_model  distilbert_model\n",
      "0      0         25.510204     23.170732          5.319149\n",
      "1      1         51.020408     68.902439         30.851064\n",
      "2      3         15.816327      6.097561         43.617021\n",
      "3      4          7.653061      1.829268         20.212766\n"
     ]
    },
    {
     "data": {
      "image/png": "[encoded data removed]",
      "text/plain": [
       "<Figure size 640x480 with 1 Axes>"
      ]
     },
     "metadata": {},
     "output_type": "display_data"
    }
   ],
   "source": [
    "import pandas as pd\n",
    "import matplotlib.pyplot as plt\n",
    "import numpy as np\n",
    "\n",
    "\n",
    "# These are the true sentiments of the reviews\n",
    "true_sentiments = new_df['sentiment'].str.lower()\n",
    "\n",
    "# These are the labels predicted by the three models\n",
    "predicted_labels_model1 = new_cardiffnlp_df['label'].str.lower()\n",
    "predicted_labels_model2 = new_LiYuan_df['label'].str.lower()\n",
    "predicted_labels_model3 = distilbert_df['label'].str.lower()\n",
    "\n",
    "# Initialize counters for each model\n",
    "incorrect_counts_model1 = {0: 0, 1: 0, 3: 0, 4: 0}\n",
    "incorrect_counts_model2 = {0: 0, 1: 0, 3: 0, 4: 0}\n",
    "incorrect_counts_model3 = {0: 0, 1: 0, 3: 0, 4: 0}\n",
    "\n",
    "# Iterate over the reviews\n",
    "for i, true_sentiment in enumerate(true_sentiments):\n",
    "    if true_sentiment != 'neutral':\n",
    "        # Get the predictions of the three models\n",
    "        pred1, pred2, pred3 = predicted_labels_model1[i], predicted_labels_model2[i], predicted_labels_model3[i]\n",
    "        # If any of the predictions is incorrect\n",
    "        if true_sentiment != pred1:\n",
    "            incorrect_counts_model1[new_df['label'][i]] += 1\n",
    "        if true_sentiment != pred2:\n",
    "            incorrect_counts_model2[new_df['label'][i]] += 1\n",
    "        if true_sentiment != pred3:\n",
    "            incorrect_counts_model3[new_df['label'][i]] += 1\n",
    "\n",
    "# Calculate total number of incorrent labels for each model\n",
    "total_incorrect_counts_model1 = sum(incorrect_counts_model1.values())\n",
    "total_incorrect_counts_model2 = sum(incorrect_counts_model2.values())\n",
    "total_incorrect_counts_model3 = sum(incorrect_counts_model3.values())\n",
    "\n",
    "# Calculate the percentage of incorrect predictions for each model\n",
    "percentage_incorrect_model1 = {k: (v / total_incorrect_counts_model1) * 100 for k, v in incorrect_counts_model1.items()}\n",
    "percentage_incorrect_model2 = {k: (v / total_incorrect_counts_model2) * 100 for k, v in incorrect_counts_model2.items()}\n",
    "percentage_incorrect_model3 = {k: (v / total_incorrect_counts_model3) * 100 for k, v in incorrect_counts_model3.items()}\n",
    "\n",
    "# Create a DataFrame to store the results\n",
    "results_df = pd.DataFrame({\n",
    "    'Label': [0, 1, 3, 4],\n",
    "    'cardiffnlp_model': [incorrect_counts_model1[i] for i in [0, 1, 3, 4]],\n",
    "    'LiYuan_model': [incorrect_counts_model2[i] for i in [0, 1, 3, 4]],\n",
    "    'distilbert_model': [incorrect_counts_model3[i] for i in [0, 1, 3, 4]]\n",
    "})\n",
    "\n",
    "# Create a new DataFrame with the total percentages\n",
    "total_df = pd.DataFrame({\n",
    "    'Label': ['Total'],\n",
    "    'cardiffnlp_model': [total_incorrect_counts_model1],\n",
    "    'LiYuan_model': [total_incorrect_counts_model2],\n",
    "    'distilbert_model': [total_incorrect_counts_model3]\n",
    "})\n",
    "\n",
    "# Append the new DataFrame to the original DataFrame\n",
    "results_df1 = pd.concat([results_df, total_df], ignore_index=True)\n",
    "print(\"Incorrect count for each model:\")\n",
    "print()\n",
    "print(results_df1)\n",
    "print()\n",
    "\n",
    "percentage_incorrect_results_df = pd.DataFrame({\n",
    "    'Label': [0, 1, 3, 4],\n",
    "    'cardiffnlp_model': [percentage_incorrect_model1[i] for i in [0, 1, 3, 4]],\n",
    "    'LiYuan_model': [percentage_incorrect_model2[i] for i in [0, 1, 3, 4]],\n",
    "    'distilbert_model': [percentage_incorrect_model3[i] for i in [0, 1, 3, 4]]\n",
    "})\n",
    "print(\"Incorrect precentage for each model:\")\n",
    "print()\n",
    "print(percentage_incorrect_results_df)\n",
    "\n",
    "\n",
    "# Plot a histogram of the results\n",
    "ax = percentage_incorrect_results_df.plot(x='Label', y=['cardiffnlp_model', 'LiYuan_model', 'distilbert_model'], kind='bar')\n",
    "plt.ylabel('Percentage of Incorrect Predictions')\n",
    "plt.title('Comparison of Model Performance')\n",
    "\n",
    "# Add data labels above each bar\n",
    "for p in ax.patches:\n",
    "    ax.annotate(format(p.get_height(), '.1f'), \n",
    "                   (p.get_x() + p.get_width() / 2., p.get_height()), \n",
    "                   ha = 'center', va = 'center', \n",
    "                   xytext = (0, 10), \n",
    "                   textcoords = 'offset points')\n",
    "\n",
    "plt.show()\n",
    "\n"
   ]
  },
  {
   "cell_type": "markdown",
   "metadata": {},
   "source": [
    "1. Sentiment Distribution: \n",
    "\n",
    "    The sentiment labels are distributed across four categories: 0, 1, 3, and 4. In our dataset, labels ‘0’ and ‘1’ are mapped to ‘Negative’, and labels ‘3’ and ‘4’ are mapped to ‘Positive’. This suggests that the dataset includes reviews with both positive and negative sentiments.\n",
    "\n",
    "2. Model Performance: \n",
    "\n",
    "    The three models (new_cardiffnlp_df, new_LiYuan_df, distilbert_df) have varying levels of performance. The distilbert_df model appears to have the lowest overall percentage of incorrect predictions (9.4%), suggesting that it is the most accurate of the three models. The new_cardiffnlp_df and new_LiYuan_df models have higher overall percentages of incorrect predictions (19.6% and 16.4% respectively), indicating that they are less accurate.\n",
    "\n",
    "3. Types of Mistakes: \n",
    "\n",
    "    new_cardiffnlp_df Model: This model has the highest percentage of incorrect predictions for sentiment label ‘1’ (51%), suggesting that it struggles the most with correctly predicting this sentiment. It performs best with sentiment label ‘4’ (7.7% incorrect predictions).\n",
    "\n",
    "    new_LiYuan_df Model: This model also has the highest percentage of incorrect predictions for sentiment label ‘1’ (68.9%), indicating a similar struggle with this sentiment. It performs best with sentiment label ‘4’ (1.8% incorrect predictions).\n",
    "\n",
    "    distilbert_df Model: This model has the highest percentage of incorrect predictions for sentiment label ‘3’ (43.6%), which is different from the other two models. It performs best with sentiment label ‘0’ (5.3% incorrect predictions).\n",
    "\n",
    "In a tournament of the three models, distilbert_df would be the winner due to its lower overall percentage of incorrect predictions. The new_cardiffnlp_df and new_LiYuan_df models seem to struggle the most with predicting negative sentiments, but  performs better regarding positive sentiments. The distilbert_df model performs better regarding negative sentiments but struggle more with predicting positive sentiments.The result also suggests that the new_cardiffnlp_df and new_LiYuan_df models might have difficulty distinguishing between certain sentiments, particularly between ‘0’ and '1' sentiment labels, and for distilbert_df model, it is between ‘1’ and '3' sentiment labels."
   ]
  },
  {
   "cell_type": "code",
   "execution_count": 12,
   "metadata": {},
   "outputs": [
    {
     "name": "stdout",
     "output_type": "stream",
     "text": [
      "Overall sentiment distribution:\n",
      "sentiment\n",
      "positive    504\n",
      "negative    496\n",
      "Name: count, dtype: int64\n",
      "cardiffnlp sentiment distribution:\n",
      "label\n",
      "positive    528\n",
      "negative    361\n",
      "neutral     111\n",
      "Name: count, dtype: int64\n",
      "LiYuan sentiment distribution:\n",
      "label\n",
      "positive    561\n",
      "negative    347\n",
      "neutral      92\n",
      "Name: count, dtype: int64\n",
      "distilbert sentiment distribution:\n",
      "label\n",
      "negative    522\n",
      "positive    478\n",
      "Name: count, dtype: int64\n",
      "\n",
      "Model: cardiffnlp\n",
      "Confusion Matrix:\n",
      "[[458  15  31]\n",
      " [ 70 346  80]\n",
      " [  0   0   0]]\n",
      "Classification Report:\n",
      "              precision    recall  f1-score   support\n",
      "\n",
      "    positive       0.87      0.91      0.89       504\n",
      "    negative       0.96      0.70      0.81       496\n",
      "     neutral       0.00      0.00      0.00         0\n",
      "\n",
      "    accuracy                           0.80      1000\n",
      "   macro avg       0.61      0.54      0.57      1000\n",
      "weighted avg       0.91      0.80      0.85      1000\n",
      "\n",
      "\n",
      "Model: LiYuan\n",
      "Confusion Matrix:\n",
      "[[491   2  11]\n",
      " [ 70 345  81]\n",
      " [  0   0   0]]\n",
      "Classification Report:\n",
      "              precision    recall  f1-score   support\n",
      "\n",
      "    positive       0.88      0.97      0.92       504\n",
      "    negative       0.99      0.70      0.82       496\n",
      "     neutral       0.00      0.00      0.00         0\n",
      "\n",
      "    accuracy                           0.84      1000\n",
      "   macro avg       0.62      0.56      0.58      1000\n",
      "weighted avg       0.93      0.84      0.87      1000\n",
      "\n",
      "\n",
      "Model: distilbert\n",
      "Confusion Matrix:\n",
      "[[444  60   0]\n",
      " [ 34 462   0]\n",
      " [  0   0   0]]\n",
      "Classification Report:\n",
      "              precision    recall  f1-score   support\n",
      "\n",
      "    positive       0.93      0.88      0.90       504\n",
      "    negative       0.89      0.93      0.91       496\n",
      "     neutral       0.00      0.00      0.00         0\n",
      "\n",
      "   micro avg       0.91      0.91      0.91      1000\n",
      "   macro avg       0.60      0.60      0.60      1000\n",
      "weighted avg       0.91      0.91      0.91      1000\n",
      "\n"
     ]
    },
    {
     "name": "stderr",
     "output_type": "stream",
     "text": [
      "/Users/nanchen/anaconda3/lib/python3.11/site-packages/sklearn/metrics/_classification.py:1469: UndefinedMetricWarning: Recall and F-score are ill-defined and being set to 0.0 in labels with no true samples. Use `zero_division` parameter to control this behavior.\n",
      "  _warn_prf(average, modifier, msg_start, len(result))\n",
      "/Users/nanchen/anaconda3/lib/python3.11/site-packages/sklearn/metrics/_classification.py:1469: UndefinedMetricWarning: Recall and F-score are ill-defined and being set to 0.0 in labels with no true samples. Use `zero_division` parameter to control this behavior.\n",
      "  _warn_prf(average, modifier, msg_start, len(result))\n",
      "/Users/nanchen/anaconda3/lib/python3.11/site-packages/sklearn/metrics/_classification.py:1469: UndefinedMetricWarning: Recall and F-score are ill-defined and being set to 0.0 in labels with no true samples. Use `zero_division` parameter to control this behavior.\n",
      "  _warn_prf(average, modifier, msg_start, len(result))\n",
      "/Users/nanchen/anaconda3/lib/python3.11/site-packages/sklearn/metrics/_classification.py:1469: UndefinedMetricWarning: Recall and F-score are ill-defined and being set to 0.0 in labels with no true samples. Use `zero_division` parameter to control this behavior.\n",
      "  _warn_prf(average, modifier, msg_start, len(result))\n",
      "/Users/nanchen/anaconda3/lib/python3.11/site-packages/sklearn/metrics/_classification.py:1469: UndefinedMetricWarning: Recall and F-score are ill-defined and being set to 0.0 in labels with no true samples. Use `zero_division` parameter to control this behavior.\n",
      "  _warn_prf(average, modifier, msg_start, len(result))\n",
      "/Users/nanchen/anaconda3/lib/python3.11/site-packages/sklearn/metrics/_classification.py:1469: UndefinedMetricWarning: Recall and F-score are ill-defined and being set to 0.0 in labels with no true samples. Use `zero_division` parameter to control this behavior.\n",
      "  _warn_prf(average, modifier, msg_start, len(result))\n",
      "/Users/nanchen/anaconda3/lib/python3.11/site-packages/sklearn/metrics/_classification.py:1469: UndefinedMetricWarning: Precision and F-score are ill-defined and being set to 0.0 in labels with no predicted samples. Use `zero_division` parameter to control this behavior.\n",
      "  _warn_prf(average, modifier, msg_start, len(result))\n",
      "/Users/nanchen/anaconda3/lib/python3.11/site-packages/sklearn/metrics/_classification.py:1469: UndefinedMetricWarning: Recall and F-score are ill-defined and being set to 0.0 in labels with no true samples. Use `zero_division` parameter to control this behavior.\n",
      "  _warn_prf(average, modifier, msg_start, len(result))\n",
      "/Users/nanchen/anaconda3/lib/python3.11/site-packages/sklearn/metrics/_classification.py:1469: UndefinedMetricWarning: Precision and F-score are ill-defined and being set to 0.0 in labels with no predicted samples. Use `zero_division` parameter to control this behavior.\n",
      "  _warn_prf(average, modifier, msg_start, len(result))\n",
      "/Users/nanchen/anaconda3/lib/python3.11/site-packages/sklearn/metrics/_classification.py:1469: UndefinedMetricWarning: Recall and F-score are ill-defined and being set to 0.0 in labels with no true samples. Use `zero_division` parameter to control this behavior.\n",
      "  _warn_prf(average, modifier, msg_start, len(result))\n",
      "/Users/nanchen/anaconda3/lib/python3.11/site-packages/sklearn/metrics/_classification.py:1469: UndefinedMetricWarning: Precision and F-score are ill-defined and being set to 0.0 in labels with no predicted samples. Use `zero_division` parameter to control this behavior.\n",
      "  _warn_prf(average, modifier, msg_start, len(result))\n",
      "/Users/nanchen/anaconda3/lib/python3.11/site-packages/sklearn/metrics/_classification.py:1469: UndefinedMetricWarning: Recall and F-score are ill-defined and being set to 0.0 in labels with no true samples. Use `zero_division` parameter to control this behavior.\n",
      "  _warn_prf(average, modifier, msg_start, len(result))\n"
     ]
    }
   ],
   "source": [
    "from sklearn.metrics import confusion_matrix, classification_report\n",
    "\n",
    "# Analyze the overall sentiment distribution\n",
    "print(\"Overall sentiment distribution:\")\n",
    "print(true_sentiments.value_counts())\n",
    "\n",
    "print(\"cardiffnlp sentiment distribution:\")\n",
    "print(predicted_labels_model1.value_counts())\n",
    "\n",
    "print(\"LiYuan sentiment distribution:\")\n",
    "print(predicted_labels_model2.value_counts())\n",
    "\n",
    "print(\"distilbert sentiment distribution:\")\n",
    "print(predicted_labels_model3.value_counts())\n",
    "\n",
    "# Perform a tournament of 3 models and compare results\n",
    "models = { \"cardiffnlp\": predicted_labels_model1, \"LiYuan\": predicted_labels_model2, \"distilbert\": predicted_labels_model3}\n",
    "for model_name, predicted_labels in models.items():\n",
    "    print(f\"\\nModel: {model_name}\")\n",
    "    print(\"Confusion Matrix:\")\n",
    "    print(confusion_matrix(true_sentiments, predicted_labels, labels=[\"positive\", \"negative\", \"neutral\" ]))\n",
    "    print(\"Classification Report:\")\n",
    "    print(classification_report(true_sentiments, predicted_labels, labels=[\"positive\", \"negative\", \"neutral\"]))\n"
   ]
  },
  {
   "cell_type": "markdown",
   "metadata": {},
   "source": [
    "Based on the output, here's an analysis of the sentiment distribution and model performance:\n",
    "\n",
    "1. Sentiment Distribution:\n",
    "    \n",
    "    The overall sentiment distribution in the dataset is almost balanced with a slight skew towards positive reviews.\n",
    "\n",
    "    All three models, cardiffnlp, LiYuan, and distilbert, have predicted more positive sentiments than negative. This could be due to the models being more biased towards predicting positive sentiments, or it could be a reflection of the data they were trained on.\n",
    "\n",
    "2. Model Performance:\n",
    "\n",
    "    cardiffnlp: This model has a high precision for both positive and negative sentiments, indicating that when it predicts a review to be positive or negative, it is usually correct. However, its recall for negative sentiments is relatively low, meaning it often fails to identify negative reviews correctly. It seems to misclassify negative reviews as either positive or neutral.\n",
    "\n",
    "    LiYuan: This model has a very high precision for negative sentiments and a high recall for positive sentiments. This means it is very accurate when it predicts a review to be negative and is good at identifying positive reviews. However, like cardiffnlp, it also struggles with identifying negative reviews correctly, often misclassifying them as positive or neutral.\n",
    "\n",
    "    distilbert: This model has a balanced precision and recall for both positive and negative sentiments, indicating it is good at predicting and identifying both positive and negative reviews. However, it seems to misclassify some positive reviews as negative, as indicated by the lower recall for positive sentiments.\n",
    "\n",
    "3. Types of Mistakes:\n",
    "\n",
    "    cardiffnlp: This model seems to struggle with false negatives for the negative class, i.e., predicting negative sentiments as positive or neutral.\n",
    "\n",
    "    LiYuan: This model also struggles with false negatives for the negative class. It often predicts negative sentiments as positive or neutral.\n",
    "\n",
    "    distilbert: This model's main type of mistake is false negatives for the positive class, i.e., predicting positive sentiments as negative.\n",
    "\n",
    "In conclusion, while all three models have their strengths and weaknesses, distilbert seems to perform the best overall in terms of balanced precision and recall for both positive and negative sentiments. \n",
    "\n",
    "Then i will choose 5 incorrect prediction samples for each model and analyze the types of mistakes each model made regarding the reviewing texts."
   ]
  },
  {
   "cell_type": "code",
   "execution_count": 13,
   "metadata": {},
   "outputs": [
    {
     "name": "stdout",
     "output_type": "stream",
     "text": [
      "\n",
      "LiYuan model:\n",
      "Index: 0\n",
      "True Label: negative\n",
      "Predicted Label: positive\n",
      "Text: I used to like Paradise Bakery a lot more than I do now. They've changed their menu a bunch, and while I appreciate a menu that isn't stagnant, I found myself just staring at their chalk boards unable to find something that sounded appealing. \\n\\nI ended up selecting their avocado Cobb salad and it came with like three chunks of avocado. My full size salad and a medium sized mediocre iced coffee drink ran me almost $15 after tax.\\n\\nNot impressed.\n",
      "\n",
      "Index: 1\n",
      "True Label: negative\n",
      "Predicted Label: positive\n",
      "Text: The only thing I liked about this buffet was the price. Other than that, it was not as good as I thought.\n",
      "\n",
      "Index: 2\n",
      "True Label: negative\n",
      "Predicted Label: positive\n",
      "Text: Visited this Primanti Bros. Last Saturday night when I came to town for a Steelers game. Had never been here before and tried the steak sandwhich. It was not that good for the #2 sandwich in town (I'm assuming). I was told by a cousin who has lived in town for 5 years that it was overrated and found this to be true with the quality of food. \\n\\nOn a positive note the staff was amazing and so was the atmosphere.\n",
      "\n",
      "Index: 3\n",
      "True Label: negative\n",
      "Predicted Label: positive\n",
      "Text: I remember my first experience at a diner: Art Deco-inspired architecture, narrow and long floorplan, jukeboxes, neon signs, quick service, and extremely tasty pancakes with chocolate syrup! Granted I was only 7 or 8 years old then, but I can recall everything (how can I forget the taste of those pancakes?!). Since then, I've been to quite a few diners, including diner-restaurants (i.e. faux diners). I would go particularly on the morning after a night of partying and/or drinking, when I'm feeling too lazy or hung over to cook something decent without burning myself and my kitchen. On these mornings, I would typically order pancakes or omelettes with a side (usually hash browns) and coffee. Honestly, I've never eaten anything other than these breakfast staples at a diner.\\n\\nMy friends and I arranged to have a late brunch one day at Ritters Diner. Now, I didn't have much to eat the night before, so I couldn't wait until we met to have something to eat. So, I came to the diner having already eaten a light breakfast. A quick observation of the diner made me realize that this isn't a traditional diner; instead, it seemed more like a diner-restaurant. Oh well, there was still the service and the food to worry about. We sat down at a booth in the large room in the back of the restaurant. The waitress greeted us and took our drink orders immediately: two cups of coffee and two glasses of water. Several minutes later, we got our coffee and water, but weren't ready to order just yet. We spent several more minutes deciding, and when we were ready, we placed our menus in a neat stack in the center of the table to show that we were ready to order. We waited...and waited...and waited some\n",
      "\n",
      "Index: 4\n",
      "True Label: negative\n",
      "Predicted Label: positive\n",
      "Text: I never review places, but I felt I had to say something about the SLS. My family stayed here for one night on our family vacation. To start, our room smelled like a combination of wet dog, old dumplings and garbage. We then all went to dinner downstairs at Umami Burger, which we thought was delicious until my father, sister, and brother-in-law likely got food poisoning. Needless to say, we canceled our reservation the next day so everyone could be sick in a more peaceful environment. \\n\\nThat being said, I did enjoy their toiletries.\n",
      "\n",
      "\n",
      "cardiffnlp model:\n",
      "Index: 0\n",
      "True Label: negative\n",
      "Predicted Label: positive\n",
      "Text: Admittedly I was unable to actually eat here but my review might explain...\\n\\nWe arrived about 7pm to a pretty full restaurant, good sign that a good meal is ahead. Although there is no sign asking us to wait or seat ourselves, we wait up front to be be sure. After about 5 minutes we decided it must be seat yourself as not one person from the staff, who eyed us several times, approaches us to help. \\n\\nAs I head for one of the three empty tables, a man appears out of the kitchen and says \\\"Can I help you?\\\" \\n\\nSure I reply, we'd like a seat. He replies, \\\"Well sit up front and wait, there are no tables\\\", quickly followed by \\\"did you call ahead? Everybody knows to call ahead, we're a busy place\\\"\\n\\nIt's at that point we decide to liberate ourselves from the rudeness and eat elsewhere. I'm sorry I didn't know the Amore rules, perhaps they should post them somewhere. I'm happy they are so successful but I do draw the line at treating your customers rudely because you're busy.\n",
      "\n",
      "Index: 1\n",
      "True Label: negative\n",
      "Predicted Label: positive\n",
      "Text: It was okay. My husband & I went there last week & neither of us have any real complaints. Everything was okay... the food was mediocre, the service was fine but nothing over the top.\n",
      "\n",
      "Index: 2\n",
      "True Label: negative\n",
      "Predicted Label: positive\n",
      "Text: Bubble tease is one of those things you just have to try. \\nIt's exceedingly popular amongst students here. And for good reason.\\n\\nThe places' atmosphere is thrifty, with random furniture. It has somewhat of a hippie-feel to it. But somehow it works.\\n\\nBubble Tease has a very high novelty factor, and is definitely fun to chill out for a bit with some friends.\n",
      "\n",
      "Index: 3\n",
      "True Label: negative\n",
      "Predicted Label: positive\n",
      "Text: We only went here because they have cheap tables and they're supposed to have food and drink specials.\\n\\nPro's\\nCheap Tables roulette and craps\\nThe bartenders and other staff were busting my balls, loved it\\n\\nCon's\\nThe cocktail waitresses were pretty beat and not very nice. \\nBars that had the food and drink specials were too packed to get in\\ndrinks weren't good\\ndrinks were as expensive as on the strip\\nIt is old and dingy\\nI kept getting carded and when I asked for a wrist band security put it on so tight I lost circulation and had to take it off.\n",
      "\n",
      "Index: 4\n",
      "True Label: negative\n",
      "Predicted Label: positive\n",
      "Text: We've been back twice now since our first visit. The second time, was still pretty good. Went last Sunday, (10/16/11), and it could have been way better. We think that they have started to try to cut costs, and it's showing. Will maybe give it one more try. Maybe.\n",
      "\n",
      "\n",
      "distilbert model:\n",
      "Index: 0\n",
      "True Label: positive\n",
      "Predicted Label: negative\n",
      "Text: I love Presidential. I've used them now 4 times. All of the drivers have been great. They have always been on time. I have modified reservations with no issues. The cars were all new and clean, smelled great. The sound systems were kinda weak, especially in the 12-14 person Escalade. It sounded as if they had no rear speakers. \\n\\nI've done point to point transfers, the airport transfer, and the tour. The tour was fun, but the wasn't really a tour as much as it was a chauffeur to a few places. Luckily I know the city well enough it was not an issue. The champagne is usually warm, and its nothing fancy, but it tasted alright with ice. We had no problem killing the bottles in a few minutes, so it couldn't have been *that* bad. But like I said, its cheap champagne, its a nice touch, but shouldn't play any factor in picking Presidential over a competitor.\\n\\nI have seen some people on Yelp that have had some customer service issues, and i've seen Presidential's response and it does seem to come off a bit abrasive. Hopefully I am never on the receiving end, and a lot of it seems to be people not reading the details,etc, but I do think it could publicly be handled in a more elegant fashion from the companies side.\\n\\nFor me, I wont use any other company in Las Vegas for limo service for my future visits to this wonderful city. It sure beats a rank smelling cabby or fighting to avoid the \\\"Fast route\\\" aka the tunnel.\n",
      "\n",
      "Index: 1\n",
      "True Label: negative\n",
      "Predicted Label: positive\n",
      "Text: I will rate 1. Hotel, 2. Casino, 3. Kids venue, 4. Overall quality\\n1. Hotel rooms are okay 3.5 stars. The elevator system gets (1-generous heavy weighted star). We stay here every year and its the same thing every year. When 10:30 to 11 AM rolls around, everybody is trying to get out of the building, however the elevators are so slow that it takes 40-minutes to get down. By the time it gets to your floor they are already full. If you don't have luggage, take the stairs, but if you do, prepare to wait for a ride and stop on every floor.!! THE ELEVATORS SUCK.!!!!!\\n2. Smokey Casino is okay, nothin special, 3-stars.\\n3. (2-stars) The smokey mid-way is old and could use a overhaul, but my 5-year old son knows no difference and loves it. The circus acts are entertaining too, this is why we come back every year. Very crowded so get used to bumping into folks. Adventure dome is fun too, but pricy. (Not smokey) The rides seem a little old and a little young for my 5-year old, so we didn't spend much time there this year. (3-stars).\\n4. Overall, this place is okay (2-stars), very smokey, pricy food, dirty, old; nice upgraded rooms but getting out during checkout time is a challenge because of the HORRIBLE ELEVATOR system. Circus Circus gets a well deserved 2-stars mostly because of the smokey venue and horrible elevators.\n",
      "\n",
      "Index: 2\n",
      "True Label: positive\n",
      "Predicted Label: negative\n",
      "Text: Did most my Christmas shopping at this TJMaxx Location. Went on a shopping spree and checked off most on my Christmas list! When I got home and unloaded my shopping bags, I realized I was missing 1 shopping bag with the delicate lacy dress. Called them right away and notified that I must have left my package. The lady who helped me was Nadia, and the manager's name I think is Laura. They couldn't find my shopping bag but told me to return, & graciously replaced the dress with another one as long as I have the receipt. Talk about customer service!!!\\n& Great deals as always!\n",
      "\n",
      "Index: 3\n",
      "True Label: positive\n",
      "Predicted Label: negative\n",
      "Text: JAYSUS!!! when will you guys open up in So Cal? In Vegas this weekend, hitting our old haunts...just missed you and could only lick the window out front!! ( ya I licked it! so what?) Had to head back to Big Bad So Cal...sobbing without a cupcake...*sniffle.\n",
      "\n",
      "Index: 4\n",
      "True Label: negative\n",
      "Predicted Label: positive\n",
      "Text: I've been to this location 1/2 dozen times and the food has always been Luke warm . I think today was my last time at this location.\n",
      "\n"
     ]
    }
   ],
   "source": [
    "import random\n",
    "\n",
    "# Set the pandas option to display the full text\n",
    "pd.set_option('display.max_colwidth', None)\n",
    "\n",
    "# Set the random seed\n",
    "random.seed(1)\n",
    "\n",
    "# These are the review texts\n",
    "texts = new_df['text']\n",
    "\n",
    "# Initialize variables to store the DataFrame for each model\n",
    "df_LiYuan = None\n",
    "df_cardiffnlp = None\n",
    "df_distilbert = None\n",
    "\n",
    "for model_name, predicted_labels in models.items():\n",
    "    # Initialize lists to store the samples\n",
    "    sample_true_labels = []\n",
    "    sample_predicted_labels = []\n",
    "    sample_texts = []\n",
    "    \n",
    "    # Get the indices of the incorrect predictions\n",
    "    incorrect_indices = [i for i, (true, pred) in enumerate(zip(true_sentiments, predicted_labels)) if true != pred and true.lower()!=\"neutral\" and pred.lower()!=\"neutral\"]\n",
    "    \n",
    "    # Randomly choose 5 samples\n",
    "    sample_indices = random.sample(incorrect_indices, 5)\n",
    "\n",
    "    # Store the true labels, predicted labels, and texts of the samples\n",
    "    for i in sample_indices:\n",
    "        sample_true_labels.append(true_sentiments[i])\n",
    "        sample_predicted_labels.append(predicted_labels[i])\n",
    "        # Split the text into tokens and select the first 512 tokens\n",
    "        tokens = texts[i].split()[:300]\n",
    "        # Join the tokens back into a string and store it\n",
    "        sample_texts.append(' '.join(tokens))\n",
    "    \n",
    "    # Create a DataFrame with the samples and store it in the corresponding variable\n",
    "    df = pd.DataFrame({\n",
    "        'True Label': sample_true_labels,\n",
    "        'Predicted Label': sample_predicted_labels,\n",
    "        'Text': sample_texts\n",
    "    })\n",
    "    if model_name == \"LiYuan\":\n",
    "        df_LiYuan = df\n",
    "    elif model_name == \"cardiffnlp\":\n",
    "        df_cardiffnlp = df\n",
    "    else: # model_name == \"distilbert\"\n",
    "        df_distilbert = df\n",
    "\n",
    "# Print the text for each row in the LiYuan model DataFrame\n",
    "print(\"\\nLiYuan model:\")\n",
    "for index, row in df_LiYuan.iterrows():\n",
    "    print(f\"Index: {index}\\nTrue Label: {row['True Label']}\\nPredicted Label: {row['Predicted Label']}\\nText: {row['Text']}\\n\")\n",
    "\n",
    "# Print the text for each row in the cardiffnlp model DataFrame\n",
    "print(\"\\ncardiffnlp model:\")\n",
    "for index, row in df_cardiffnlp.iterrows():\n",
    "    print(f\"Index: {index}\\nTrue Label: {row['True Label']}\\nPredicted Label: {row['Predicted Label']}\\nText: {row['Text']}\\n\")\n",
    "\n",
    "# Print the text for each row in the distilbert model DataFrame\n",
    "print(\"\\ndistilbert model:\")\n",
    "for index, row in df_distilbert.iterrows():\n",
    "    print(f\"Index: {index}\\nTrue Label: {row['True Label']}\\nPredicted Label: {row['Predicted Label']}\\nText: {row['Text']}\\n\")\n",
    "\n"
   ]
  },
  {
   "cell_type": "markdown",
   "metadata": {},
   "source": [
    "By analyzing the incorrect predictions made by models, i found that the types of mistakes made are mainly due to two reasons:\n",
    "\n",
    "Misunderstanding or overlooking the overall sentiment when the text contains both positive and negative aspects.\n",
    "\n",
    "Being misled by the initial sentiment expressed in the text and failing to consider the sentiment in the rest of the text.\n",
    "\n",
    "For example, the first sample reviewing text in LiYuan model, the text expresses dissatisfaction with a bakery’s service and menu changes. However, it starts with a positive sentiment (“I used to like Paradise Bakery a lot more than I do now”), which might have misled the model into predicting a positive sentiment. Another example is the third sample reviewing text in distilbert model, The text is generally positive, expressing satisfaction with the shopping experience and customer service. However, it also mentions a negative event (missing shopping bag). The model might have given too much weight to this negative event, leading to an incorrect negative prediction. \n",
    "\n",
    "It also can be proved by sentiment analysis using vader and textblob. When using vader and textblob to analyze thest texts where models made incorrect predictions, the mean and std number for vader_polarity textblob_polarity differs a lot. Besides, textblob_subjectivity is also high.The higher subjectivity means that the text contains more personal opinion rather than factual information, which also made it difficuty for models to give correct predictions.This suggests that the models could benefit from further training on a more diverse and balanced dataset, and possibly from improvements in their ability to understand and weigh the positive and negative aspects of the texts."
   ]
  },
  {
   "cell_type": "code",
   "execution_count": 14,
   "metadata": {},
   "outputs": [
    {
     "name": "stderr",
     "output_type": "stream",
     "text": [
      "[nltk_data] Downloading package vader_lexicon to\n",
      "[nltk_data]     /Users/nanchen/nltk_data...\n",
      "[nltk_data]   Package vader_lexicon is already up-to-date!\n"
     ]
    },
    {
     "data": {
      "text/plain": [
       "True"
      ]
     },
     "execution_count": 14,
     "metadata": {},
     "output_type": "execute_result"
    }
   ],
   "source": [
    "import nltk\n",
    "import ssl\n",
    "\n",
    "try:\n",
    "    _create_unverified_https_context = ssl._create_unverified_context\n",
    "except AttributeError:\n",
    "    pass\n",
    "else:\n",
    "    ssl._create_default_https_context = _create_unverified_https_context\n",
    "nltk.download('vader_lexicon')"
   ]
  },
  {
   "cell_type": "code",
   "execution_count": 15,
   "metadata": {},
   "outputs": [
    {
     "name": "stdout",
     "output_type": "stream",
     "text": [
      "Error polarity scores by rating:cardiffnlp_model\n"
     ]
    },
    {
     "data": {
      "text/html": [
       "<div>\n",
       "<style scoped>\n",
       "    .dataframe tbody tr th:only-of-type {\n",
       "        vertical-align: middle;\n",
       "    }\n",
       "\n",
       "    .dataframe tbody tr th {\n",
       "        vertical-align: top;\n",
       "    }\n",
       "\n",
       "    .dataframe thead th {\n",
       "        text-align: right;\n",
       "    }\n",
       "</style>\n",
       "<table border=\"1\" class=\"dataframe\">\n",
       "  <thead>\n",
       "    <tr style=\"text-align: right;\">\n",
       "      <th></th>\n",
       "      <th>vader_polarity</th>\n",
       "      <th>textblob_polarity</th>\n",
       "      <th>textblob_subjectivity</th>\n",
       "    </tr>\n",
       "  </thead>\n",
       "  <tbody>\n",
       "    <tr>\n",
       "      <th>count</th>\n",
       "      <td>5.000000</td>\n",
       "      <td>5.000000</td>\n",
       "      <td>5.000000</td>\n",
       "    </tr>\n",
       "    <tr>\n",
       "      <th>mean</th>\n",
       "      <td>0.620540</td>\n",
       "      <td>0.202539</td>\n",
       "      <td>0.534186</td>\n",
       "    </tr>\n",
       "    <tr>\n",
       "      <th>std</th>\n",
       "      <td>0.487411</td>\n",
       "      <td>0.092203</td>\n",
       "      <td>0.107215</td>\n",
       "    </tr>\n",
       "    <tr>\n",
       "      <th>min</th>\n",
       "      <td>-0.223500</td>\n",
       "      <td>0.046184</td>\n",
       "      <td>0.375000</td>\n",
       "    </tr>\n",
       "    <tr>\n",
       "      <th>25%</th>\n",
       "      <td>0.656700</td>\n",
       "      <td>0.198958</td>\n",
       "      <td>0.480952</td>\n",
       "    </tr>\n",
       "    <tr>\n",
       "      <th>50%</th>\n",
       "      <td>0.784500</td>\n",
       "      <td>0.230952</td>\n",
       "      <td>0.580400</td>\n",
       "    </tr>\n",
       "    <tr>\n",
       "      <th>75%</th>\n",
       "      <td>0.908100</td>\n",
       "      <td>0.261600</td>\n",
       "      <td>0.586806</td>\n",
       "    </tr>\n",
       "    <tr>\n",
       "      <th>max</th>\n",
       "      <td>0.976900</td>\n",
       "      <td>0.275000</td>\n",
       "      <td>0.647772</td>\n",
       "    </tr>\n",
       "  </tbody>\n",
       "</table>\n",
       "</div>"
      ],
      "text/plain": [
       "       vader_polarity  textblob_polarity  textblob_subjectivity\n",
       "count        5.000000           5.000000               5.000000\n",
       "mean         0.620540           0.202539               0.534186\n",
       "std          0.487411           0.092203               0.107215\n",
       "min         -0.223500           0.046184               0.375000\n",
       "25%          0.656700           0.198958               0.480952\n",
       "50%          0.784500           0.230952               0.580400\n",
       "75%          0.908100           0.261600               0.586806\n",
       "max          0.976900           0.275000               0.647772"
      ]
     },
     "metadata": {},
     "output_type": "display_data"
    },
    {
     "name": "stdout",
     "output_type": "stream",
     "text": [
      "Error polarity scores by rating:LiYuan_model\n"
     ]
    },
    {
     "data": {
      "text/html": [
       "<div>\n",
       "<style scoped>\n",
       "    .dataframe tbody tr th:only-of-type {\n",
       "        vertical-align: middle;\n",
       "    }\n",
       "\n",
       "    .dataframe tbody tr th {\n",
       "        vertical-align: top;\n",
       "    }\n",
       "\n",
       "    .dataframe thead th {\n",
       "        text-align: right;\n",
       "    }\n",
       "</style>\n",
       "<table border=\"1\" class=\"dataframe\">\n",
       "  <thead>\n",
       "    <tr style=\"text-align: right;\">\n",
       "      <th></th>\n",
       "      <th>vader_polarity</th>\n",
       "      <th>textblob_polarity</th>\n",
       "      <th>textblob_subjectivity</th>\n",
       "    </tr>\n",
       "  </thead>\n",
       "  <tbody>\n",
       "    <tr>\n",
       "      <th>count</th>\n",
       "      <td>5.00000</td>\n",
       "      <td>5.000000</td>\n",
       "      <td>5.000000</td>\n",
       "    </tr>\n",
       "    <tr>\n",
       "      <th>mean</th>\n",
       "      <td>0.71356</td>\n",
       "      <td>0.180409</td>\n",
       "      <td>0.583908</td>\n",
       "    </tr>\n",
       "    <tr>\n",
       "      <th>std</th>\n",
       "      <td>0.34613</td>\n",
       "      <td>0.106591</td>\n",
       "      <td>0.109578</td>\n",
       "    </tr>\n",
       "    <tr>\n",
       "      <th>min</th>\n",
       "      <td>0.10120</td>\n",
       "      <td>0.043509</td>\n",
       "      <td>0.428054</td>\n",
       "    </tr>\n",
       "    <tr>\n",
       "      <th>25%</th>\n",
       "      <td>0.80420</td>\n",
       "      <td>0.093571</td>\n",
       "      <td>0.527020</td>\n",
       "    </tr>\n",
       "    <tr>\n",
       "      <th>50%</th>\n",
       "      <td>0.83140</td>\n",
       "      <td>0.225000</td>\n",
       "      <td>0.595714</td>\n",
       "    </tr>\n",
       "    <tr>\n",
       "      <th>75%</th>\n",
       "      <td>0.89850</td>\n",
       "      <td>0.246212</td>\n",
       "      <td>0.675000</td>\n",
       "    </tr>\n",
       "    <tr>\n",
       "      <th>max</th>\n",
       "      <td>0.93250</td>\n",
       "      <td>0.293750</td>\n",
       "      <td>0.693750</td>\n",
       "    </tr>\n",
       "  </tbody>\n",
       "</table>\n",
       "</div>"
      ],
      "text/plain": [
       "       vader_polarity  textblob_polarity  textblob_subjectivity\n",
       "count         5.00000           5.000000               5.000000\n",
       "mean          0.71356           0.180409               0.583908\n",
       "std           0.34613           0.106591               0.109578\n",
       "min           0.10120           0.043509               0.428054\n",
       "25%           0.80420           0.093571               0.527020\n",
       "50%           0.83140           0.225000               0.595714\n",
       "75%           0.89850           0.246212               0.675000\n",
       "max           0.93250           0.293750               0.693750"
      ]
     },
     "metadata": {},
     "output_type": "display_data"
    },
    {
     "name": "stdout",
     "output_type": "stream",
     "text": [
      "Error polarity scores by rating:distilbert_model\n"
     ]
    },
    {
     "data": {
      "text/html": [
       "<div>\n",
       "<style scoped>\n",
       "    .dataframe tbody tr th:only-of-type {\n",
       "        vertical-align: middle;\n",
       "    }\n",
       "\n",
       "    .dataframe tbody tr th {\n",
       "        vertical-align: top;\n",
       "    }\n",
       "\n",
       "    .dataframe thead th {\n",
       "        text-align: right;\n",
       "    }\n",
       "</style>\n",
       "<table border=\"1\" class=\"dataframe\">\n",
       "  <thead>\n",
       "    <tr style=\"text-align: right;\">\n",
       "      <th></th>\n",
       "      <th>vader_polarity</th>\n",
       "      <th>textblob_polarity</th>\n",
       "      <th>textblob_subjectivity</th>\n",
       "    </tr>\n",
       "  </thead>\n",
       "  <tbody>\n",
       "    <tr>\n",
       "      <th>count</th>\n",
       "      <td>5.00000</td>\n",
       "      <td>5.000000</td>\n",
       "      <td>5.000000</td>\n",
       "    </tr>\n",
       "    <tr>\n",
       "      <th>mean</th>\n",
       "      <td>0.44500</td>\n",
       "      <td>0.141410</td>\n",
       "      <td>0.435125</td>\n",
       "    </tr>\n",
       "    <tr>\n",
       "      <th>std</th>\n",
       "      <td>0.76258</td>\n",
       "      <td>0.160439</td>\n",
       "      <td>0.084991</td>\n",
       "    </tr>\n",
       "    <tr>\n",
       "      <th>min</th>\n",
       "      <td>-0.80350</td>\n",
       "      <td>-0.100000</td>\n",
       "      <td>0.333333</td>\n",
       "    </tr>\n",
       "    <tr>\n",
       "      <th>25%</th>\n",
       "      <td>0.22630</td>\n",
       "      <td>0.062449</td>\n",
       "      <td>0.411111</td>\n",
       "    </tr>\n",
       "    <tr>\n",
       "      <th>50%</th>\n",
       "      <td>0.91470</td>\n",
       "      <td>0.212013</td>\n",
       "      <td>0.411177</td>\n",
       "    </tr>\n",
       "    <tr>\n",
       "      <th>75%</th>\n",
       "      <td>0.91720</td>\n",
       "      <td>0.232589</td>\n",
       "      <td>0.454464</td>\n",
       "    </tr>\n",
       "    <tr>\n",
       "      <th>max</th>\n",
       "      <td>0.97030</td>\n",
       "      <td>0.300000</td>\n",
       "      <td>0.565539</td>\n",
       "    </tr>\n",
       "  </tbody>\n",
       "</table>\n",
       "</div>"
      ],
      "text/plain": [
       "       vader_polarity  textblob_polarity  textblob_subjectivity\n",
       "count         5.00000           5.000000               5.000000\n",
       "mean          0.44500           0.141410               0.435125\n",
       "std           0.76258           0.160439               0.084991\n",
       "min          -0.80350          -0.100000               0.333333\n",
       "25%           0.22630           0.062449               0.411111\n",
       "50%           0.91470           0.212013               0.411177\n",
       "75%           0.91720           0.232589               0.454464\n",
       "max           0.97030           0.300000               0.565539"
      ]
     },
     "metadata": {},
     "output_type": "display_data"
    }
   ],
   "source": [
    "\n",
    "\n",
    "from nltk.sentiment.vader import SentimentIntensityAnalyzer\n",
    "from textblob import TextBlob\n",
    "# Run Vader on the reviews\n",
    "analyzer = SentimentIntensityAnalyzer()\n",
    "\n",
    "def vader_polarity(text):\n",
    "    return analyzer.polarity_scores(text)['compound']\n",
    "\n",
    "# textblob\n",
    "def textblob_polarity(text):\n",
    "    return TextBlob(text).sentiment.polarity\n",
    "def textblob_subjectivity(text):\n",
    "    return TextBlob(text).sentiment.subjectivity\n",
    "\n",
    "\n",
    "def error_polarity_scores_by_rating(df, model_name):\n",
    "    df['vader_polarity'] = df['Text'].apply(vader_polarity)\n",
    "    df['textblob_polarity'] = df['Text'].apply(textblob_polarity)\n",
    "    df['textblob_subjectivity'] = df['Text'].apply(textblob_subjectivity)\n",
    "    print(\"Error polarity scores by rating:\" + model_name)\n",
    "    return display(df.describe()[['vader_polarity', 'textblob_polarity', 'textblob_subjectivity']])\n",
    "\n",
    "error_polarity_scores_by_rating(df_cardiffnlp, \"cardiffnlp_model\")\n",
    "error_polarity_scores_by_rating(df_LiYuan, \"LiYuan_model\")\n",
    "error_polarity_scores_by_rating(df_distilbert, \"distilbert_model\")"
   ]
  },
  {
   "cell_type": "markdown",
   "metadata": {},
   "source": [
    "# 3. Classification Tasks: Zero Shot Classification\n",
    "## 3.a. Based on Summary"
   ]
  },
  {
   "cell_type": "code",
   "execution_count": 16,
   "metadata": {},
   "outputs": [
    {
     "name": "stderr",
     "output_type": "stream",
     "text": [
      "Your max_length is set to 30, but your input_length is only 14. Since this is a summarization task, where outputs shorter than the input are typically wanted, you might consider decreasing max_length manually, e.g. summarizer('...', max_length=7)\n",
      "Your max_length is set to 30, but your input_length is only 6. Since this is a summarization task, where outputs shorter than the input are typically wanted, you might consider decreasing max_length manually, e.g. summarizer('...', max_length=3)\n",
      "Your max_length is set to 30, but your input_length is only 6. Since this is a summarization task, where outputs shorter than the input are typically wanted, you might consider decreasing max_length manually, e.g. summarizer('...', max_length=3)\n",
      "Your max_length is set to 30, but your input_length is only 27. Since this is a summarization task, where outputs shorter than the input are typically wanted, you might consider decreasing max_length manually, e.g. summarizer('...', max_length=13)\n",
      "Your max_length is set to 30, but your input_length is only 28. Since this is a summarization task, where outputs shorter than the input are typically wanted, you might consider decreasing max_length manually, e.g. summarizer('...', max_length=14)\n",
      "Your max_length is set to 30, but your input_length is only 15. Since this is a summarization task, where outputs shorter than the input are typically wanted, you might consider decreasing max_length manually, e.g. summarizer('...', max_length=7)\n",
      "Your max_length is set to 30, but your input_length is only 20. Since this is a summarization task, where outputs shorter than the input are typically wanted, you might consider decreasing max_length manually, e.g. summarizer('...', max_length=10)\n",
      "Your max_length is set to 30, but your input_length is only 17. Since this is a summarization task, where outputs shorter than the input are typically wanted, you might consider decreasing max_length manually, e.g. summarizer('...', max_length=8)\n",
      "Your max_length is set to 30, but your input_length is only 25. Since this is a summarization task, where outputs shorter than the input are typically wanted, you might consider decreasing max_length manually, e.g. summarizer('...', max_length=12)\n",
      "Your max_length is set to 30, but your input_length is only 24. Since this is a summarization task, where outputs shorter than the input are typically wanted, you might consider decreasing max_length manually, e.g. summarizer('...', max_length=12)\n",
      "Your max_length is set to 30, but your input_length is only 24. Since this is a summarization task, where outputs shorter than the input are typically wanted, you might consider decreasing max_length manually, e.g. summarizer('...', max_length=12)\n",
      "Your max_length is set to 30, but your input_length is only 16. Since this is a summarization task, where outputs shorter than the input are typically wanted, you might consider decreasing max_length manually, e.g. summarizer('...', max_length=8)\n",
      "Your max_length is set to 30, but your input_length is only 28. Since this is a summarization task, where outputs shorter than the input are typically wanted, you might consider decreasing max_length manually, e.g. summarizer('...', max_length=14)\n",
      "Your max_length is set to 30, but your input_length is only 13. Since this is a summarization task, where outputs shorter than the input are typically wanted, you might consider decreasing max_length manually, e.g. summarizer('...', max_length=6)\n"
     ]
    },
    {
     "name": "stdout",
     "output_type": "stream",
     "text": [
      "                                                  text  \\\n",
      "0    dr. goldberg offers everything i look for in a...   \n",
      "1    Unfortunately, the frustration of being Dr. Go...   \n",
      "2    Been going to Dr. Goldberg for over 10 years. ...   \n",
      "3    Got a letter in the mail last week that said D...   \n",
      "4    I don't know what Dr. Goldberg was like before...   \n",
      "..                                                 ...   \n",
      "145  Even when we didn't have a car Filene's Baseme...   \n",
      "146  Love this store!  Don't always have much luck ...   \n",
      "147  Another store which has gone the way of the Do...   \n",
      "148  $9.75 for a red bull and vodka? I'm sorry, I t...   \n",
      "149  Really enjoyed this a lot more than I thought ...   \n",
      "\n",
      "                                               summary  stars  \n",
      "0     dr. goldberg offers everything i look for in ...      4  \n",
      "1    The frustration of being Dr. Goldberg's patien...      1  \n",
      "2    I've been going to Dr. Goldberg for over 10 ye...      3  \n",
      "3    Dr. Goldberg is moving to Arizona to take a ne...      3  \n",
      "4    Dr. Goldberg is only interested in the co-pay ...      0  \n",
      "..                                                 ...    ...  \n",
      "145  Filene's Basement was worth the bus trip to th...      3  \n",
      "146  \"Don't always have much luck with the sales, b...      4  \n",
      "147  There was nothing basement like about it. What...      1  \n",
      "148  $9.75 for a red bull and vodka? I'm sorry, I t...      1  \n",
      "149  The drinks were on the pricey side, but I didn...      2  \n",
      "\n",
      "[150 rows x 3 columns]\n"
     ]
    }
   ],
   "source": [
    "from transformers import pipeline\n",
    "from datasets import load_dataset\n",
    "import pandas as pd\n",
    "import torch\n",
    "\n",
    "# Create a text summarization pipeline using the BART model\n",
    "summarizer = pipeline(\"summarization\", model=\"facebook/bart-large-cnn\")\n",
    "\n",
    "# Initialize an empty list to store summaries\n",
    "summaries = []\n",
    "\n",
    "# Dynamically adjust max_length and summarize the text\n",
    "for text in df['text'].iloc[:150].tolist():\n",
    "    input_length = len(text.split())  # Estimate the number of words in the input\n",
    "    max_length = min(130, max(30, int(input_length * 0.5)))  # Dynamically adjust max_length\n",
    "    summary = summarizer(text, max_length=max_length, min_length=30, truncation=True)[0]['summary_text']\n",
    "    summaries.append(summary)\n",
    "\n",
    "# Create a new dataframe to store the original texts and their summaries\n",
    "# Make sure to also copy the star rating information, assuming in the original dataset the star rating is stored in the 'label' column\n",
    "df_summary = df.iloc[:150].copy()  # Copy the first 150 rows\n",
    "df_summary['summary'] = summaries  # Add the summaries to the new dataframe\n",
    "df_summary['stars'] = df['label'].iloc[:150]  # Copy the corresponding star ratings\n",
    "\n",
    "print(df_summary[['text', 'summary', 'stars']])"
   ]
  },
  {
   "cell_type": "markdown",
   "metadata": {},
   "source": [
    "Data Preparation"
   ]
  },
  {
   "cell_type": "code",
   "execution_count": 19,
   "metadata": {},
   "outputs": [],
   "source": [
    "from sklearn.model_selection import train_test_split\n",
    "from transformers import BertTokenizerFast, BertForSequenceClassification, Trainer, TrainingArguments\n",
    "from torch.utils.data import Dataset\n",
    "import numpy as np\n",
    "import torch\n",
    "\n",
    "class YelpReviewDataset(Dataset):\n",
    "    def __init__(self, encodings, labels):\n",
    "        self.encodings = encodings\n",
    "        self.labels = labels   # Convert labels from 1-5 to 0-4\n",
    "\n",
    "    def __getitem__(self, idx):\n",
    "        item = {key: torch.tensor(val[idx]) for key, val in self.encodings.items()}\n",
    "        item['labels'] = torch.tensor(self.labels[idx], dtype=torch.long)\n",
    "        return item\n",
    "\n",
    "    def __len__(self):\n",
    "        return len(self.labels)\n",
    "\n",
    "# Prepare the data\n",
    "tokenizer = BertTokenizerFast.from_pretrained('bert-base-uncased')\n",
    "X = df_summary['summary'].tolist()  # Summary texts\n",
    "y = df_summary['stars'].to_numpy()  # Star ratings\n",
    "\n",
    "X_train, X_val, y_train, y_val = train_test_split(X, y, test_size=0.2, random_state=2021)\n",
    "\n",
    "train_encodings = tokenizer(X_train, truncation=True, padding=True, max_length=512)\n",
    "val_encodings = tokenizer(X_val, truncation=True, padding=True, max_length=512)\n",
    "\n",
    "train_dataset = YelpReviewDataset(train_encodings, y_train)\n",
    "val_dataset = YelpReviewDataset(val_encodings, y_val)\n"
   ]
  },
  {
   "cell_type": "markdown",
   "metadata": {},
   "source": [
    "Model Definition, Training and Evaluation."
   ]
  },
  {
   "cell_type": "code",
   "execution_count": 20,
   "metadata": {},
   "outputs": [
    {
     "name": "stderr",
     "output_type": "stream",
     "text": [
      "Some weights of BertForSequenceClassification were not initialized from the model checkpoint at bert-base-uncased and are newly initialized: ['classifier.bias', 'classifier.weight']\n",
      "You should probably TRAIN this model on a down-stream task to be able to use it for predictions and inference.\n",
      "C:\\Users\\Yue\\AppData\\Local\\Packages\\PythonSoftwareFoundation.Python.3.10_qbz5n2kfra8p0\\LocalCache\\local-packages\\Python310\\site-packages\\accelerate\\accelerator.py:436: FutureWarning: Passing the following arguments to `Accelerator` is deprecated and will be removed in version 1.0 of Accelerate: dict_keys(['dispatch_batches', 'split_batches', 'even_batches', 'use_seedable_sampler']). Please pass an `accelerate.DataLoaderConfiguration` instead: \n",
      "dataloader_config = DataLoaderConfiguration(dispatch_batches=None, split_batches=False, even_batches=True, use_seedable_sampler=True)\n",
      "  warnings.warn(\n",
      "  0%|          | 0/45 [24:05<?, ?it/s]\n",
      "                                      \n",
      "  0%|          | 0/45 [18:57<?, ?it/s]         "
     ]
    },
    {
     "name": "stdout",
     "output_type": "stream",
     "text": [
      "{'loss': 1.653, 'grad_norm': 5.85977840423584, 'learning_rate': 1.0000000000000002e-06, 'epoch': 0.67}\n"
     ]
    },
    {
     "name": "stderr",
     "output_type": "stream",
     "text": [
      "                                      \n",
      "  0%|          | 0/45 [19:48<?, ?it/s]         "
     ]
    },
    {
     "name": "stdout",
     "output_type": "stream",
     "text": [
      "{'loss': 1.6375, 'grad_norm': 6.079554080963135, 'learning_rate': 2.0000000000000003e-06, 'epoch': 1.33}\n"
     ]
    },
    {
     "name": "stderr",
     "output_type": "stream",
     "text": [
      "                                      \n",
      "  0%|          | 0/45 [20:38<?, ?it/s]         "
     ]
    },
    {
     "name": "stdout",
     "output_type": "stream",
     "text": [
      "{'loss': 1.6171, 'grad_norm': 4.7647199630737305, 'learning_rate': 3e-06, 'epoch': 2.0}\n"
     ]
    },
    {
     "name": "stderr",
     "output_type": "stream",
     "text": [
      "                                      \n",
      "  0%|          | 0/45 [21:27<?, ?it/s]         "
     ]
    },
    {
     "name": "stdout",
     "output_type": "stream",
     "text": [
      "{'loss': 1.6226, 'grad_norm': 6.65775728225708, 'learning_rate': 4.000000000000001e-06, 'epoch': 2.67}\n"
     ]
    },
    {
     "name": "stderr",
     "output_type": "stream",
     "text": [
      "                                      \n",
      "100%|██████████| 45/45 [03:43<00:00,  4.97s/it]\n"
     ]
    },
    {
     "name": "stdout",
     "output_type": "stream",
     "text": [
      "{'train_runtime': 223.4901, 'train_samples_per_second': 1.611, 'train_steps_per_second': 0.201, 'train_loss': 1.6244254642062717, 'epoch': 3.0}\n"
     ]
    },
    {
     "name": "stderr",
     "output_type": "stream",
     "text": [
      "100%|██████████| 4/4 [00:03<00:00,  1.24it/s]\n"
     ]
    },
    {
     "data": {
      "text/plain": [
       "{'eval_loss': 1.6399976015090942,\n",
       " 'eval_runtime': 4.3772,\n",
       " 'eval_samples_per_second': 6.854,\n",
       " 'eval_steps_per_second': 0.914,\n",
       " 'epoch': 3.0}"
      ]
     },
     "execution_count": 20,
     "metadata": {},
     "output_type": "execute_result"
    }
   ],
   "source": [
    "model = BertForSequenceClassification.from_pretrained('bert-base-uncased', num_labels=5)\n",
    "\n",
    "training_args = TrainingArguments(\n",
    "    output_dir='./results',\n",
    "    num_train_epochs=3,\n",
    "    per_device_train_batch_size=8,\n",
    "    per_device_eval_batch_size=8,\n",
    "    warmup_steps=500,\n",
    "    weight_decay=0.01,\n",
    "    logging_dir='./logs',\n",
    "    logging_steps=10,\n",
    ")\n",
    "\n",
    "trainer = Trainer(\n",
    "    model=model,\n",
    "    args=training_args,\n",
    "    train_dataset=train_dataset,\n",
    "    eval_dataset=val_dataset\n",
    ")\n",
    "\n",
    "trainer.train()\n",
    "trainer.evaluate()"
   ]
  },
  {
   "cell_type": "markdown",
   "metadata": {},
   "source": [
    "\n",
    "### Result List\n",
    "5   'train_loss': 1.1762760480244954 'eval_loss': 1.5997843742370605\n",
    "\n",
    "15  'train_loss': 1.3541520436604817 'eval_loss': 0.7361515164375305\n",
    "\n",
    "30  'train_loss': 1.2990621990627713 'eval_loss': 1.175505518913269\n",
    "\n",
    "100 'train_loss': 1.2386985460917155 'eval_loss': 1.1782324314117432\n",
    "\n",
    "150 'train_loss': 1.1339557965596516 'eval_loss': 1.2087987661361694\n",
    "\n",
    "The second result in the list shows an intriguing case where the evaluation loss is significantly lower than the training loss. This is an unusual scenario in machine learning models because typically, the training loss is lower due to the model being directly trained on that data. Here, an eval_loss of 0.736 compared to a train_loss of 1.354 suggests a few possible scenarios:\n",
    "\n",
    "Strong Generalization: The model may generalize exceptionally well to the validation data, possibly because the validation set characteristics closely match the model's training data, or the model has learned robust features that work well across varied data samples.\n",
    "\n",
    "Data Distribution: The distribution of data in the training set might be more challenging or diverse compared to the evaluation set, which can lead to higher training loss.\n",
    "\n",
    "Evaluation Set Size: If the evaluation set is significantly smaller or not as diverse, it might not represent the difficulty of the overall dataset, leading to a deceptively low evaluation loss.\n",
    "\n",
    "Overfitting Avoidance: It's also possible that certain regularization techniques or early stopping mechanisms were effective in preventing the model from overfitting, hence the model performs better on unseen data.\n",
    "\n",
    "Random Variation: Especially with smaller datasets, random variation can sometimes lead to situations where evaluation loss is lower than training loss.\n",
    "\n",
    "### The number 300 is used to specify the number of text entries from the Yelp review dataset that we want to process.\n",
    "\n",
    "1.Data Selection: df['text'].iloc[:300].tolist() – This line selects the first 300 entries from the 'text' column of the dataframe df. The .iloc[:300] is an indexing operation used in pandas to select data by position. Here, it slices the first 300 rows of the dataframe.\n",
    "\n",
    "2.Summarization Process: The loop for text in df['text'].iloc[:300].tolist() iterates over each of the first 300 text entries. For each text, the script estimates the input length, adjusts the maximum summary length accordingly, and then generates a summary using the BART model.\n",
    "\n",
    "### Ideal Range\n",
    "\n",
    "Close to 0 but not 0: Ideally, the loss value should be close to 0, which indicates that the model's predictions are very close to the actual labels. However, a loss value of 0 might suggest that the model is overfitting on the training set, perfectly memorizing the training data, which could lead to poor performance on unseen data.\n",
    "\n",
    "Eval loss close to train loss: If the evaluation loss (eval_loss) and training loss (train_loss) are very close, it is usually a good sign, indicating that the model performs consistently on both the training and validation sets, demonstrating good generalization ability.\n",
    "\n",
    "### Specific Range\n",
    "\n",
    "Loss value: The specific range of loss values greatly depends on the characteristics of the dataset and the complexity of the model. For some tasks, such as simple classification problems, the loss value might be between 0.01 and 0.5. For more complex tasks or more challenging datasets, the loss value might range from 1 to 10, or even higher.\n",
    "\n",
    "Difference: The difference between the training loss and evaluation loss should be as small as possible. A good rule of thumb is that the difference should not exceed 10% to 20% of the training loss. For example, if the train_loss is 0.5, the eval_loss should ideally be between 0.5 and 0.6.\n",
    "\n",
    "### Loss Values in Our Model\n",
    "\n",
    "Training Loss (train_loss) of 1.1339557965596516: This indicates the average degree of error the model has when recognizing patterns in the training data. For a complex NLP task, this value might be considered reasonable in the initial stages, especially considering the use of a large pre-trained model and a complex dataset.\n",
    "\n",
    "Evaluation Loss (eval_loss) of 1.2087987661361694: This is slightly higher than the training loss. Such a scenario is common in machine learning models, as the evaluation loss represents the model's performance on unseen data, which is usually slightly higher than the training loss.\n",
    "\n",
    "### Judging Whether Loss Values are \"High\" or \"Low\"\n",
    "\n",
    "Generally, for text classification tasks, if both training and evaluation losses are below 1.0, this is usually considered good performance. However, even if loss values are between 1.0 and 2.0, this may still be acceptable performance depending on the task's complexity and the characteristics of the dataset.\n",
    "\n",
    "It's important to monitor how loss values change with training progress. Ideally, you would want to see both training and evaluation losses gradually decrease as the number of epochs increases, and the gap between them should not significantly widen over time, as this may indicate overfitting.\n",
    "\n",
    "## 3.b. Zero-Shot Classification"
   ]
  },
  {
   "cell_type": "code",
   "execution_count": null,
   "metadata": {},
   "outputs": [],
   "source": [
    "#randly select 100 samples\n",
    "df = df.sample(100)\n",
    "print(df)"
   ]
  },
  {
   "cell_type": "code",
   "execution_count": 21,
   "metadata": {},
   "outputs": [],
   "source": [
    "import pandas as pd\n",
    "# Manually add categories to each review and import the dataset\n",
    "df = pd.read_csv('yelp_review_full.csv')\n",
    "# Define categories\n",
    "classes = [\"Restaurants\", \"Bars\", \"Coffee Shops\", \"Hotels\", \"Salons/Barbershops\",\n",
    "           \"Auto Repair\", \"Home Services\", \"Medical Services\", \"Entertainment\", \"Pet Services\",\n",
    "           \"Financial Services\", \"Travel & Tourism\", \"Education\", \"Real Estate\", \"Fitness\",\n",
    "           \"Landscaping & Gardening Services\", \"Legal Services\", \"Photography Services\",\n",
    "           \"Childcare Services\", \"Computer & Technology Services\"]"
   ]
  },
  {
   "cell_type": "markdown",
   "metadata": {},
   "source": [
    "Model process"
   ]
  },
  {
   "cell_type": "code",
   "execution_count": 22,
   "metadata": {},
   "outputs": [
    {
     "name": "stdout",
     "output_type": "stream",
     "text": [
      "   label                                               text  \\\n",
      "0      4  I've been going here for about 4 yrs.Cleanest ...   \n",
      "1      1  We've wanted to try Thai E-San since they open...   \n",
      "2      0  The food is ok but the service is terrible!!!!...   \n",
      "3      3  There's typically a 15-20 minute wait when we ...   \n",
      "4      3  Five guys offers a basic selection of burgers,...   \n",
      "\n",
      "      Manual_Category         model1  \n",
      "0  Salons/Barbershops  Entertainment  \n",
      "1         Restaurants    Restaurants  \n",
      "2         Restaurants    Restaurants  \n",
      "3         Restaurants    Restaurants  \n",
      "4         Restaurants    Restaurants  \n"
     ]
    }
   ],
   "source": [
    "from transformers import pipeline\n",
    "\n",
    "# Model 1: facebook/bart-large-mnli\n",
    "classifier_1 = pipeline(\"zero-shot-classification\", model=\"facebook/bart-large-mnli\")\n",
    "def model1_review(text):\n",
    "    result = classifier_1(text, candidate_labels=classes, multi_label=True)\n",
    "    return result['labels'][0]  # Returning the top category\n",
    "\n",
    "# Apply the function to each review in the DataFrame\n",
    "df['model1'] = df['text'].apply(model1_review)\n",
    "print(df.head())"
   ]
  },
  {
   "cell_type": "code",
   "execution_count": 23,
   "metadata": {},
   "outputs": [
    {
     "name": "stderr",
     "output_type": "stream",
     "text": [
      "You are using a model of type T5 to instantiate a model of type t5. This is not supported for all configurations of models and can yield errors.\n",
      "You are using the default legacy behaviour of the <class 'transformers.models.t5.tokenization_t5.T5Tokenizer'>. This is expected, and simply means that the `legacy` (previous) behavior will be used so nothing changes for you. If you want to use the new behaviour, set `legacy=False`. This should only be set if you understand what it means, and thoroughly read the reason why this was added as explained in https://github.com/huggingface/transformers/pull/24565\n",
      "Asking to truncate to max_length but no maximum length is provided and the model has no predefined maximum length. Default to no truncation.\n"
     ]
    },
    {
     "name": "stdout",
     "output_type": "stream",
     "text": [
      "   label                                               text  \\\n",
      "0      4  I've been going here for about 4 yrs.Cleanest ...   \n",
      "1      1  We've wanted to try Thai E-San since they open...   \n",
      "2      0  The food is ok but the service is terrible!!!!...   \n",
      "3      3  There's typically a 15-20 minute wait when we ...   \n",
      "4      3  Five guys offers a basic selection of burgers,...   \n",
      "\n",
      "      Manual_Category         model1         model2  \n",
      "0  Salons/Barbershops  Entertainment  Home Services  \n",
      "1         Restaurants    Restaurants   Pet Services  \n",
      "2         Restaurants    Restaurants    Restaurants  \n",
      "3         Restaurants    Restaurants    Restaurants  \n",
      "4         Restaurants    Restaurants    Restaurants  \n"
     ]
    }
   ],
   "source": [
    "# Model 2: knowledgator/comprehend_it-multilingual-t5-base\n",
    "# pip install liqfit sentencepiece\n",
    "from liqfit.pipeline import ZeroShotClassificationPipeline\n",
    "from liqfit.models import T5ForZeroShotClassification\n",
    "from transformers import T5Tokenizer\n",
    "\n",
    "model = T5ForZeroShotClassification.from_pretrained('knowledgator/comprehend_it-multilingual-t5-base')\n",
    "tokenizer = T5Tokenizer.from_pretrained('knowledgator/comprehend_it-multilingual-t5-base')\n",
    "classifier_2 = ZeroShotClassificationPipeline(model=model, tokenizer=tokenizer,\n",
    "                                                      hypothesis_template = '{}', encoder_decoder = True)\n",
    "def model2_review(text):\n",
    "    result = classifier_2(text, candidate_labels=classes, multi_label=True)\n",
    "    return result['labels'][0]  # Returning the top category\n",
    "\n",
    "# Apply the function to each review in the DataFrame\n",
    "df['model2'] = df['text'].apply(model2_review)\n",
    "print(df.head())"
   ]
  },
  {
   "cell_type": "code",
   "execution_count": 24,
   "metadata": {},
   "outputs": [
    {
     "name": "stderr",
     "output_type": "stream",
     "text": [
      "C:\\Users\\Yue\\AppData\\Local\\Packages\\PythonSoftwareFoundation.Python.3.10_qbz5n2kfra8p0\\LocalCache\\local-packages\\Python310\\site-packages\\huggingface_hub\\file_download.py:148: UserWarning: `huggingface_hub` cache-system uses symlinks by default to efficiently store duplicated files but your machine does not support them in C:\\Users\\Yue\\.cache\\huggingface\\hub\\models--MoritzLaurer--DeBERTa-v3-base-mnli-fever-anli. Caching files will still work but in a degraded version that might require more space on your disk. This warning can be disabled by setting the `HF_HUB_DISABLE_SYMLINKS_WARNING` environment variable. For more details, see https://huggingface.co/docs/huggingface_hub/how-to-cache#limitations.\n",
      "To support symlinks on Windows, you either need to activate Developer Mode or to run Python as an administrator. In order to see activate developer mode, see this article: https://docs.microsoft.com/en-us/windows/apps/get-started/enable-your-device-for-development\n",
      "  warnings.warn(message)\n"
     ]
    },
    {
     "name": "stdout",
     "output_type": "stream",
     "text": [
      "WARNING:tensorflow:From C:\\Users\\Yue\\AppData\\Local\\Packages\\PythonSoftwareFoundation.Python.3.10_qbz5n2kfra8p0\\LocalCache\\local-packages\\Python310\\site-packages\\keras\\src\\backend.py:873: The name tf.get_default_graph is deprecated. Please use tf.compat.v1.get_default_graph instead.\n",
      "\n"
     ]
    },
    {
     "name": "stderr",
     "output_type": "stream",
     "text": [
      "Some weights of the PyTorch model were not used when initializing the TF 2.0 model TFDebertaV2ForSequenceClassification: ['deberta.embeddings.position_ids']\n",
      "- This IS expected if you are initializing TFDebertaV2ForSequenceClassification from a PyTorch model trained on another task or with another architecture (e.g. initializing a TFBertForSequenceClassification model from a BertForPreTraining model).\n",
      "- This IS NOT expected if you are initializing TFDebertaV2ForSequenceClassification from a PyTorch model that you expect to be exactly identical (e.g. initializing a TFBertForSequenceClassification model from a BertForSequenceClassification model).\n",
      "All the weights of TFDebertaV2ForSequenceClassification were initialized from the PyTorch model.\n",
      "If your task is similar to the task the model of the checkpoint was trained on, you can already use TFDebertaV2ForSequenceClassification for predictions without further training.\n",
      "Asking to truncate to max_length but no maximum length is provided and the model has no predefined maximum length. Default to no truncation.\n"
     ]
    },
    {
     "name": "stdout",
     "output_type": "stream",
     "text": [
      "   label                                               text  \\\n",
      "0      4  I've been going here for about 4 yrs.Cleanest ...   \n",
      "1      1  We've wanted to try Thai E-San since they open...   \n",
      "2      0  The food is ok but the service is terrible!!!!...   \n",
      "3      3  There's typically a 15-20 minute wait when we ...   \n",
      "4      3  Five guys offers a basic selection of burgers,...   \n",
      "\n",
      "      Manual_Category         model1         model2              model3  \n",
      "0  Salons/Barbershops  Entertainment  Home Services  Salons/Barbershops  \n",
      "1         Restaurants    Restaurants   Pet Services         Restaurants  \n",
      "2         Restaurants    Restaurants    Restaurants         Restaurants  \n",
      "3         Restaurants    Restaurants    Restaurants         Restaurants  \n",
      "4         Restaurants    Restaurants    Restaurants         Restaurants  \n"
     ]
    }
   ],
   "source": [
    "# Model 3: MoritzLaurer/DeBERTa-v3-base-mnli-fever-anli\n",
    "# pip install transformers[sentencepiece]\n",
    "from transformers import pipeline\n",
    "classifier_3 = pipeline(\"zero-shot-classification\", model=\"MoritzLaurer/DeBERTa-v3-base-mnli-fever-anli\")\n",
    "def model3_review(text):\n",
    "    result = classifier_3(text, candidate_labels=classes, multi_label=True)\n",
    "    return result['labels'][0]  # Returning the top category\n",
    "\n",
    "# Apply the function to each review in the DataFrame\n",
    "df['model3'] = df['text'].apply(model3_review)\n",
    "print(df.head())"
   ]
  },
  {
   "cell_type": "markdown",
   "metadata": {},
   "source": [
    "Comparison and Accuracy Calculation:"
   ]
  },
  {
   "cell_type": "code",
   "execution_count": 25,
   "metadata": {},
   "outputs": [
    {
     "name": "stdout",
     "output_type": "stream",
     "text": [
      "Accuracy of model 1:  0.61\n",
      "Accuracy of model 2:  0.59\n",
      "Accuracy of model 3:  0.73\n"
     ]
    }
   ],
   "source": [
    "accuracy1 = (df['model1'] == df['Manual_Category']).mean()\n",
    "accuracy2 = (df['model2'] == df['Manual_Category']).mean()\n",
    "accuracy3 = (df['model3'] == df['Manual_Category']).mean()\n",
    "print(\"Accuracy of model 1: \", accuracy1)\n",
    "print(\"Accuracy of model 2: \", accuracy2)\n",
    "print(\"Accuracy of model 3: \", accuracy3)"
   ]
  },
  {
   "cell_type": "markdown",
   "metadata": {},
   "source": [
    "### Model 1: facebook/bart-large-mnli\n",
    "Accuracy: 61%\n",
    "\n",
    "This model uses a combined bidirectional encoder and autoregressive decoder, trained on the MNLI dataset. Its moderate accuracy suggests that while effective at general language tasks, it may not fully capture the specific nuances of Yelp reviews.\n",
    "\n",
    "### Model 2: knowledgator/comprehend_it-multilingual-t5-base\n",
    "Accuracy: 59%\n",
    "\n",
    "Based on the T5 architecture, which processes tasks as text generation in multiple languages, its slightly lower performance might stem from its generalist training which is not specialized enough for the particular characteristics of Yelp reviews.\n",
    "\n",
    "### Model 3: MoritzLaurer/DeBERTa-v3-base-mnli-fever-anli\n",
    "Accuracy: 73%\n",
    "\n",
    "DeBERTa enhances BERT architectures with a novel attention mechanism and is further fine-tuned on datasets aimed at improving inference, resulting in the highest accuracy among the three models. This suggests superior handling of the complex semantics in review texts.\n",
    "\n",
    "\n",
    "In summary, the varying accuracies reflect each model’s architectural strengths and training focus, with DeBERTa standing out due to its advanced inference capabilities and specialized attention mechanism."
   ]
  }
 ],
 "metadata": {
  "kernelspec": {
   "display_name": "CS6120",
   "language": "python",
   "name": "python3"
  },
  "language_info": {
   "codemirror_mode": {
    "name": "ipython",
    "version": 3
   },
   "file_extension": ".py",
   "mimetype": "text/x-python",
   "name": "python",
   "nbconvert_exporter": "python",
   "pygments_lexer": "ipython3",
   "version": "3.11.5"
  }
 },
 "nbformat": 4,
 "nbformat_minor": 2
}
