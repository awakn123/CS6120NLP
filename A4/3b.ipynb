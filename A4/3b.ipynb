{
 "cells": [
  {
   "cell_type": "code",
   "execution_count": 7,
   "metadata": {},
   "outputs": [
    {
     "name": "stdout",
     "output_type": "stream",
     "text": [
      "        label                                               text\n",
      "433435      4  I've been going here for about 4 yrs.Cleanest ...\n",
      "402242      1  We've wanted to try Thai E-San since they open...\n",
      "632177      0  The food is ok but the service is terrible!!!!...\n",
      "595983      3  There's typically a 15-20 minute wait when we ...\n",
      "551785      3  Five guys offers a basic selection of burgers,...\n",
      "...       ...                                                ...\n",
      "140694      3  Good service, good food, good beer, and textbo...\n",
      "381014      1  The quality of the food here is pretty consist...\n",
      "328741      1  We arrived at approximately 8:15pm on a Saturd...\n",
      "573119      0  I was really disappointed about our experience...\n",
      "476655      2  I had been to Chic Nails once before.  They ha...\n",
      "\n",
      "[100 rows x 2 columns]\n"
     ]
    }
   ],
   "source": [
    "# pip install transformers pandas datasets\n",
    "from datasets import load_dataset\n",
    "\n",
    "# Load the dataset\n",
    "dataset = load_dataset('yelp_review_full')\n",
    "df = dataset['train'].to_pandas()\n",
    "\n",
    "#randly select 100 samples\n",
    "df = df.sample(100)\n",
    "print(df)"
   ]
  },
  {
   "cell_type": "code",
   "execution_count": 8,
   "metadata": {},
   "outputs": [],
   "source": [
    "import pandas as pd\n",
    "# Manually add categories to each review and import the dataset\n",
    "df = pd.read_csv('yelp_review_full.csv')\n",
    "# Define categories\n",
    "classes = [\"Restaurants\", \"Bars\", \"Coffee Shops\", \"Hotels\", \"Salons/Barbershops\",\n",
    "           \"Auto Repair\", \"Home Services\", \"Medical Services\", \"Entertainment\", \"Pet Services\",\n",
    "           \"Financial Services\", \"Travel & Tourism\", \"Education\", \"Real Estate\", \"Fitness\",\n",
    "           \"Landscaping & Gardening Services\", \"Legal Services\", \"Photography Services\",\n",
    "           \"Childcare Services\", \"Computer & Technology Services\"]"
   ]
  },
  {
   "cell_type": "markdown",
   "metadata": {},
   "source": [
    "Manual Categorization"
   ]
  },
  {
   "cell_type": "markdown",
   "metadata": {},
   "source": [
    "Model process"
   ]
  },
  {
   "cell_type": "code",
   "execution_count": 9,
   "metadata": {},
   "outputs": [
    {
     "name": "stdout",
     "output_type": "stream",
     "text": [
      "   label                                               text  \\\n",
      "0      4  I've been going here for about 4 yrs.Cleanest ...   \n",
      "1      1  We've wanted to try Thai E-San since they open...   \n",
      "2      0  The food is ok but the service is terrible!!!!...   \n",
      "3      3  There's typically a 15-20 minute wait when we ...   \n",
      "4      3  Five guys offers a basic selection of burgers,...   \n",
      "\n",
      "      Manual_Category         model1  \n",
      "0  Salons/Barbershops  Entertainment  \n",
      "1         Restaurants    Restaurants  \n",
      "2         Restaurants    Restaurants  \n",
      "3         Restaurants    Restaurants  \n",
      "4         Restaurants    Restaurants  \n"
     ]
    }
   ],
   "source": [
    "from transformers import pipeline\n",
    "\n",
    "# Model 1: facebook/bart-large-mnli\n",
    "classifier_1 = pipeline(\"zero-shot-classification\", model=\"facebook/bart-large-mnli\")\n",
    "def model1_review(text):\n",
    "    result = classifier_1(text, candidate_labels=classes, multi_label=True)\n",
    "    return result['labels'][0]  # Returning the top category\n",
    "\n",
    "# Apply the function to each review in the DataFrame\n",
    "df['model1'] = df['text'].apply(model1_review)\n",
    "print(df.head())"
   ]
  },
  {
   "cell_type": "code",
   "execution_count": 10,
   "metadata": {},
   "outputs": [
    {
     "name": "stderr",
     "output_type": "stream",
     "text": [
      "You are using a model of type T5 to instantiate a model of type t5. This is not supported for all configurations of models and can yield errors.\n",
      "Asking to truncate to max_length but no maximum length is provided and the model has no predefined maximum length. Default to no truncation.\n"
     ]
    },
    {
     "name": "stdout",
     "output_type": "stream",
     "text": [
      "   label                                               text  \\\n",
      "0      4  I've been going here for about 4 yrs.Cleanest ...   \n",
      "1      1  We've wanted to try Thai E-San since they open...   \n",
      "2      0  The food is ok but the service is terrible!!!!...   \n",
      "3      3  There's typically a 15-20 minute wait when we ...   \n",
      "4      3  Five guys offers a basic selection of burgers,...   \n",
      "\n",
      "      Manual_Category         model1         model2  \n",
      "0  Salons/Barbershops  Entertainment  Home Services  \n",
      "1         Restaurants    Restaurants   Pet Services  \n",
      "2         Restaurants    Restaurants    Restaurants  \n",
      "3         Restaurants    Restaurants    Restaurants  \n",
      "4         Restaurants    Restaurants    Restaurants  \n"
     ]
    }
   ],
   "source": [
    "# Model 2: knowledgator/comprehend_it-multilingual-t5-base\n",
    "# pip install liqfit sentencepiece\n",
    "from liqfit.pipeline import ZeroShotClassificationPipeline\n",
    "from liqfit.models import T5ForZeroShotClassification\n",
    "from transformers import T5Tokenizer\n",
    "\n",
    "model = T5ForZeroShotClassification.from_pretrained('knowledgator/comprehend_it-multilingual-t5-base')\n",
    "tokenizer = T5Tokenizer.from_pretrained('knowledgator/comprehend_it-multilingual-t5-base')\n",
    "classifier_2 = ZeroShotClassificationPipeline(model=model, tokenizer=tokenizer,\n",
    "                                                      hypothesis_template = '{}', encoder_decoder = True)\n",
    "def model2_review(text):\n",
    "    result = classifier_2(text, candidate_labels=classes, multi_label=True)\n",
    "    return result['labels'][0]  # Returning the top category\n",
    "\n",
    "# Apply the function to each review in the DataFrame\n",
    "df['model2'] = df['text'].apply(model2_review)\n",
    "print(df.head())"
   ]
  },
  {
   "cell_type": "code",
   "execution_count": 11,
   "metadata": {},
   "outputs": [
    {
     "name": "stderr",
     "output_type": "stream",
     "text": [
      "Asking to truncate to max_length but no maximum length is provided and the model has no predefined maximum length. Default to no truncation.\n"
     ]
    },
    {
     "name": "stdout",
     "output_type": "stream",
     "text": [
      "   label                                               text  \\\n",
      "0      4  I've been going here for about 4 yrs.Cleanest ...   \n",
      "1      1  We've wanted to try Thai E-San since they open...   \n",
      "2      0  The food is ok but the service is terrible!!!!...   \n",
      "3      3  There's typically a 15-20 minute wait when we ...   \n",
      "4      3  Five guys offers a basic selection of burgers,...   \n",
      "\n",
      "      Manual_Category         model1         model2              model3  \n",
      "0  Salons/Barbershops  Entertainment  Home Services  Salons/Barbershops  \n",
      "1         Restaurants    Restaurants   Pet Services         Restaurants  \n",
      "2         Restaurants    Restaurants    Restaurants         Restaurants  \n",
      "3         Restaurants    Restaurants    Restaurants         Restaurants  \n",
      "4         Restaurants    Restaurants    Restaurants         Restaurants  \n"
     ]
    }
   ],
   "source": [
    "# Model 3: MoritzLaurer/DeBERTa-v3-base-mnli-fever-anli\n",
    "# pip install transformers[sentencepiece]\n",
    "from transformers import pipeline\n",
    "classifier_3 = pipeline(\"zero-shot-classification\", model=\"MoritzLaurer/DeBERTa-v3-base-mnli-fever-anli\")\n",
    "def model3_review(text):\n",
    "    result = classifier_3(text, candidate_labels=classes, multi_label=True)\n",
    "    return result['labels'][0]  # Returning the top category\n",
    "\n",
    "# Apply the function to each review in the DataFrame\n",
    "df['model3'] = df['text'].apply(model3_review)\n",
    "print(df.head())"
   ]
  },
  {
   "cell_type": "markdown",
   "metadata": {},
   "source": [
    "Comparison and Accuracy Calculation:"
   ]
  },
  {
   "cell_type": "code",
   "execution_count": 12,
   "metadata": {},
   "outputs": [
    {
     "name": "stdout",
     "output_type": "stream",
     "text": [
      "Accuracy of model 1:  0.61\n",
      "Accuracy of model 2:  0.59\n",
      "Accuracy of model 3:  0.73\n"
     ]
    }
   ],
   "source": [
    "accuracy1 = (df['model1'] == df['Manual_Category']).mean()\n",
    "accuracy2 = (df['model2'] == df['Manual_Category']).mean()\n",
    "accuracy3 = (df['model3'] == df['Manual_Category']).mean()\n",
    "print(\"Accuracy of model 1: \", accuracy1)\n",
    "print(\"Accuracy of model 2: \", accuracy2)\n",
    "print(\"Accuracy of model 3: \", accuracy3)"
   ]
  },
  {
   "cell_type": "markdown",
   "metadata": {},
   "source": [
    "### Model 1: facebook/bart-large-mnli\n",
    "Accuracy: 61%\n",
    "\n",
    "This model uses a combined bidirectional encoder and autoregressive decoder, trained on the MNLI dataset. Its moderate accuracy suggests that while effective at general language tasks, it may not fully capture the specific nuances of Yelp reviews.\n",
    "\n",
    "### Model 2: knowledgator/comprehend_it-multilingual-t5-base\n",
    "Accuracy: 59%\n",
    "\n",
    "Based on the T5 architecture, which processes tasks as text generation in multiple languages, its slightly lower performance might stem from its generalist training which is not specialized enough for the particular characteristics of Yelp reviews.\n",
    "\n",
    "### Model 3: MoritzLaurer/DeBERTa-v3-base-mnli-fever-anli\n",
    "Accuracy: 73%\n",
    "\n",
    "DeBERTa enhances BERT architectures with a novel attention mechanism and is further fine-tuned on datasets aimed at improving inference, resulting in the highest accuracy among the three models. This suggests superior handling of the complex semantics in review texts.\n",
    "\n",
    "\n",
    "In summary, the varying accuracies reflect each model’s architectural strengths and training focus, with DeBERTa standing out due to its advanced inference capabilities and specialized attention mechanism."
   ]
  }
 ],
 "metadata": {
  "kernelspec": {
   "display_name": "Python 3",
   "language": "python",
   "name": "python3"
  },
  "language_info": {
   "codemirror_mode": {
    "name": "ipython",
    "version": 3
   },
   "file_extension": ".py",
   "mimetype": "text/x-python",
   "name": "python",
   "nbconvert_exporter": "python",
   "pygments_lexer": "ipython3",
   "version": "3.10.11"
  }
 },
 "nbformat": 4,
 "nbformat_minor": 2
}
