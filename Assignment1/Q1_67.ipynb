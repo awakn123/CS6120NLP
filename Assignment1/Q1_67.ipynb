{
 "cells": [
  {
   "cell_type": "markdown",
   "metadata": {},
   "source": [
    "This part would apply the stemming. I choose LancasterStemmer because it seems to be most efficient to find the root and would reduce the number of tokens, which make the last cluster easier."
   ]
  },
  {
   "cell_type": "code",
   "execution_count": 4,
   "metadata": {},
   "outputs": [
    {
     "name": "stdout",
     "output_type": "stream",
     "text": [
      "       pn_num  case_num                                         pn_history\n",
      "0           0         0  17 year old mal has com to the stud heal clin ...\n",
      "1           1         0  17 yo mal with recur palpit for the past 3 mo ...\n",
      "2           2         0  dillon cleveland is a 17 y o mal paty with no ...\n",
      "3           3         0  a 17 yo m c o palpit start 3 mos ago noth impr...\n",
      "4           4         0  17yo mal with no pmh her for evalu of palpit s...\n",
      "...       ...       ...                                                ...\n",
      "42141   95330         9  ms mad is a 20 yo fem pres w the worst ha of h...\n",
      "42142   95331         9  a 20 yo f cam complain a dul 8 10 headach that...\n",
      "42143   95332         9  ms mad is a 20yo fem who pres with a headach o...\n",
      "42144   95333         9  stephany mad is a 20 year old wom complain of ...\n",
      "42145   95334         9  paty is a 20 yo f who pres with a headach she ...\n",
      "\n",
      "[42146 rows x 3 columns]\n"
     ]
    }
   ],
   "source": [
    "import pandas as pd\n",
    "import re\n",
    "from nltk.stem import LancasterStemmer\n",
    "\n",
    "# Read the CSV file\n",
    "df = pd.read_csv('patient_notes.csv')\n",
    "\n",
    "# Create an instance of LancasterStemmer\n",
    "stemmer = LancasterStemmer()\n",
    "\n",
    "# Apply LancasterStemmer to the pn_history column\n",
    "df['pn_history'] = df['pn_history'].apply(lambda x: ' '.join([stemmer.stem(word) for word in re.findall(r'\\w+', x)]))\n",
    "\n",
    "# Print the updated dataframe\n",
    "print(df)\n"
   ]
  },
  {
   "cell_type": "markdown",
   "metadata": {},
   "source": [
    "Apply lemmatizer."
   ]
  },
  {
   "cell_type": "code",
   "execution_count": 11,
   "metadata": {},
   "outputs": [
    {
     "name": "stderr",
     "output_type": "stream",
     "text": [
      "[nltk_data] Downloading package wordnet to /Users/caoyun/nltk_data...\n",
      "[nltk_data]   Package wordnet is already up-to-date!\n"
     ]
    },
    {
     "name": "stdout",
     "output_type": "stream",
     "text": [
      "       pn_num  case_num                                         pn_history\n",
      "0           0         0  17 year old mal ha com stud heal clin complain...\n",
      "1           1         0  17 yo mal recur palpit past 3 mo last 3 4 min ...\n",
      "2           2         0  dillon cleveland 17 mal paty sign pmh pres com...\n",
      "3           3         0  17 yo c palpit start 3 mo ago noth improv exac...\n",
      "4           4         0  17yo mal pmh evalu palpit stat last 3 4mo ha f...\n",
      "...       ...       ...                                                ...\n",
      "42141   95330         9  mad 20 yo fem pres w worst ha lif unlik anyth ...\n",
      "42142   95331         9  20 yo f cam complain dul 8 10 headach assocy n...\n",
      "42143   95332         9  mad 20yo fem pres headach 1 day dur wok yester...\n",
      "42144   95333         9  stephany mad 20 year old wom complain headach ...\n",
      "42145   95334         9  paty 20 yo f pres headach said ha nev somethig...\n",
      "\n",
      "[42146 rows x 3 columns]\n"
     ]
    }
   ],
   "source": [
    "import nltk\n",
    "\n",
    "nltk.download('wordnet')\n",
    "\n",
    "from nltk.stem import WordNetLemmatizer\n",
    "\n",
    "lemmatizer = WordNetLemmatizer()\n",
    "df['pn_history'] = df['pn_history'].apply(lambda x: ' '.join([lemmatizer.lemmatize(word) for word in re.findall(r'\\w+', x)]))\n",
    "print(df)"
   ]
  },
  {
   "cell_type": "markdown",
   "metadata": {},
   "source": [
    "Apply a stop word list to filter out unnecessary words."
   ]
  },
  {
   "cell_type": "code",
   "execution_count": 12,
   "metadata": {},
   "outputs": [
    {
     "name": "stderr",
     "output_type": "stream",
     "text": [
      "[nltk_data] Downloading package stopwords to\n",
      "[nltk_data]     /Users/caoyun/nltk_data...\n",
      "[nltk_data]   Package stopwords is already up-to-date!\n"
     ]
    },
    {
     "name": "stdout",
     "output_type": "stream",
     "text": [
      "       pn_num  case_num                                         pn_history\n",
      "0           0         0  17 year old mal ha com stud heal clin complain...\n",
      "1           1         0  17 yo mal recur palpit past 3 mo last 3 4 min ...\n",
      "2           2         0  dillon cleveland 17 mal paty sign pmh pres com...\n",
      "3           3         0  17 yo c palpit start 3 mo ago noth improv exac...\n",
      "4           4         0  17yo mal pmh evalu palpit stat last 3 4mo ha f...\n",
      "...       ...       ...                                                ...\n",
      "42141   95330         9  mad 20 yo fem pres w worst ha lif unlik anyth ...\n",
      "42142   95331         9  20 yo f cam complain dul 8 10 headach assocy n...\n",
      "42143   95332         9  mad 20yo fem pres headach 1 day dur wok yester...\n",
      "42144   95333         9  stephany mad 20 year old wom complain headach ...\n",
      "42145   95334         9  paty 20 yo f pres headach said ha nev somethig...\n",
      "\n",
      "[42146 rows x 3 columns]\n"
     ]
    }
   ],
   "source": [
    "from nltk.corpus import stopwords\n",
    "\n",
    "# Download the stopwords if not already present\n",
    "nltk.download('stopwords')\n",
    "\n",
    "# Get the list of stopwords\n",
    "stop_words = set(stopwords.words('english'))\n",
    "\n",
    "# Apply stop word filtering to the pn_history column\n",
    "df['pn_history'] = df['pn_history'].apply(lambda x: ' '.join([word for word in re.findall(r'\\w+', x) if word not in stop_words]))\n",
    "\n",
    "# Print the updated dataframe\n",
    "print(df)\n"
   ]
  }
 ],
 "metadata": {
  "kernelspec": {
   "display_name": "CS6120",
   "language": "python",
   "name": "python3"
  },
  "language_info": {
   "codemirror_mode": {
    "name": "ipython",
    "version": 3
   },
   "file_extension": ".py",
   "mimetype": "text/x-python",
   "name": "python",
   "nbconvert_exporter": "python",
   "pygments_lexer": "ipython3",
   "version": "3.9.18"
  }
 },
 "nbformat": 4,
 "nbformat_minor": 2
}
