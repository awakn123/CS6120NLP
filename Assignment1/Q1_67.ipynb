{
 "cells": [
  {
   "cell_type": "markdown",
   "metadata": {},
   "source": [
    "This part would apply the stemming. I choose LancasterStemmer because it seems to be most efficient to find the root and would reduce the number of tokens, which make the last cluster easier."
   ]
  },
  {
   "cell_type": "code",
   "execution_count": 4,
   "metadata": {},
   "outputs": [
    {
     "name": "stdout",
     "output_type": "stream",
     "text": [
      "       pn_num  case_num                                         pn_history\n",
      "0           0         0  17 year old mal has com to the stud heal clin ...\n",
      "1           1         0  17 yo mal with recur palpit for the past 3 mo ...\n",
      "2           2         0  dillon cleveland is a 17 y o mal paty with no ...\n",
      "3           3         0  a 17 yo m c o palpit start 3 mos ago noth impr...\n",
      "4           4         0  17yo mal with no pmh her for evalu of palpit s...\n",
      "...       ...       ...                                                ...\n",
      "42141   95330         9  ms mad is a 20 yo fem pres w the worst ha of h...\n",
      "42142   95331         9  a 20 yo f cam complain a dul 8 10 headach that...\n",
      "42143   95332         9  ms mad is a 20yo fem who pres with a headach o...\n",
      "42144   95333         9  stephany mad is a 20 year old wom complain of ...\n",
      "42145   95334         9  paty is a 20 yo f who pres with a headach she ...\n",
      "\n",
      "[42146 rows x 3 columns]\n"
     ]
    }
   ],
   "source": [
    "import pandas as pd\n",
    "import re\n",
    "from nltk.stem import LancasterStemmer\n",
    "\n",
    "# Read the CSV file\n",
    "df = pd.read_csv('patient_notes.csv')\n",
    "\n",
    "# Create an instance of LancasterStemmer\n",
    "stemmer = LancasterStemmer()\n",
    "\n",
    "# Apply LancasterStemmer to the pn_history column\n",
    "df['pn_history'] = df['pn_history'].apply(lambda x: ' '.join([stemmer.stem(word) for word in re.findall(r'\\w+', x)]))\n",
    "\n",
    "# Print the updated dataframe\n",
    "print(df)\n"
   ]
  },
  {
   "cell_type": "markdown",
   "metadata": {},
   "source": [
    "Apply lemmatizer."
   ]
  },
  {
   "cell_type": "code",
   "execution_count": 8,
   "metadata": {},
   "outputs": [
    {
     "name": "stderr",
     "output_type": "stream",
     "text": [
      "[nltk_data] Downloading package wordnet to /Users/caoyun/nltk_data...\n",
      "[nltk_data]   Package wordnet is already up-to-date!\n"
     ]
    },
    {
     "name": "stdout",
     "output_type": "stream",
     "text": [
      "WordNet downloaded.\n",
      "       pn_num  case_num                                         pn_history\n",
      "0           0         0  17 year old mal ha com to the stud heal clin c...\n",
      "1           1         0  17 yo mal with recur palpit for the past 3 mo ...\n",
      "2           2         0  dillon cleveland is a 17 y o mal paty with no ...\n",
      "3           3         0  a 17 yo m c o palpit start 3 mo ago noth impro...\n",
      "4           4         0  17yo mal with no pmh her for evalu of palpit s...\n",
      "...       ...       ...                                                ...\n",
      "42141   95330         9  m mad is a 20 yo fem pres w the worst ha of he...\n",
      "42142   95331         9  a 20 yo f cam complain a dul 8 10 headach that...\n",
      "42143   95332         9  m mad is a 20yo fem who pres with a headach of...\n",
      "42144   95333         9  stephany mad is a 20 year old wom complain of ...\n",
      "42145   95334         9  paty is a 20 yo f who pres with a headach she ...\n",
      "\n",
      "[42146 rows x 3 columns]\n"
     ]
    }
   ],
   "source": [
    "import nltk\n",
    "\n",
    "# Function to check and download WordNet if not present\n",
    "def download_wordnet_if_not_present():\n",
    "    try:\n",
    "        # Check if WordNet is already downloaded\n",
    "        nltk.data.find('corpora/wordnet')\n",
    "    except LookupError:\n",
    "        # Download WordNet if not present\n",
    "        nltk.download('wordnet')\n",
    "        print(\"WordNet downloaded.\")\n",
    "    else:\n",
    "        print(\"WordNet is already available.\")\n",
    "\n",
    "# Call this function at the beginning of your script\n",
    "download_wordnet_if_not_present()\n",
    "\n",
    "from nltk.stem import WordNetLemmatizer\n",
    "\n",
    "lemmatizer = WordNetLemmatizer()\n",
    "df['pn_history'] = df['pn_history'].apply(lambda x: ' '.join([lemmatizer.lemmatize(word) for word in x.split()]))\n",
    "print(df)"
   ]
  }
 ],
 "metadata": {
  "kernelspec": {
   "display_name": "CS6120",
   "language": "python",
   "name": "python3"
  },
  "language_info": {
   "codemirror_mode": {
    "name": "ipython",
    "version": 3
   },
   "file_extension": ".py",
   "mimetype": "text/x-python",
   "name": "python",
   "nbconvert_exporter": "python",
   "pygments_lexer": "ipython3",
   "version": "3.9.18"
  }
 },
 "nbformat": 4,
 "nbformat_minor": 2
}
