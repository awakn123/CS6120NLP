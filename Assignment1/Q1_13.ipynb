{
 "cells": [
  {
   "cell_type": "code",
   "execution_count": null,
   "metadata": {},
   "outputs": [],
   "source": [
    "Yue Liu"
   ]
  },
  {
   "cell_type": "code",
   "execution_count": 4,
   "metadata": {},
   "outputs": [
    {
     "name": "stdout",
     "output_type": "stream",
     "text": [
      "Collecting textblob\n",
      "  Downloading textblob-0.17.1-py2.py3-none-any.whl (636 kB)\n",
      "     -------------------------------------- 636.8/636.8 kB 2.9 MB/s eta 0:00:00\n",
      "Collecting nltk>=3.1\n",
      "  Downloading nltk-3.8.1-py3-none-any.whl (1.5 MB)\n",
      "     ---------------------------------------- 1.5/1.5 MB 16.1 MB/s eta 0:00:00\n",
      "Collecting joblib\n",
      "  Downloading joblib-1.3.2-py3-none-any.whl (302 kB)\n",
      "     ------------------------------------- 302.2/302.2 kB 18.2 MB/s eta 0:00:00\n",
      "Collecting click\n",
      "  Downloading click-8.1.7-py3-none-any.whl (97 kB)\n",
      "     ---------------------------------------- 97.9/97.9 kB ? eta 0:00:00\n",
      "Collecting tqdm\n",
      "  Downloading tqdm-4.66.1-py3-none-any.whl (78 kB)\n",
      "     ---------------------------------------- 78.3/78.3 kB 4.3 MB/s eta 0:00:00\n",
      "Collecting regex>=2021.8.3\n",
      "  Downloading regex-2023.12.25-cp310-cp310-win_amd64.whl (269 kB)\n",
      "     -------------------------------------- 269.5/269.5 kB 8.4 MB/s eta 0:00:00\n",
      "Requirement already satisfied: colorama in c:\\users\\yue\\appdata\\local\\packages\\pythonsoftwarefoundation.python.3.10_qbz5n2kfra8p0\\localcache\\local-packages\\python310\\site-packages (from click->nltk>=3.1->textblob) (0.4.6)\n",
      "Installing collected packages: tqdm, regex, joblib, click, nltk, textblob\n",
      "Successfully installed click-8.1.7 joblib-1.3.2 nltk-3.8.1 regex-2023.12.25 textblob-0.17.1 tqdm-4.66.1\n",
      "Note: you may need to restart the kernel to use updated packages.\n"
     ]
    },
    {
     "name": "stderr",
     "output_type": "stream",
     "text": [
      "\n",
      "[notice] A new release of pip available: 22.3 -> 23.3.2\n",
      "[notice] To update, run: C:\\Users\\Yue\\AppData\\Local\\Microsoft\\WindowsApps\\PythonSoftwareFoundation.Python.3.10_qbz5n2kfra8p0\\python.exe -m pip install --upgrade pip\n"
     ]
    },
    {
     "name": "stdout",
     "output_type": "stream",
     "text": [
      "       pn_num  case_num                                         pn_history\n",
      "0           0         0  17-year-old male, has come to the student heal...\n",
      "1           1         0  17 yo male with recurrent palpitations for the...\n",
      "2           2         0  dillon cleveland is a 17 y.o. male patient wit...\n",
      "3           3         0  a 17 yo m c/o palpitation started 3 mos ago; \\...\n",
      "4           4         0  17yo male with no pmh here for evaluation of p...\n",
      "...       ...       ...                                                ...\n",
      "42141   95330         9  ms. madden is a 20 yo female presenting w/ the...\n",
      "42142   95331         9  a 20 yo f came complain a dull 8/10 headache t...\n",
      "42143   95332         9  ms. madden is a 20yo female who presents with ...\n",
      "42144   95333         9  stephanie madden is a 20 year old woman compla...\n",
      "42145   95334         9  patient is a 20 yo f who presents with a heada...\n",
      "\n",
      "[42146 rows x 3 columns]\n"
     ]
    }
   ],
   "source": [
    "%pip install textblob\n",
    "import pandas as pd\n",
    "import re\n",
    "from textblob import TextBlob\n",
    "\n",
    "# Read the CSV file\n",
    "df = pd.read_csv('patient_notes.csv')\n",
    "\n",
    "# Case Conversion\n",
    "df['pn_history'] = df['pn_history'].str.lower()\n",
    "\n",
    "print(df)"
   ]
  },
  {
   "cell_type": "code",
   "execution_count": 3,
   "metadata": {},
   "outputs": [
    {
     "name": "stdout",
     "output_type": "stream",
     "text": [
      "       pn_num  case_num                                         pn_history\n",
      "0           0         0  17yearold male has come to the student health ...\n",
      "1           1         0  17 yo male with recurrent palpitations for the...\n",
      "2           2         0  dillon cleveland is a 17 yo male patient with ...\n",
      "3           3         0  a 17 yo m co palpitation started 3 mos ago not...\n",
      "4           4         0  17yo male with no pmh here for evaluation of p...\n",
      "...       ...       ...                                                ...\n",
      "42141   95330         9  ms madden is a 20 yo female presenting w the w...\n",
      "42142   95331         9  a 20 yo f came complain a dull 810 headache th...\n",
      "42143   95332         9  ms madden is a 20yo female who presents with a...\n",
      "42144   95333         9  stephanie madden is a 20 year old woman compla...\n",
      "42145   95334         9  patient is a 20 yo f who presents with a heada...\n",
      "\n",
      "[42146 rows x 3 columns]\n"
     ]
    }
   ],
   "source": [
    "# Removing Punctuation and Special Characters\n",
    "df['pn_history'] = df['pn_history'].str.replace(r'[^a-zA-Z0-9 ]', '', regex=True)\n",
    "\n",
    "print(df)"
   ]
  },
  {
   "cell_type": "code",
   "execution_count": 5,
   "metadata": {},
   "outputs": [],
   "source": [
    "# Correcting Typos and Spelling.\n",
    "df['pn_history'] = df['pn_history'].apply(lambda text: str(TextBlob(text).correct()))\n",
    "\n",
    "print(df)"
   ]
  },
  {
   "cell_type": "markdown",
   "metadata": {},
   "source": [
    "运行时间过长"
   ]
  }
 ],
 "metadata": {
  "kernelspec": {
   "display_name": "Python 3",
   "language": "python",
   "name": "python3"
  },
  "language_info": {
   "codemirror_mode": {
    "name": "ipython",
    "version": 3
   },
   "file_extension": ".py",
   "mimetype": "text/x-python",
   "name": "python",
   "nbconvert_exporter": "python",
   "pygments_lexer": "ipython3",
   "version": "3.10.11"
  }
 },
 "nbformat": 4,
 "nbformat_minor": 2
}
