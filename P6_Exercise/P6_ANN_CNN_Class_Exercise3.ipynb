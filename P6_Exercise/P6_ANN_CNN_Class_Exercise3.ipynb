{
 "cells": [
  {
   "cell_type": "markdown",
   "id": "a40ea18e",
   "metadata": {},
   "source": [
    "## <font color = darkblue> Class Exercise Part 3\n",
    "    "
   ]
  },
  {
   "cell_type": "code",
   "execution_count": null,
   "id": "42d4402a",
   "metadata": {},
   "outputs": [],
   "source": [
    "# 1. Create a simple ANN model\n",
    "# 2. Train the model\n",
    "# 3. Evaluate the model\n",
    "# 4. Create a hyperparameter tuning grid similar to the ANN playground\n",
    "# 5. Identify the best model, and optionally pickle it\n",
    "# 6. Optionally find a way of printing time stamp as the grid search moves in its steps"
   ]
  },
  {
   "cell_type": "code",
   "execution_count": null,
   "id": "6741fe23",
   "metadata": {},
   "outputs": [],
   "source": [
    "\n",
    "\n"
   ]
  }
 ],
 "metadata": {
  "kernelspec": {
   "display_name": "Python 3 (ipykernel)",
   "language": "python",
   "name": "python3"
  },
  "language_info": {
   "codemirror_mode": {
    "name": "ipython",
    "version": 3
   },
   "file_extension": ".py",
   "mimetype": "text/x-python",
   "name": "python",
   "nbconvert_exporter": "python",
   "pygments_lexer": "ipython3",
   "version": "3.9.13"
  }
 },
 "nbformat": 4,
 "nbformat_minor": 5
}
