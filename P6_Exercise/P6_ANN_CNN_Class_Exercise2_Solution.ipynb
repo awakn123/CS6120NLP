{
 "cells": [
  {
   "cell_type": "markdown",
   "id": "a40ea18e",
   "metadata": {},
   "source": [
    "## <font color = darkblue> Class Exercise Part 2\n",
    "    "
   ]
  },
  {
   "cell_type": "code",
   "execution_count": null,
   "id": "42d4402a",
   "metadata": {},
   "outputs": [],
   "source": [
    "from sklearn.feature_extraction.text import TfidfVectorizer\n",
    "from sklearn.model_selection import train_test_split\n",
    "from sklearn.preprocessing import LabelEncoder\n",
    "\n",
    "# Create a TfidfVectorizer object\n",
    "vectorizer = TfidfVectorizer(stop_words='english')\n",
    "\n",
    "# Fit the vectorizer on the text data\n",
    "vectorizer.fit(df['short_description'])\n",
    "\n",
    "# Transform the text data into numerical vectors\n",
    "X = vectorizer.transform(df['short_description'])\n",
    "\n",
    "# Split the data into train and test sets\n",
    "X_train, X_test, y_train, y_test = train_test_split(X, df['category'], test_size=0.2, random_state=42)\n",
    "\n",
    "# Encode the target variable\n",
    "label_encoder = LabelEncoder()\n",
    "y_train_encoded = label_encoder.fit_transform(y_train)\n",
    "y_test_encoded = label_encoder.transform(y_test)\n",
    "\n",
    "y_train_encoded.shape"
   ]
  },
  {
   "cell_type": "code",
   "execution_count": null,
   "id": "6741fe23",
   "metadata": {},
   "outputs": [],
   "source": [
    "\n",
    "\n",
    "# Investigate y-train_encoded and y_test_encoded\n",
    "label_encoder.classes_\n",
    "\n",
    "# print a few elements of y_train_encoded and y_test_encoded\n",
    "y_train_encoded[:5]\n",
    "\n",
    "# print dimensions of X_train and X_test\n",
    "X_train.shape\n",
    "# X_test.shape\n",
    "\n",
    "# Convert the X_train and X_test to df with the column names and print the first few rows\n",
    "X_train_df = pd.DataFrame(X_train.toarray(), columns=vectorizer.get_feature_names_out())\n",
    "X_test_df = pd.DataFrame(X_test.toarray(), columns=vectorizer.get_feature_names_out())\n",
    "\n",
    "print(X_train_df.shape)\n",
    "print(X_train_df.head())\n",
    "\n",
    "# several non english words are present in the dat, let's remove non-english words\n",
    "import nltk\n",
    "nltk.download('words')\n",
    "words = set(nltk.corpus.words.words())\n",
    "\n",
    "# remove non-english words\n",
    "X_train_df = X_train_df[X_train_df.columns[X_train_df.columns.isin(words)]]\n",
    "X_test_df = X_test_df[X_test_df.columns[X_test_df.columns.isin(words)]]\n",
    "\n",
    "X_train_df.shape\n",
    "\n"
   ]
  },
  {
   "cell_type": "code",
   "execution_count": null,
   "id": "b69b3389",
   "metadata": {},
   "outputs": [],
   "source": [
    "len(words)\n",
    "# print the first 10 words in the words set\n",
    "list(words)[:10]\n",
    "\n",
    "# print the longest word in the words set\n",
    "longest_word = max(words, key=len)\n",
    "longest_word\n",
    "\n",
    "# print the shortest word in the words set\n",
    "shortest_word = min(words, key=len)\n",
    "shortest_word"
   ]
  }
 ],
 "metadata": {
  "kernelspec": {
   "display_name": "Python 3 (ipykernel)",
   "language": "python",
   "name": "python3"
  },
  "language_info": {
   "codemirror_mode": {
    "name": "ipython",
    "version": 3
   },
   "file_extension": ".py",
   "mimetype": "text/x-python",
   "name": "python",
   "nbconvert_exporter": "python",
   "pygments_lexer": "ipython3",
   "version": "3.9.13"
  }
 },
 "nbformat": 4,
 "nbformat_minor": 5
}
