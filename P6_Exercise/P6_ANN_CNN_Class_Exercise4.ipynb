{
 "cells": [
  {
   "cell_type": "markdown",
   "id": "a40ea18e",
   "metadata": {},
   "source": [
    "## <font color = darkblue> Class Exercise Part 4\n",
    "    "
   ]
  },
  {
   "cell_type": "code",
   "execution_count": 1,
   "id": "42d4402a",
   "metadata": {},
   "outputs": [],
   "source": [
    "# 1. Create a simple CNN model\n",
    "# 2. Improve upon it\n"
   ]
  },
  {
   "cell_type": "code",
   "execution_count": null,
   "id": "6741fe23",
   "metadata": {},
   "outputs": [],
   "source": [
    "\n",
    "\n"
   ]
  }
 ],
 "metadata": {
  "kernelspec": {
   "display_name": "Python 3 (ipykernel)",
   "language": "python",
   "name": "python3"
  },
  "language_info": {
   "codemirror_mode": {
    "name": "ipython",
    "version": 3
   },
   "file_extension": ".py",
   "mimetype": "text/x-python",
   "name": "python",
   "nbconvert_exporter": "python",
   "pygments_lexer": "ipython3",
   "version": "3.9.13"
  }
 },
 "nbformat": 4,
 "nbformat_minor": 5
}
