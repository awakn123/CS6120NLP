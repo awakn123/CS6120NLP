{
 "cells": [
  {
   "cell_type": "markdown",
   "id": "a40ea18e",
   "metadata": {},
   "source": [
    "## <font color = darkblue> Class Exercise Part 2\n",
    "    "
   ]
  },
  {
   "cell_type": "code",
   "execution_count": null,
   "id": "42d4402a",
   "metadata": {},
   "outputs": [],
   "source": [
    "# Preprocess the data\n",
    "# 1. Remove the punctuations and stop words, convert them to lower case\n",
    "# 2. Tokenize the words\n",
    "# 3. Optionally Apply stemming and create a vocabulary\n",
    "# 4. Convert the words to numbers using DTM techniques\n",
    "# 5. Split the data into train and test\n",
    "# 6. Encode the target variable\n"
   ]
  },
  {
   "cell_type": "code",
   "execution_count": null,
   "id": "6741fe23",
   "metadata": {},
   "outputs": [],
   "source": [
    "\n",
    "\n"
   ]
  }
 ],
 "metadata": {
  "kernelspec": {
   "display_name": "Python 3 (ipykernel)",
   "language": "python",
   "name": "python3"
  },
  "language_info": {
   "codemirror_mode": {
    "name": "ipython",
    "version": 3
   },
   "file_extension": ".py",
   "mimetype": "text/x-python",
   "name": "python",
   "nbconvert_exporter": "python",
   "pygments_lexer": "ipython3",
   "version": "3.9.13"
  }
 },
 "nbformat": 4,
 "nbformat_minor": 5
}
