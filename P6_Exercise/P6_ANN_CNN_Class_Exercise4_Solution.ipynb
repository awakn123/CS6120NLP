{
 "cells": [
  {
   "cell_type": "markdown",
   "id": "a40ea18e",
   "metadata": {},
   "source": [
    "## <font color = darkblue> Class Exercise Part 4\n",
    "    "
   ]
  },
  {
   "cell_type": "code",
   "execution_count": null,
   "id": "4234f704",
   "metadata": {},
   "outputs": [],
   "source": []
  },
  {
   "cell_type": "code",
   "execution_count": null,
   "id": "467c937c",
   "metadata": {},
   "outputs": [],
   "source": []
  },
  {
   "cell_type": "code",
   "execution_count": null,
   "id": "d4c5d4b3",
   "metadata": {},
   "outputs": [],
   "source": [
    "\n",
    "# Encode the target variable into numerical values\n",
    "label_encoder = LabelEncoder()\n",
    "y_train_encoded = label_encoder.fit_transform(y_train)\n",
    "y_test_encoded = label_encoder.transform(y_test)\n",
    "\n",
    "# Convert the numerical values into one-hot encoded vectors\n",
    "y_train_encoded = to_categorical(y_train_encoded)\n",
    "y_test_encoded = to_categorical(y_test_encoded)\n",
    "\n"
   ]
  },
  {
   "cell_type": "code",
   "execution_count": 1,
   "id": "42d4402a",
   "metadata": {},
   "outputs": [],
   "source": [
    "from keras.models import Sequential\n",
    "from keras.layers import Conv1D, MaxPooling1D, Flatten, Dense, Dropout\n",
    "from keras.optimizers import Adam\n",
    "from keras.utils import to_categorical\n",
    "from keras.callbacks import EarlyStopping\n",
    "\n",
    "# Define the CNN model\n",
    "model = Sequential()\n",
    "model.add(Conv1D(filters=32, kernel_size=3, activation='relu', input_shape=(X_train_vectors.shape[1], 1)))\n",
    "model.add(MaxPooling1D(pool_size=2))\n",
    "model.add(Conv1D(filters=64, kernel_size=3, activation='relu'))\n",
    "model.add(MaxPooling1D(pool_size=2))\n",
    "model.add(Flatten())\n",
    "model.add(Dense(64, activation='relu'))\n",
    "model.add(Dropout(0.2))\n",
    "model.add(Dense(3, activation='softmax'))\n",
    "\n",
    "# Compile the model\n",
    "model.compile(loss='categorical_crossentropy', optimizer=Adam(learning_rate=0.0001), metrics=['accuracy'])\n",
    "\n"
   ]
  },
  {
   "cell_type": "code",
   "execution_count": null,
   "id": "6741fe23",
   "metadata": {},
   "outputs": [],
   "source": [
    "# Reshape the input data to match the CNN model's input shape\n",
    "X_train_vectors_reshaped = X_train_vectors.reshape(X_train_vectors.shape[0], X_train_vectors.shape[1], 1)\n",
    "X_test_vectors_reshaped = X_test_vectors.reshape(X_test_vectors.shape[0], X_test_vectors.shape[1], 1)\n",
    "\n",
    "# Train the model\n",
    "early_stopping = EarlyStopping(patience=3)\n",
    "model.fit(X_train_vectors_reshaped, y_train_encoded, epochs=100, batch_size=64, validation_split=0.15, callbacks=[early_stopping])\n",
    "\n",
    "# Predict the categories for the test data\n",
    "y_pred_cnn = model.predict(X_test_vectors_reshaped)\n",
    "\n",
    "# Calculate the accuracy of the model\n",
    "accuracy_cnn = accuracy_score(y_test_encoded.argmax(axis=1), y_pred_cnn.argmax(axis=1))\n",
    "accuracy_cnn\n",
    "\n",
    "\n"
   ]
  }
 ],
 "metadata": {
  "kernelspec": {
   "display_name": "Python 3 (ipykernel)",
   "language": "python",
   "name": "python3"
  },
  "language_info": {
   "codemirror_mode": {
    "name": "ipython",
    "version": 3
   },
   "file_extension": ".py",
   "mimetype": "text/x-python",
   "name": "python",
   "nbconvert_exporter": "python",
   "pygments_lexer": "ipython3",
   "version": "3.9.13"
  }
 },
 "nbformat": 4,
 "nbformat_minor": 5
}
