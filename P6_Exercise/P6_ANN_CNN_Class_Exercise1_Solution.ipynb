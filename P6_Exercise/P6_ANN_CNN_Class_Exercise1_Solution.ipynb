{
 "cells": [
  {
   "cell_type": "markdown",
   "id": "a40ea18e",
   "metadata": {},
   "source": [
    "## <font color = darkblue> Class Exercise Part 1\n",
    "    "
   ]
  },
  {
   "cell_type": "code",
   "execution_count": null,
   "id": "42d4402a",
   "metadata": {},
   "outputs": [],
   "source": [
    "# Importing dependecies\n",
    "\n",
    "import os\n",
    "import sys\n",
    "import time\n",
    "import datetime\n",
    "\n",
    "import pandas as pd\n",
    "import numpy as np\n",
    "import re\n",
    "import nltk\n",
    "import datetime\n",
    "\n",
    "from sklearn.model_selection import train_test_split\n",
    "from sklearn.preprocessing import LabelEncoder\n",
    "\n",
    "from sklearn.feature_extraction.text import TfidfVectorizer\n",
    "\n",
    "\n",
    "from sklearn.metrics import accuracy_score\n",
    "from sklearn.metrics import confusion_matrix\n",
    "\n",
    "\n",
    "# Inset time stamp with only time in the format hour, min, sec   \n",
    "def insert_time_stamp():\n",
    "    time_stamp = datetime.datetime.now().strftime(\"%H:%M:%S\")\n",
    "    return time_stamp\n",
    "\n",
    "insert_time_stamp()"
   ]
  },
  {
   "cell_type": "code",
   "execution_count": null,
   "id": "6741fe23",
   "metadata": {},
   "outputs": [],
   "source": [
    "print(insert_time_stamp())\n",
    "\n",
    "# Read the JSON file and convert it to a DataFrame\n",
    "df = pd.read_json('/Users/p.mittal/Library/Mobile Documents/com~apple~CloudDocs/Roux/Courses/NLP/Data/News Articles Classification Huff Post /News_Category_Dataset_v3.json', lines=True)\n",
    "\n",
    "df.shape\n",
    "\n",
    "df.head()\n",
    "\n",
    "list(df.columns)\n",
    "\n",
    "df[\"category\"].value_counts().shape\n",
    "\n",
    "# remove the link column\n",
    "df.drop([\"link\"], axis=1, inplace=True)\n",
    "\n",
    "# create two columns meassuring the length of headline and short_description columns\n",
    "df[\"headline_length\"] = df[\"headline\"].apply(lambda x: len(x))\n",
    "df[\"short_description_length\"] = df[\"short_description\"].apply(lambda x: len(x))\n",
    "\n",
    "print(insert_time_stamp())\n",
    "\n",
    "df.head()\n",
    "# correlation between headline_length and short_description_length\n",
    "# df[\"headline_length\"].corr(df[\"short_description_length\"])\n",
    "\n"
   ]
  },
  {
   "cell_type": "code",
   "execution_count": null,
   "id": "31cc1df3",
   "metadata": {},
   "outputs": [],
   "source": [
    "df[\"category\"].value_counts()\n",
    "# CHoose the top 3 categories\n",
    "top_3_categories = df[\"category\"].value_counts().index[:3]\n",
    "print(top_3_categories)\n",
    "\n",
    "print(df[\"category\"].value_counts())\n",
    "\n",
    "# subset the data to only include the top 3 categories\n",
    "df = df[df[\"category\"].isin(top_3_categories)]\n",
    "df.shape\n",
    "\n",
    "# check for missing values\n",
    "df.isnull().sum()\n",
    "\n",
    "# Take a 20% random sample of the data\n",
    "df = df.sample(frac=0.2, random_state=1)\n",
    "df.shape\n",
    "\n",
    "df[\"category\"].value_counts()"
   ]
  }
 ],
 "metadata": {
  "kernelspec": {
   "display_name": "Python 3 (ipykernel)",
   "language": "python",
   "name": "python3"
  },
  "language_info": {
   "codemirror_mode": {
    "name": "ipython",
    "version": 3
   },
   "file_extension": ".py",
   "mimetype": "text/x-python",
   "name": "python",
   "nbconvert_exporter": "python",
   "pygments_lexer": "ipython3",
   "version": "3.9.13"
  }
 },
 "nbformat": 4,
 "nbformat_minor": 5
}
