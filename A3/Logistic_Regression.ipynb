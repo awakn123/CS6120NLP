{
 "cells": [
  {
   "cell_type": "markdown",
   "metadata": {},
   "source": [
    "# Assignment3\n",
    "Repository Link: [Github](https://github.com/awakn123/CS6120NLP/tree/main)\n",
    "\n",
    "Members: Yun Cao, Yue Liu, Nan Chen, Muyang Cheng"
   ]
  },
  {
   "cell_type": "markdown",
   "metadata": {},
   "source": [
    "# Part 1: Data Preprocessing:\n",
    "1.1 Load the dataset and perform initial exploration to understand its structure."
   ]
  },
  {
   "cell_type": "code",
   "execution_count": 2,
   "metadata": {},
   "outputs": [
    {
     "name": "stdout",
     "output_type": "stream",
     "text": [
      "       reviewerID        asin                 reviewerName helpful  \\\n",
      "0  A1KLRMWW2FWPL4  0000031887  Amazon Customer \"cameramom\"  [0, 0]   \n",
      "1  A2G5TCU2WDFZ65  0000031887              Amazon Customer  [0, 0]   \n",
      "2  A1RLQXYNCMWRWN  0000031887                       Carola  [0, 0]   \n",
      "3   A8U3FAMSJVHS5  0000031887                      Caromcg  [0, 0]   \n",
      "4  A3GEOILWLK86XM  0000031887                           CJ  [0, 0]   \n",
      "\n",
      "                                          reviewText  overall  \\\n",
      "0  This is a great tutu and at a really great pri...      5.0   \n",
      "1  I bought this for my 4 yr old daughter for dan...      5.0   \n",
      "2  What can I say... my daughters have it in oran...      5.0   \n",
      "3  We bought several tutus at once, and they are ...      5.0   \n",
      "4  Thank you Halo Heaven great product for Little...      5.0   \n",
      "\n",
      "                         summary  unixReviewTime   reviewTime  \n",
      "0  Great tutu-  not cheaply made      1297468800  02 12, 2011  \n",
      "1                    Very Cute!!      1358553600  01 19, 2013  \n",
      "2       I have buy more than one      1357257600   01 4, 2013  \n",
      "3               Adorable, Sturdy      1398556800  04 27, 2014  \n",
      "4        Grammy's Angels Love it      1394841600  03 15, 2014  \n"
     ]
    }
   ],
   "source": [
    "# data link: https://snap.stanford.edu/data/amazon/productGraph/categoryFiles/reviews_Clothing_Shoes_and_Jewelry_5.json.gz\n",
    "import pandas as pd\n",
    "import json\n",
    "\n",
    "data = []\n",
    "with open('./Clothing_Shoes_and_Jewelry_5.json'\n",
    "            , 'r') as f:\n",
    "        for line in f:\n",
    "            data.append(json.loads(line))\n",
    "\n",
    "df = pd.DataFrame(data)\n",
    "#df = df.sample(1000)\n",
    "print(df.head())"
   ]
  },
  {
   "cell_type": "markdown",
   "metadata": {},
   "source": [
    "1.2 Clean the text data, including removing special characters, stopwords, applying lowercasing, and other tasks as\n",
    "you deem necessary."
   ]
  },
  {
   "cell_type": "code",
   "execution_count": 3,
   "metadata": {},
   "outputs": [
    {
     "name": "stderr",
     "output_type": "stream",
     "text": [
      "[nltk_data] Downloading package stopwords to\n",
      "[nltk_data]     /Users/nanchen/nltk_data...\n",
      "[nltk_data]   Package stopwords is already up-to-date!\n",
      "[nltk_data] Downloading package wordnet to /Users/nanchen/nltk_data...\n",
      "[nltk_data]   Package wordnet is already up-to-date!\n"
     ]
    }
   ],
   "source": [
    "from nltk.corpus import stopwords\n",
    "import nltk\n",
    "import re\n",
    "from symspellpy import SymSpell, Verbosity\n",
    "from nltk.stem import WordNetLemmatizer\n",
    "import pkg_resources\n",
    "import inflect\n",
    "import contractions\n",
    "import ssl\n",
    "\n",
    "try:\n",
    "    _create_unverified_https_context = ssl._create_unverified_context\n",
    "except AttributeError:\n",
    "    pass\n",
    "else:\n",
    "    ssl._create_default_https_context = _create_unverified_https_context\n",
    "nltk.download('stopwords')\n",
    "nltk.download('wordnet')\n",
    "\n",
    "stop_words = set(stopwords.words('english'))\n",
    "sym_spell = SymSpell(max_dictionary_edit_distance=2, prefix_length=7)\n",
    "dictionary_path = pkg_resources.resource_filename(\"symspellpy\", \"frequency_dictionary_en_82_765.txt\")\n",
    "bigram_path = pkg_resources.resource_filename(\"symspellpy\", \"frequency_bigramdictionary_en_243_342.txt\")\n",
    "sym_spell.load_dictionary(dictionary_path, term_index=0, count_index=1)\n",
    "sym_spell.load_bigram_dictionary(bigram_path, term_index=0, count_index=2)\n",
    "lemmatizer = WordNetLemmatizer()\n",
    "p = inflect.engine()\n",
    "\n",
    "def standardize_numbers(text):\n",
    "    return ' '.join([p.number_to_words(word) if word.isdigit() else word for word in text.split()])\n",
    "\n",
    "def handle_contractions(text):\n",
    "    return contractions.fix(text)\n",
    "\n",
    "def clean_text(text):\n",
    "    text = str(text)\n",
    "    # lowercase\n",
    "    text = text.lower()\n",
    "    # standardize\n",
    "    text = standardize_numbers(text)\n",
    "    # handle contractions\n",
    "    text = handle_contractions(text)\n",
    "    text = text.strip()\n",
    "    # correct typos\n",
    "    words = text.split()\n",
    "    corrected_words = []\n",
    "    for word in words:\n",
    "        suggestions = sym_spell.lookup(word, Verbosity.CLOSEST, max_edit_distance=2, include_unknown=True)\n",
    "        corrected_words.append(suggestions[0].term if suggestions else word)\n",
    "    text = ' '.join(corrected_words)\n",
    "    # remove special characters\n",
    "    text = re.sub(r'[^a-zA-Z0-9\\s]', ' ', text)\n",
    "    # remove stopwords\n",
    "    words = [word for word in text.split() if word not in stop_words]\n",
    "    # lemmatization\n",
    "    words = [lemmatizer.lemmatize(word) for word in words]\n",
    "    # rejoin words\n",
    "    text = ' '.join(words)\n",
    "    return text\n",
    "\n",
    "df[\"reviewText2\"] = df[\"reviewText\"].apply(lambda x: clean_text(x))\n",
    "df[\"summary2\"] = df[\"summary\"].apply(lambda x: clean_text(x))"
   ]
  },
  {
   "cell_type": "markdown",
   "metadata": {},
   "source": [
    "# Part 2: Word2Vec, fasttext embeddings\n",
    "2.1 Create 100D vectors using both Word2Vec (CBOW and SkipGram separately), and fasttext algorithms"
   ]
  },
  {
   "cell_type": "code",
   "execution_count": 4,
   "metadata": {},
   "outputs": [],
   "source": [
    "from gensim.models import Word2Vec\n",
    "from gensim.models import FastText\n",
    "\n",
    "sentences = [review.split() for review in df[\"reviewText2\"]]\n",
    "\n",
    "# Word2Vec CBOW Model\n",
    "cbow_model = Word2Vec(sentences, vector_size=100, window=5, min_count=1, sg=0)\n",
    "#cbow_model.save(\"cbow_word2vec.model\")\n",
    "\n",
    "# Word2Vec Skip-gram Model\n",
    "skipgram_model = Word2Vec(sentences, vector_size=100, window=5, min_count=1, sg=1)\n",
    "#skipgram_model.save(\"skipgram_word2vec.model\")\n",
    "\n",
    "# FastText Model\n",
    "fasttext_model = FastText(sentences, vector_size=100, window=5, min_count=1, sg=1)\n",
    "#fasttext_model.save(\"fasttext.model\")\n"
   ]
  },
  {
   "cell_type": "markdown",
   "metadata": {},
   "source": [
    "2.2 Average the vectors to create new average vector columns in the df"
   ]
  },
  {
   "cell_type": "code",
   "execution_count": 5,
   "metadata": {},
   "outputs": [
    {
     "name": "stderr",
     "output_type": "stream",
     "text": [
      "/var/folders/sr/wj2mw1_s3qv1nywqkp54rk080000gn/T/ipykernel_50772/112724244.py:12: PerformanceWarning: DataFrame is highly fragmented.  This is usually the result of calling `frame.insert` many times, which has poor performance.  Consider joining all columns at once using pd.concat(axis=1) instead. To get a de-fragmented frame, use `newframe = frame.copy()`\n",
      "  df_cbow_model[f\"w2v_emb_{i}\"] = embeddings.apply(lambda x: x[i])\n",
      "/var/folders/sr/wj2mw1_s3qv1nywqkp54rk080000gn/T/ipykernel_50772/112724244.py:12: PerformanceWarning: DataFrame is highly fragmented.  This is usually the result of calling `frame.insert` many times, which has poor performance.  Consider joining all columns at once using pd.concat(axis=1) instead. To get a de-fragmented frame, use `newframe = frame.copy()`\n",
      "  df_cbow_model[f\"w2v_emb_{i}\"] = embeddings.apply(lambda x: x[i])\n",
      "/var/folders/sr/wj2mw1_s3qv1nywqkp54rk080000gn/T/ipykernel_50772/112724244.py:12: PerformanceWarning: DataFrame is highly fragmented.  This is usually the result of calling `frame.insert` many times, which has poor performance.  Consider joining all columns at once using pd.concat(axis=1) instead. To get a de-fragmented frame, use `newframe = frame.copy()`\n",
      "  df_cbow_model[f\"w2v_emb_{i}\"] = embeddings.apply(lambda x: x[i])\n"
     ]
    },
    {
     "name": "stdout",
     "output_type": "stream",
     "text": [
      "       reviewerID        asin                 reviewerName helpful  \\\n",
      "0  A1KLRMWW2FWPL4  0000031887  Amazon Customer \"cameramom\"  [0, 0]   \n",
      "1  A2G5TCU2WDFZ65  0000031887              Amazon Customer  [0, 0]   \n",
      "2  A1RLQXYNCMWRWN  0000031887                       Carola  [0, 0]   \n",
      "3   A8U3FAMSJVHS5  0000031887                      Caromcg  [0, 0]   \n",
      "4  A3GEOILWLK86XM  0000031887                           CJ  [0, 0]   \n",
      "\n",
      "                                          reviewText  overall  \\\n",
      "0  This is a great tutu and at a really great pri...      5.0   \n",
      "1  I bought this for my 4 yr old daughter for dan...      5.0   \n",
      "2  What can I say... my daughters have it in oran...      5.0   \n",
      "3  We bought several tutus at once, and they are ...      5.0   \n",
      "4  Thank you Halo Heaven great product for Little...      5.0   \n",
      "\n",
      "                         summary  unixReviewTime   reviewTime  \\\n",
      "0  Great tutu-  not cheaply made      1297468800  02 12, 2011   \n",
      "1                    Very Cute!!      1358553600  01 19, 2013   \n",
      "2       I have buy more than one      1357257600   01 4, 2013   \n",
      "3               Adorable, Sturdy      1398556800  04 27, 2014   \n",
      "4        Grammy's Angels Love it      1394841600  03 15, 2014   \n",
      "\n",
      "                                         reviewText2  ... w2v_emb_90  \\\n",
      "0  great tutu really great price look cheap glad ...  ...   0.212160   \n",
      "1  bought four old daughter dance class wore toda...  ...   0.382212   \n",
      "2  say daughter orange black white pink thinking ...  ...   0.129024   \n",
      "3  bought several tutu got high review sturdy see...  ...  -0.047494   \n",
      "4  thank halo heaven great product little girl gr...  ...  -0.022644   \n",
      "\n",
      "   w2v_emb_91  w2v_emb_92  w2v_emb_93  w2v_emb_94  w2v_emb_95  w2v_emb_96  \\\n",
      "0    0.085627   -0.093541    0.054609   -0.832833   -0.302907   -0.828874   \n",
      "1    0.535506    0.050196    0.255712    0.149075    0.249544   -0.279461   \n",
      "2    0.567674   -0.378037    0.083546   -0.040413   -0.032216   -0.102579   \n",
      "3    0.113104    0.140779   -0.596117   -0.278553    0.377703   -0.373269   \n",
      "4    0.351808   -0.125950    0.091961   -0.372201   -0.347934    0.013023   \n",
      "\n",
      "   w2v_emb_97  w2v_emb_98  w2v_emb_99  \n",
      "0    0.913660   -0.457596   -0.877446  \n",
      "1    0.978107   -0.177198   -0.332764  \n",
      "2    0.365103   -0.079045    0.257117  \n",
      "3    0.188382   -0.207805    0.214310  \n",
      "4    0.655773    0.106388   -0.265545  \n",
      "\n",
      "[5 rows x 111 columns]\n"
     ]
    },
    {
     "name": "stderr",
     "output_type": "stream",
     "text": [
      "/var/folders/sr/wj2mw1_s3qv1nywqkp54rk080000gn/T/ipykernel_50772/112724244.py:18: PerformanceWarning: DataFrame is highly fragmented.  This is usually the result of calling `frame.insert` many times, which has poor performance.  Consider joining all columns at once using pd.concat(axis=1) instead. To get a de-fragmented frame, use `newframe = frame.copy()`\n",
      "  df_skipgram_model[f\"w2v_emb_{i}\"] = embeddings.apply(lambda x: x[i])\n",
      "/var/folders/sr/wj2mw1_s3qv1nywqkp54rk080000gn/T/ipykernel_50772/112724244.py:18: PerformanceWarning: DataFrame is highly fragmented.  This is usually the result of calling `frame.insert` many times, which has poor performance.  Consider joining all columns at once using pd.concat(axis=1) instead. To get a de-fragmented frame, use `newframe = frame.copy()`\n",
      "  df_skipgram_model[f\"w2v_emb_{i}\"] = embeddings.apply(lambda x: x[i])\n",
      "/var/folders/sr/wj2mw1_s3qv1nywqkp54rk080000gn/T/ipykernel_50772/112724244.py:18: PerformanceWarning: DataFrame is highly fragmented.  This is usually the result of calling `frame.insert` many times, which has poor performance.  Consider joining all columns at once using pd.concat(axis=1) instead. To get a de-fragmented frame, use `newframe = frame.copy()`\n",
      "  df_skipgram_model[f\"w2v_emb_{i}\"] = embeddings.apply(lambda x: x[i])\n"
     ]
    },
    {
     "name": "stdout",
     "output_type": "stream",
     "text": [
      "       reviewerID        asin                 reviewerName helpful  \\\n",
      "0  A1KLRMWW2FWPL4  0000031887  Amazon Customer \"cameramom\"  [0, 0]   \n",
      "1  A2G5TCU2WDFZ65  0000031887              Amazon Customer  [0, 0]   \n",
      "2  A1RLQXYNCMWRWN  0000031887                       Carola  [0, 0]   \n",
      "3   A8U3FAMSJVHS5  0000031887                      Caromcg  [0, 0]   \n",
      "4  A3GEOILWLK86XM  0000031887                           CJ  [0, 0]   \n",
      "\n",
      "                                          reviewText  overall  \\\n",
      "0  This is a great tutu and at a really great pri...      5.0   \n",
      "1  I bought this for my 4 yr old daughter for dan...      5.0   \n",
      "2  What can I say... my daughters have it in oran...      5.0   \n",
      "3  We bought several tutus at once, and they are ...      5.0   \n",
      "4  Thank you Halo Heaven great product for Little...      5.0   \n",
      "\n",
      "                         summary  unixReviewTime   reviewTime  \\\n",
      "0  Great tutu-  not cheaply made      1297468800  02 12, 2011   \n",
      "1                    Very Cute!!      1358553600  01 19, 2013   \n",
      "2       I have buy more than one      1357257600   01 4, 2013   \n",
      "3               Adorable, Sturdy      1398556800  04 27, 2014   \n",
      "4        Grammy's Angels Love it      1394841600  03 15, 2014   \n",
      "\n",
      "                                         reviewText2  ... w2v_emb_90  \\\n",
      "0  great tutu really great price look cheap glad ...  ...   0.282529   \n",
      "1  bought four old daughter dance class wore toda...  ...   0.233622   \n",
      "2  say daughter orange black white pink thinking ...  ...   0.251100   \n",
      "3  bought several tutu got high review sturdy see...  ...   0.171972   \n",
      "4  thank halo heaven great product little girl gr...  ...   0.264945   \n",
      "\n",
      "   w2v_emb_91  w2v_emb_92  w2v_emb_93  w2v_emb_94  w2v_emb_95  w2v_emb_96  \\\n",
      "0    0.271875    0.095906   -0.049573    0.475734    0.066045    0.176293   \n",
      "1    0.171013    0.111527    0.022222    0.530021    0.178041    0.288034   \n",
      "2    0.120177    0.098303    0.015972    0.441757    0.180079    0.306510   \n",
      "3    0.079980    0.103361   -0.061816    0.509561    0.262180    0.215127   \n",
      "4    0.136118    0.133570    0.071881    0.500550    0.127733    0.325022   \n",
      "\n",
      "   w2v_emb_97  w2v_emb_98  w2v_emb_99  \n",
      "0   -0.417393    0.075809   -0.157901  \n",
      "1   -0.314121    0.195943   -0.093056  \n",
      "2   -0.359843    0.219875   -0.135165  \n",
      "3   -0.309544    0.204191   -0.005808  \n",
      "4   -0.355516    0.099193   -0.127310  \n",
      "\n",
      "[5 rows x 111 columns]\n"
     ]
    },
    {
     "name": "stderr",
     "output_type": "stream",
     "text": [
      "/var/folders/sr/wj2mw1_s3qv1nywqkp54rk080000gn/T/ipykernel_50772/112724244.py:24: PerformanceWarning: DataFrame is highly fragmented.  This is usually the result of calling `frame.insert` many times, which has poor performance.  Consider joining all columns at once using pd.concat(axis=1) instead. To get a de-fragmented frame, use `newframe = frame.copy()`\n",
      "  df_fasttext_model[f\"w2v_emb_{i}\"] = embeddings.apply(lambda x: x[i])\n",
      "/var/folders/sr/wj2mw1_s3qv1nywqkp54rk080000gn/T/ipykernel_50772/112724244.py:24: PerformanceWarning: DataFrame is highly fragmented.  This is usually the result of calling `frame.insert` many times, which has poor performance.  Consider joining all columns at once using pd.concat(axis=1) instead. To get a de-fragmented frame, use `newframe = frame.copy()`\n",
      "  df_fasttext_model[f\"w2v_emb_{i}\"] = embeddings.apply(lambda x: x[i])\n"
     ]
    },
    {
     "name": "stdout",
     "output_type": "stream",
     "text": [
      "       reviewerID        asin                 reviewerName helpful  \\\n",
      "0  A1KLRMWW2FWPL4  0000031887  Amazon Customer \"cameramom\"  [0, 0]   \n",
      "1  A2G5TCU2WDFZ65  0000031887              Amazon Customer  [0, 0]   \n",
      "2  A1RLQXYNCMWRWN  0000031887                       Carola  [0, 0]   \n",
      "3   A8U3FAMSJVHS5  0000031887                      Caromcg  [0, 0]   \n",
      "4  A3GEOILWLK86XM  0000031887                           CJ  [0, 0]   \n",
      "\n",
      "                                          reviewText  overall  \\\n",
      "0  This is a great tutu and at a really great pri...      5.0   \n",
      "1  I bought this for my 4 yr old daughter for dan...      5.0   \n",
      "2  What can I say... my daughters have it in oran...      5.0   \n",
      "3  We bought several tutus at once, and they are ...      5.0   \n",
      "4  Thank you Halo Heaven great product for Little...      5.0   \n",
      "\n",
      "                         summary  unixReviewTime   reviewTime  \\\n",
      "0  Great tutu-  not cheaply made      1297468800  02 12, 2011   \n",
      "1                    Very Cute!!      1358553600  01 19, 2013   \n",
      "2       I have buy more than one      1357257600   01 4, 2013   \n",
      "3               Adorable, Sturdy      1398556800  04 27, 2014   \n",
      "4        Grammy's Angels Love it      1394841600  03 15, 2014   \n",
      "\n",
      "                                         reviewText2  ... w2v_emb_90  \\\n",
      "0  great tutu really great price look cheap glad ...  ...  -0.494111   \n",
      "1  bought four old daughter dance class wore toda...  ...  -0.457573   \n",
      "2  say daughter orange black white pink thinking ...  ...  -0.534979   \n",
      "3  bought several tutu got high review sturdy see...  ...  -0.466765   \n",
      "4  thank halo heaven great product little girl gr...  ...  -0.483509   \n",
      "\n",
      "   w2v_emb_91  w2v_emb_92  w2v_emb_93  w2v_emb_94  w2v_emb_95  w2v_emb_96  \\\n",
      "0   -0.125082    0.056444    0.352419    0.022557    0.240108    0.105438   \n",
      "1   -0.122763    0.010445    0.420346   -0.123079    0.186211    0.024424   \n",
      "2   -0.124814   -0.086437    0.307224   -0.096656    0.237818    0.112706   \n",
      "3   -0.168084   -0.001243    0.358736   -0.109938    0.113598    0.065814   \n",
      "4   -0.069756   -0.084661    0.315869   -0.101895    0.185419    0.110939   \n",
      "\n",
      "   w2v_emb_97  w2v_emb_98  w2v_emb_99  \n",
      "0    0.075169    0.053562    0.434727  \n",
      "1    0.077122    0.011866    0.414074  \n",
      "2    0.107944   -0.015893    0.439898  \n",
      "3    0.053252   -0.014668    0.493362  \n",
      "4    0.107321   -0.077975    0.367663  \n",
      "\n",
      "[5 rows x 111 columns]\n"
     ]
    },
    {
     "name": "stderr",
     "output_type": "stream",
     "text": [
      "/var/folders/sr/wj2mw1_s3qv1nywqkp54rk080000gn/T/ipykernel_50772/112724244.py:24: PerformanceWarning: DataFrame is highly fragmented.  This is usually the result of calling `frame.insert` many times, which has poor performance.  Consider joining all columns at once using pd.concat(axis=1) instead. To get a de-fragmented frame, use `newframe = frame.copy()`\n",
      "  df_fasttext_model[f\"w2v_emb_{i}\"] = embeddings.apply(lambda x: x[i])\n"
     ]
    }
   ],
   "source": [
    "import numpy as np\n",
    "def get_average_word2vec_embeddings(review, model):\n",
    "    words = review.split()\n",
    "    embeddings = [model.wv[word] for word in words if word in model.wv.key_to_index]\n",
    "    if len(embeddings) == 0:\n",
    "        return [0]*model.vector_size\n",
    "    return list(np.mean(embeddings, axis=0))\n",
    "\n",
    "df_cbow_model = df.copy()\n",
    "embeddings = df_cbow_model[\"reviewText2\"].apply(lambda x: get_average_word2vec_embeddings(x, cbow_model))\n",
    "for i in range(cbow_model.vector_size):\n",
    "    df_cbow_model[f\"w2v_emb_{i}\"] = embeddings.apply(lambda x: x[i]) \n",
    "print(df_cbow_model.head())\n",
    "\n",
    "df_skipgram_model = df.copy()\n",
    "embeddings = df_skipgram_model[\"reviewText2\"].apply(lambda x: get_average_word2vec_embeddings(x, skipgram_model))\n",
    "for i in range(skipgram_model.vector_size):\n",
    "    df_skipgram_model[f\"w2v_emb_{i}\"] = embeddings.apply(lambda x: x[i])\n",
    "print(df_skipgram_model.head())\n",
    "\n",
    "df_fasttext_model = df.copy()\n",
    "embeddings = df_fasttext_model[\"reviewText2\"].apply(lambda x: get_average_word2vec_embeddings(x, fasttext_model))\n",
    "for i in range(fasttext_model.vector_size):\n",
    "    df_fasttext_model[f\"w2v_emb_{i}\"] = embeddings.apply(lambda x: x[i])\n",
    "print(df_fasttext_model.head())"
   ]
  },
  {
   "cell_type": "markdown",
   "metadata": {},
   "source": [
    "2.3 Perform EDA to analyze associations between vectors from the three methods above.\n"
   ]
  },
  {
   "cell_type": "markdown",
   "metadata": {},
   "source": [
    "Analyze Words\n"
   ]
  },
  {
   "cell_type": "code",
   "execution_count": null,
   "metadata": {},
   "outputs": [],
   "source": [
    "# Select 100 common words in three models\n",
    "words = list(cbow_model.wv.key_to_index.keys())[:100]\n",
    "\n",
    "# Extract the vectors for these common words from each model\n",
    "cbow_vectors = np.array([cbow_model.wv[word] for word in words])\n",
    "skipgram_vectors = np.array([skipgram_model.wv[word] for word in words])\n",
    "fasttext_vectors = np.array([fasttext_model.wv[word] for word in words])"
   ]
  },
  {
   "cell_type": "code",
   "execution_count": null,
   "metadata": {},
   "outputs": [],
   "source": [
    "# Visualization with t-SNE\n",
    "#Use t-SNE to reduce the dimensionality of your word vectors to two or three dimensions.\n",
    "#Plot the results to see how words cluster together.\n",
    "from sklearn.manifold import TSNE\n",
    "import matplotlib.pyplot as plt\n",
    "\n",
    "def visualize_word_vectors(model_vectors, words, title='Word Vectors Visualization'):\n",
    "    tsne = TSNE(n_components=2, random_state=42)\n",
    "    vectors_tsne = tsne.fit_transform(model_vectors)\n",
    "    plt.figure(figsize=(12, 12))\n",
    "    for i, word in enumerate(words):\n",
    "        plt.scatter(vectors_tsne[i, 0], vectors_tsne[i, 1])\n",
    "        plt.annotate(word, (vectors_tsne[i, 0], vectors_tsne[i, 1]), textcoords=\"offset points\", xytext=(0,10), ha='center')\n",
    "    plt.title(title)\n",
    "\n",
    "visualize_word_vectors(cbow_vectors, words, 'CBOW t-SNE Visualization')\n",
    "visualize_word_vectors(skipgram_vectors, words, 'Skip-gram t-SNE Visualization')\n",
    "visualize_word_vectors(fasttext_vectors, words, 'FastText t-SNE Visualization')\n",
    "plt.show()"
   ]
  },
  {
   "cell_type": "code",
   "execution_count": null,
   "metadata": {},
   "outputs": [],
   "source": [
    "# Clustering with KMeans\n",
    "# Apply clustering algorithms like K-Means on the word vectors.\n",
    "# Analyze the clusters to see which words are grouped together by the model.\n",
    "from sklearn.cluster import KMeans\n",
    "\n",
    "\n",
    "def cluster_and_plot_words(model_vectors, common_words, n_clusters=10):\n",
    "    kmeans = KMeans(n_clusters=n_clusters, random_state=42)\n",
    "    labels = kmeans.fit_predict(model_vectors)\n",
    "    cluster_map = {i: [] for i in range(n_clusters)}\n",
    "    for word, label in zip(common_words, labels):\n",
    "        cluster_map[label].append(word)\n",
    "\n",
    "    colors = plt.cm.rainbow(np.linspace(0, 1, n_clusters))\n",
    "    plt.figure(figsize=(12, 12))\n",
    "    \n",
    "    for cluster_id in range(n_clusters):\n",
    "        cluster_indices = [i for i, label in enumerate(labels) if label == cluster_id]\n",
    "        cluster_points = model_vectors[cluster_indices]\n",
    "        plt.scatter(cluster_points[:, 0], cluster_points[:, 1], color=colors[cluster_id], label=f'Cluster {cluster_id}', alpha=0.5)\n",
    "    \n",
    "    for i, word in enumerate(common_words):\n",
    "        plt.text(model_vectors[i, 0], model_vectors[i, 1], word, fontsize=9)\n",
    "    \n",
    "    plt.title('Word Vectors Clustering')\n",
    "    plt.legend()\n",
    "    plt.show()\n",
    "    \n",
    "    return cluster_map\n",
    "\n",
    "cbow_clusters = cluster_and_plot_words(cbow_vectors, words, n_clusters=10)\n",
    "skipgram_clusters = cluster_and_plot_words(skipgram_vectors, words, n_clusters=10)\n",
    "fasttext_clusters = cluster_and_plot_words(fasttext_vectors, words, n_clusters=10)"
   ]
  },
  {
   "cell_type": "code",
   "execution_count": null,
   "metadata": {},
   "outputs": [],
   "source": [
    "# Similarity Analysis\n",
    "# Compute the cosine similarity between word vectors\n",
    "from scipy.spatial.distance import cosine\n",
    "\n",
    "def compare_similarity(word1, word2, model1, model2, model3, model_name1='CBOW', model_name2='Skip-gram', model_name3='FastText'):\n",
    "    similarity1 = 1 - cosine(model1.wv[word1], model1.wv[word2])\n",
    "    similarity2 = 1 - cosine(model2.wv[word1], model2.wv[word2])\n",
    "    similarity3 = 1 - cosine(model3.wv[word1], model3.wv[word2])\n",
    "    print(f'{word1} & {word2} similarity in {model_name1}: {similarity1:.4f}')\n",
    "    print(f'{word1} & {word2} similarity in {model_name2}: {similarity2:.4f}')\n",
    "    print(f'{word1} & {word2} similarity in {model_name3}: {similarity3:.4f}')\n",
    "\n",
    "compare_similarity('shirt', 'hoodie', cbow_model, skipgram_model, fasttext_model)\n"
   ]
  },
  {
   "cell_type": "markdown",
   "metadata": {},
   "source": [
    "# Part 3: Sentiment Analysis"
   ]
  },
  {
   "cell_type": "code",
   "execution_count": 6,
   "metadata": {},
   "outputs": [
    {
     "name": "stderr",
     "output_type": "stream",
     "text": [
      "/var/folders/sr/wj2mw1_s3qv1nywqkp54rk080000gn/T/ipykernel_50772/2830514594.py:18: PerformanceWarning: DataFrame is highly fragmented.  This is usually the result of calling `frame.insert` many times, which has poor performance.  Consider joining all columns at once using pd.concat(axis=1) instead. To get a de-fragmented frame, use `newframe = frame.copy()`\n",
      "  df_filtered['sentiment'] = df_filtered['overall'].apply(convert_rating_to_sentiment)\n",
      "/var/folders/sr/wj2mw1_s3qv1nywqkp54rk080000gn/T/ipykernel_50772/2830514594.py:18: SettingWithCopyWarning: \n",
      "A value is trying to be set on a copy of a slice from a DataFrame.\n",
      "Try using .loc[row_indexer,col_indexer] = value instead\n",
      "\n",
      "See the caveats in the documentation: https://pandas.pydata.org/pandas-docs/stable/user_guide/indexing.html#returning-a-view-versus-a-copy\n",
      "  df_filtered['sentiment'] = df_filtered['overall'].apply(convert_rating_to_sentiment)\n"
     ]
    }
   ],
   "source": [
    "\n",
    "\n",
    "import pandas as pd\n",
    "from sklearn.decomposition import PCA\n",
    "from sklearn.preprocessing import StandardScaler\n",
    "from sklearn.model_selection import train_test_split\n",
    "import numpy as np\n",
    "\n",
    "# Convert the ratings to 0 for negative and 1 for positive\n",
    "def convert_rating_to_sentiment(overall):\n",
    "  if overall in [1, 2]:\n",
    "      return 0  # Negative sentiment\n",
    "  elif overall in [4, 5]:\n",
    "      return 1  # Positive sentiment\n",
    "  # Optionally handle unexpected cases, though all cases should be covered\n",
    "  return None\n",
    "\n",
    "def convertAndReduceDimension(df):\n",
    "\t\tdf_filtered = df[df['overall'] != 3]\n",
    "\t\tdf_filtered['sentiment'] = df_filtered['overall'].apply(convert_rating_to_sentiment)\n",
    "\t\tvector_cols = [col for col in df_filtered.columns if col.startswith('w2v_emb_')]\n",
    "\t\tX = df_filtered[vector_cols]\n",
    "\t\tscaler = StandardScaler()\n",
    "\t\tX_scaled = scaler.fit_transform(X)\n",
    "\n",
    "\t\t# Step 2: Apply PCA to retain 90% of the variance\n",
    "\t\tpca = PCA(n_components=0.9)  # n_components set to 0.9 means PCA will select the minimum number of components that retain 90% of the variance\n",
    "\t\tX_pca = pca.fit_transform(X_scaled)\n",
    "\n",
    "\t\t# Create a DataFrame with the PCA features\n",
    "\t\tdf_pca = pd.DataFrame(X_pca, columns=[f'PCA_{i+1}' for i in range(X_pca.shape[1])])\n",
    "\n",
    "\t\t# Optionally, if you want to include the sentiment back into the PCA-transformed dataset\n",
    "\t\tdf_pca['sentiment'] = df_filtered['sentiment'].values\n",
    "\n",
    "\t\treturn df_pca\n",
    "  \n",
    "df_cbow = convertAndReduceDimension(df_cbow_model)\n",
    "# Assuming df_final is your final DataFrame after PCA\n",
    "X = df_cbow.drop('sentiment', axis=1).values  # Features\n",
    "y = df_cbow['sentiment'].values  # Labels\n",
    "\n",
    "# Splitting the data into training and validation sets\n",
    "X_train, X_val, y_train, y_val = train_test_split(X, y, test_size=0.2, random_state=42)"
   ]
  },
  {
   "cell_type": "markdown",
   "metadata": {},
   "source": [
    "### Logistic Regression"
   ]
  },
  {
   "cell_type": "markdown",
   "metadata": {},
   "source": [
    "I use GridSearchCV for hyperparameter tuning to find the best parameters for Logistic Regression model.\n",
    "\n",
    "In this code, GridSearchCV performs an exhaustive search over the specified parameter grid, \n",
    "and best_params_ gives us the best parameters found during the search. Then can then use \n",
    "these parameters to train a new classifier.\n",
    "\n",
    "For 'C', we choose the value in the list [0.001, 0.01, 0.1, 1, 10, 100, 1000]. For 'max_iter', we choose the value in the list [100, 500, 1000, 5000, 10000, 50000].  For small datasets, ‘liblinear’ is a good choice, whereas ‘sag’ and ‘saga’ are faster for large ones. ‘newton-cg’, ‘lbfgs’ and ‘sag’ only handle L2 penalty, whereas ‘liblinear’ and ‘saga’ handle L1 penalty.\n",
    "\n",
    "When choosing the values for these parameters in GridSearchCV object. For the value of cv, a common choice is 5 or 10, but considering we have a large dataset, a smaller number can be used to save computational time. So, we choose 5. For \"scoring\", considering we’re dealing with a classification problem, we use ‘accuracy’. For other parameters like 'n_jobs', 'verbose', 'return_train_score', we use the default values.\n"
   ]
  },
  {
   "cell_type": "code",
   "execution_count": 20,
   "metadata": {},
   "outputs": [
    {
     "name": "stderr",
     "output_type": "stream",
     "text": [
      "/Library/Frameworks/Python.framework/Versions/3.10/lib/python3.10/site-packages/sklearn/model_selection/_validation.py:542: FitFailedWarning: \n",
      "630 fits failed out of a total of 2100.\n",
      "The score on these train-test partitions for these parameters will be set to nan.\n",
      "If these failures are not expected, you can try to debug them by setting error_score='raise'.\n",
      "\n",
      "Below are more details about the failures:\n",
      "--------------------------------------------------------------------------------\n",
      "210 fits failed with the following error:\n",
      "Traceback (most recent call last):\n",
      "  File \"/Library/Frameworks/Python.framework/Versions/3.10/lib/python3.10/site-packages/sklearn/model_selection/_validation.py\", line 890, in _fit_and_score\n",
      "    estimator.fit(X_train, y_train, **fit_params)\n",
      "  File \"/Library/Frameworks/Python.framework/Versions/3.10/lib/python3.10/site-packages/sklearn/base.py\", line 1351, in wrapper\n",
      "    return fit_method(estimator, *args, **kwargs)\n",
      "  File \"/Library/Frameworks/Python.framework/Versions/3.10/lib/python3.10/site-packages/sklearn/linear_model/_logistic.py\", line 1172, in fit\n",
      "    solver = _check_solver(self.solver, self.penalty, self.dual)\n",
      "  File \"/Library/Frameworks/Python.framework/Versions/3.10/lib/python3.10/site-packages/sklearn/linear_model/_logistic.py\", line 67, in _check_solver\n",
      "    raise ValueError(\n",
      "ValueError: Solver newton-cg supports only 'l2' or None penalties, got l1 penalty.\n",
      "\n",
      "--------------------------------------------------------------------------------\n",
      "210 fits failed with the following error:\n",
      "Traceback (most recent call last):\n",
      "  File \"/Library/Frameworks/Python.framework/Versions/3.10/lib/python3.10/site-packages/sklearn/model_selection/_validation.py\", line 890, in _fit_and_score\n",
      "    estimator.fit(X_train, y_train, **fit_params)\n",
      "  File \"/Library/Frameworks/Python.framework/Versions/3.10/lib/python3.10/site-packages/sklearn/base.py\", line 1351, in wrapper\n",
      "    return fit_method(estimator, *args, **kwargs)\n",
      "  File \"/Library/Frameworks/Python.framework/Versions/3.10/lib/python3.10/site-packages/sklearn/linear_model/_logistic.py\", line 1172, in fit\n",
      "    solver = _check_solver(self.solver, self.penalty, self.dual)\n",
      "  File \"/Library/Frameworks/Python.framework/Versions/3.10/lib/python3.10/site-packages/sklearn/linear_model/_logistic.py\", line 67, in _check_solver\n",
      "    raise ValueError(\n",
      "ValueError: Solver lbfgs supports only 'l2' or None penalties, got l1 penalty.\n",
      "\n",
      "--------------------------------------------------------------------------------\n",
      "210 fits failed with the following error:\n",
      "Traceback (most recent call last):\n",
      "  File \"/Library/Frameworks/Python.framework/Versions/3.10/lib/python3.10/site-packages/sklearn/model_selection/_validation.py\", line 890, in _fit_and_score\n",
      "    estimator.fit(X_train, y_train, **fit_params)\n",
      "  File \"/Library/Frameworks/Python.framework/Versions/3.10/lib/python3.10/site-packages/sklearn/base.py\", line 1351, in wrapper\n",
      "    return fit_method(estimator, *args, **kwargs)\n",
      "  File \"/Library/Frameworks/Python.framework/Versions/3.10/lib/python3.10/site-packages/sklearn/linear_model/_logistic.py\", line 1172, in fit\n",
      "    solver = _check_solver(self.solver, self.penalty, self.dual)\n",
      "  File \"/Library/Frameworks/Python.framework/Versions/3.10/lib/python3.10/site-packages/sklearn/linear_model/_logistic.py\", line 67, in _check_solver\n",
      "    raise ValueError(\n",
      "ValueError: Solver sag supports only 'l2' or None penalties, got l1 penalty.\n",
      "\n",
      "  warnings.warn(some_fits_failed_message, FitFailedWarning)\n",
      "/Library/Frameworks/Python.framework/Versions/3.10/lib/python3.10/site-packages/sklearn/model_selection/_search.py:1051: UserWarning: One or more of the test scores are non-finite: [       nan        nan 0.91601251        nan 0.91646065 0.92230654\n",
      " 0.92235689 0.92156132 0.9223015  0.92230654        nan        nan\n",
      " 0.91601251        nan 0.91646065 0.92230654 0.92235689 0.92156132\n",
      " 0.92230654 0.9223015         nan        nan 0.91601251        nan\n",
      " 0.91646065 0.92230654 0.92235689 0.92156132 0.9223015  0.9223015\n",
      "        nan        nan 0.91601251        nan 0.91646065 0.92230654\n",
      " 0.92235689 0.92156132 0.92230654 0.9223015         nan        nan\n",
      " 0.91601251        nan 0.91646065 0.92230654 0.92235689 0.92156132\n",
      " 0.92230654 0.92230654        nan        nan 0.91601251        nan\n",
      " 0.91646065 0.92230654 0.92235689 0.92156132 0.9223015  0.9223015\n",
      "        nan        nan 0.92276978        nan 0.92284531 0.9231726\n",
      " 0.92317763 0.92284531 0.9231726  0.9231726         nan        nan\n",
      " 0.92276978        nan 0.92285034 0.9231726  0.92317763 0.92284531\n",
      " 0.9231726  0.9231726         nan        nan 0.92276978        nan\n",
      " 0.92285034 0.9231726  0.92317763 0.92284531 0.9231726  0.9231726\n",
      "        nan        nan 0.92276978        nan 0.92285034 0.9231726\n",
      " 0.92317763 0.92284531 0.9231726  0.9231726         nan        nan\n",
      " 0.92276978        nan 0.92285034 0.9231726  0.92317763 0.92284531\n",
      " 0.9231726  0.9231726         nan        nan 0.92276978        nan\n",
      " 0.92286041 0.9231726  0.92317763 0.92284531 0.9231726  0.9231726\n",
      "        nan        nan 0.92321288        nan 0.92324309 0.92325819\n",
      " 0.92326826 0.92323302 0.92325819 0.92325819        nan        nan\n",
      " 0.92321288        nan 0.92324309 0.92325819 0.92326826 0.92323302\n",
      " 0.92325819 0.92325819        nan        nan 0.92321288        nan\n",
      " 0.92323805 0.92325819 0.92326826 0.92323302 0.92325819 0.92325819\n",
      "        nan        nan 0.92321288        nan 0.92323805 0.92325819\n",
      " 0.92326826 0.92323302 0.92325819 0.92325819        nan        nan\n",
      " 0.92321288        nan 0.92324309 0.92325819 0.92326826 0.92323302\n",
      " 0.92325819 0.92325819        nan        nan 0.92321288        nan\n",
      " 0.92323805 0.92325819 0.92326826 0.92323302 0.92325819 0.92325819\n",
      "        nan        nan 0.92325819        nan 0.92325819 0.92325819\n",
      " 0.92324309 0.92326323 0.92325316 0.92325316        nan        nan\n",
      " 0.92325819        nan 0.92326323 0.92325819 0.92324309 0.92326323\n",
      " 0.92325819 0.92324812        nan        nan 0.92325819        nan\n",
      " 0.92325819 0.92325819 0.92324309 0.92326323 0.92325819 0.92324812\n",
      "        nan        nan 0.92325819        nan 0.92325316 0.92325819\n",
      " 0.92324309 0.92326323 0.92325316 0.92325316        nan        nan\n",
      " 0.92325819        nan 0.92325819 0.92325819 0.92324309 0.92326323\n",
      " 0.92325819 0.92325819        nan        nan 0.92325819        nan\n",
      " 0.92325316 0.92325819 0.92324309 0.92326323 0.92325819 0.92325316\n",
      "        nan        nan 0.92326323        nan 0.92325819 0.92325316\n",
      " 0.92325316 0.92325819 0.92326323 0.92325819        nan        nan\n",
      " 0.92326323        nan 0.92325316 0.92325316 0.92325316 0.92325819\n",
      " 0.92325819 0.92325819        nan        nan 0.92326323        nan\n",
      " 0.92325819 0.92325316 0.92325316 0.92325819 0.92325819 0.92325819\n",
      "        nan        nan 0.92326323        nan 0.92325819 0.92325316\n",
      " 0.92325316 0.92325819 0.92325819 0.92325819        nan        nan\n",
      " 0.92326323        nan 0.92325819 0.92325316 0.92325316 0.92325819\n",
      " 0.92326323 0.92326323        nan        nan 0.92325819        nan\n",
      " 0.92325316 0.92325316 0.92325316 0.92325819 0.92325819 0.92325819\n",
      "        nan        nan 0.92326323        nan 0.92325819 0.92325316\n",
      " 0.92325316 0.92325819 0.92325316 0.92326323        nan        nan\n",
      " 0.92326323        nan 0.92325819 0.92325316 0.92325316 0.92325819\n",
      " 0.92325819 0.92325316        nan        nan 0.92325819        nan\n",
      " 0.92325819 0.92325316 0.92325316 0.92325819 0.92325819 0.92325316\n",
      "        nan        nan 0.92325819        nan 0.92325819 0.92325316\n",
      " 0.92325316 0.92325819 0.92325819 0.92325316        nan        nan\n",
      " 0.92326323        nan 0.92325819 0.92325316 0.92325316 0.92325819\n",
      " 0.92325316 0.92325316        nan        nan 0.92326323        nan\n",
      " 0.92325819 0.92325316 0.92325316 0.92325819 0.92326323 0.92325316\n",
      "        nan        nan 0.92326323        nan 0.92325819 0.92325316\n",
      " 0.92325316 0.92325819 0.92325819 0.92325316        nan        nan\n",
      " 0.92326323        nan 0.92326323 0.92325316 0.92325316 0.92325819\n",
      " 0.92325819 0.92326323        nan        nan 0.92326323        nan\n",
      " 0.92325819 0.92325316 0.92325316 0.92325819 0.92325819 0.92325819\n",
      "        nan        nan 0.92326323        nan 0.92325819 0.92325316\n",
      " 0.92325316 0.92325819 0.92325819 0.92324812        nan        nan\n",
      " 0.92325819        nan 0.92326323 0.92325316 0.92325316 0.92325819\n",
      " 0.92324812 0.92325819        nan        nan 0.92326323        nan\n",
      " 0.92324812 0.92325316 0.92325316 0.92325819 0.92326323 0.92325819]\n",
      "  warnings.warn(\n"
     ]
    },
    {
     "name": "stdout",
     "output_type": "stream",
     "text": [
      "Best parameters: {'C': 0.1, 'max_iter': 100, 'penalty': 'l2', 'solver': 'lbfgs'}\n"
     ]
    }
   ],
   "source": [
    "from sklearn.model_selection import GridSearchCV\n",
    "from sklearn.linear_model import LogisticRegression\n",
    "from sklearn.metrics import accuracy_score, precision_score, recall_score, f1_score\n",
    "\n",
    "# Define the parameter grid\n",
    "param_grid = {\n",
    "    'C': [0.001, 0.01, 0.1, 1, 10, 100, 1000],\n",
    "    'penalty': ['l1', 'l2'],\n",
    "    'max_iter': [100, 500, 1000, 5000, 10000, 50000],\n",
    "    'solver': ['newton-cg', 'lbfgs', 'liblinear', 'sag', 'saga']\n",
    "}\n",
    "\n",
    "# Create a Logistic Regression model\n",
    "model = LogisticRegression()\n",
    "\n",
    "# Create a GridSearchCV object\n",
    "grid_search = GridSearchCV(model, param_grid, cv=5, scoring='accuracy')\n",
    "\n",
    "# Fit the GridSearchCV object to the data\n",
    "grid_search.fit(X_train, y_train)\n",
    "\n",
    "# Get the best parameters\n",
    "best_params = grid_search.best_params_\n",
    "\n",
    "# Print the best parameters\n",
    "print(f\"Best parameters: {best_params}\")\n",
    "\n",
    "\n"
   ]
  },
  {
   "cell_type": "markdown",
   "metadata": {},
   "source": [
    "We took 25 mins to get the best parameters.\n",
    "```\n",
    "param_space = {\n",
    "    'C': [0.001, 0.01, 0.1, 1, 10, 100, 1000],\n",
    "    'penalty': ['l1', 'l2'],\n",
    "    'max_iter': [100, 500, 1000, 5000, 10000, 50000],\n",
    "    'solver': ['newton-cg', 'lbfgs', 'liblinear', 'sag', 'saga']\n",
    "}\n",
    "```\n",
    "The best params are: \n",
    "```\n",
    "{'C': 0.1, 'max_iter': 100, 'penalty': 'l2', 'solver': 'lbfgs'}\n",
    "```\n",
    "\n",
    "We revise our param_grid to improve the best parameters further so that we can avoid overfitting and underfitting. We choose 'l2' for 'penalty' and 'lbfgs' for 'solver'. For 'C', we generate 10 numbers between 0.01 and 1. For 'max_iter', we generate random integers between 50 and 250."
   ]
  },
  {
   "cell_type": "code",
   "execution_count": 23,
   "metadata": {},
   "outputs": [
    {
     "name": "stdout",
     "output_type": "stream",
     "text": [
      "Accuracy: 0.9265674407363397\n",
      "Precision: 0.9186826145148944\n",
      "Recall: 0.9265674407363397\n",
      "F1 Score: 0.9187615596666782\n"
     ]
    }
   ],
   "source": [
    "# Fit the model with the best parameters to the training data\n",
    "model_best = LogisticRegression(**best_params)\n",
    "model_best.fit(X_train, y_train)\n",
    "\n",
    "# Make predictions on the test set\n",
    "y_pred = model_best.predict(X_val)\n",
    "\n",
    "# Evaluate the model's performance\n",
    "accuracy = accuracy_score(y_val, y_pred)\n",
    "precision = precision_score(y_val, y_pred, average='weighted', zero_division=0)  # Handling division by zero for classes with no predictions\n",
    "recall = recall_score(y_val, y_pred, average='weighted')\n",
    "f1 = f1_score(y_val, y_pred, average='weighted')\n",
    "\n",
    "# Print the evaluation metrics\n",
    "print(f\"Accuracy: {accuracy}\")\n",
    "print(f\"Precision: {precision}\")\n",
    "print(f\"Recall: {recall}\")\n",
    "print(f\"F1 Score: {f1}\")"
   ]
  },
  {
   "cell_type": "markdown",
   "metadata": {},
   "source": [
    "We got the evaluation metrics.\n",
    "```\n",
    "    Accuracy: 0.9265674407363397\n",
    "    Precision: 0.9186826145148944\n",
    "    Recall: 0.9265674407363397\n",
    "    F1 Score: 0.9187615596666782\n",
    "```"
   ]
  },
  {
   "cell_type": "code",
   "execution_count": 24,
   "metadata": {},
   "outputs": [
    {
     "name": "stdout",
     "output_type": "stream",
     "text": [
      "Best parameters: {'C': 0.1291549665014884, 'max_iter': 88, 'penalty': 'l2', 'solver': 'lbfgs'}\n"
     ]
    }
   ],
   "source": [
    "\n",
    "# Define the parameter grid\n",
    "param_grid = {\n",
    "    'C': np.logspace(-2, 0, 10),\n",
    "    'penalty': ['l2'],\n",
    "    'max_iter': np.random.randint(50, 251, size=10),\n",
    "    'solver': ['lbfgs']\n",
    "}\n",
    "\n",
    "# Create a Logistic Regression model\n",
    "model = LogisticRegression()\n",
    "\n",
    "# Create a GridSearchCV object\n",
    "grid_search = GridSearchCV(model, param_grid, cv=5, scoring='accuracy')\n",
    "\n",
    "# Fit the GridSearchCV object to the data\n",
    "grid_search.fit(X_train, y_train)\n",
    "\n",
    "# Get the best parameters\n",
    "best_params = grid_search.best_params_\n",
    "\n",
    "# Print the best parameters\n",
    "print(f\"Best parameters: {best_params}\")\n"
   ]
  },
  {
   "cell_type": "code",
   "execution_count": 25,
   "metadata": {},
   "outputs": [
    {
     "name": "stdout",
     "output_type": "stream",
     "text": [
      "Accuracy: 0.9265875813175968\n",
      "Precision: 0.9187091269813016\n",
      "Recall: 0.9265875813175968\n",
      "F1 Score: 0.9187888187481864\n"
     ]
    }
   ],
   "source": [
    "# Fit the model with the best parameters to the training data\n",
    "model_best = LogisticRegression(**best_params)\n",
    "model_best.fit(X_train, y_train)\n",
    "\n",
    "# Make predictions on the test set\n",
    "y_pred = model_best.predict(X_val)\n",
    "\n",
    "# Evaluate the model's performance\n",
    "accuracy = accuracy_score(y_val, y_pred)\n",
    "precision = precision_score(y_val, y_pred, average='weighted', zero_division=0)  # Handling division by zero for classes with no predictions\n",
    "recall = recall_score(y_val, y_pred, average='weighted')\n",
    "f1 = f1_score(y_val, y_pred, average='weighted')\n",
    "\n",
    "# Print the evaluation metrics\n",
    "print(f\"Accuracy: {accuracy}\")\n",
    "print(f\"Precision: {precision}\")\n",
    "print(f\"Recall: {recall}\")\n",
    "print(f\"F1 Score: {f1}\")"
   ]
  },
  {
   "cell_type": "markdown",
   "metadata": {},
   "source": [
    "We got the evaluation metrics.\n",
    "```\n",
    "    Accuracy: 0.9265875813175968\n",
    "    Precision: 0.9187091269813016\n",
    "    Recall: 0.9265875813175968\n",
    "    F1 Score: 0.9187888187481864\n",
    "```\n",
    "The performance is good. The second results has minor improvement compared to the first one and the running time for getting the best parameters is much less than the first one. In this case, after tuning hyperparameters, we found that \n",
    "```\n",
    "    Best parameters: {'C': 0.1291549665014884, 'max_iter': 88, 'penalty': 'l2', 'solver': 'lbfgs'}\n",
    "```"
   ]
  },
  {
   "cell_type": "code",
   "execution_count": 26,
   "metadata": {},
   "outputs": [
    {
     "data": {
      "image/png": "[encoded data removed]",
      "text/plain": [
       "<Figure size 1000x700 with 2 Axes>"
      ]
     },
     "metadata": {},
     "output_type": "display_data"
    },
    {
     "name": "stdout",
     "output_type": "stream",
     "text": [
      "[[ 2394  2810]\n",
      " [  835 43612]]\n"
     ]
    }
   ],
   "source": [
    "import numpy as np\n",
    "from sklearn.metrics import confusion_matrix\n",
    "import seaborn as sns\n",
    "import matplotlib.pyplot as plt\n",
    "def plot_confusion_matrix(y_test, pred, title):\n",
    "\tconf_matrix = confusion_matrix(y_test, pred)  # Use predictions_binary or the equivalent for your case\n",
    "\tplt.figure(figsize=(10, 7))\n",
    "\tsns.heatmap(conf_matrix, annot=True, fmt='g', cmap='Blues', xticklabels=['Class1', 'Class2'], yticklabels=['Class1', 'Class2'])\n",
    "\tplt.xlabel('Predicted Labels')\n",
    "\tplt.ylabel('True Labels')\n",
    "\tplt.title(title)\n",
    "\tplt.show()\n",
    "\tprint(conf_matrix)\n",
    "\n",
    "\n",
    "plot_confusion_matrix(y_val, y_pred, \"Logistic Regression Confusion Matrix\")\n",
    "\n"
   ]
  }
 ],
 "metadata": {
  "kernelspec": {
   "display_name": "Python 3",
   "language": "python",
   "name": "python3"
  },
  "language_info": {
   "codemirror_mode": {
    "name": "ipython",
    "version": 3
   },
   "file_extension": ".py",
   "mimetype": "text/x-python",
   "name": "python",
   "nbconvert_exporter": "python",
   "pygments_lexer": "ipython3",
   "version": "3.10.2"
  }
 },
 "nbformat": 4,
 "nbformat_minor": 2
}
