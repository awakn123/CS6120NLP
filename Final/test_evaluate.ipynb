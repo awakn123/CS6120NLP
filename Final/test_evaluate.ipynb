{
 "cells": [
  {
   "cell_type": "code",
   "execution_count": 11,
   "metadata": {},
   "outputs": [
    {
     "name": "stdout",
     "output_type": "stream",
     "text": [
      "Requirement already satisfied: evaluate in /Users/caoyun/miniconda3/envs/ml-env/lib/python3.8/site-packages (0.4.1)\n",
      "Requirement already satisfied: bert_score in /Users/caoyun/miniconda3/envs/ml-env/lib/python3.8/site-packages (0.3.13)\n",
      "Requirement already satisfied: nltk in /Users/caoyun/miniconda3/envs/ml-env/lib/python3.8/site-packages (3.8.1)\n",
      "Requirement already satisfied: rouge_score in /Users/caoyun/miniconda3/envs/ml-env/lib/python3.8/site-packages (0.1.2)\n",
      "Requirement already satisfied: datasets>=2.0.0 in /Users/caoyun/miniconda3/envs/ml-env/lib/python3.8/site-packages (from evaluate) (2.18.0)\n",
      "Requirement already satisfied: numpy>=1.17 in /Users/caoyun/miniconda3/envs/ml-env/lib/python3.8/site-packages (from evaluate) (1.23.5)\n",
      "Requirement already satisfied: dill in /Users/caoyun/miniconda3/envs/ml-env/lib/python3.8/site-packages (from evaluate) (0.3.6)\n",
      "Requirement already satisfied: pandas in /Users/caoyun/miniconda3/envs/ml-env/lib/python3.8/site-packages (from evaluate) (2.0.3)\n",
      "Requirement already satisfied: requests>=2.19.0 in /Users/caoyun/miniconda3/envs/ml-env/lib/python3.8/site-packages (from evaluate) (2.31.0)\n",
      "Requirement already satisfied: tqdm>=4.62.1 in /Users/caoyun/miniconda3/envs/ml-env/lib/python3.8/site-packages (from evaluate) (4.65.0)\n",
      "Requirement already satisfied: xxhash in /Users/caoyun/miniconda3/envs/ml-env/lib/python3.8/site-packages (from evaluate) (2.0.2)\n",
      "Requirement already satisfied: multiprocess in /Users/caoyun/miniconda3/envs/ml-env/lib/python3.8/site-packages (from evaluate) (0.70.14)\n",
      "Requirement already satisfied: fsspec>=2021.05.0 in /Users/caoyun/miniconda3/envs/ml-env/lib/python3.8/site-packages (from fsspec[http]>=2021.05.0->evaluate) (2023.9.2)\n",
      "Requirement already satisfied: huggingface-hub>=0.7.0 in /Users/caoyun/miniconda3/envs/ml-env/lib/python3.8/site-packages (from evaluate) (0.20.3)\n",
      "Requirement already satisfied: packaging in /Users/caoyun/miniconda3/envs/ml-env/lib/python3.8/site-packages (from evaluate) (23.2)\n",
      "Requirement already satisfied: responses<0.19 in /Users/caoyun/miniconda3/envs/ml-env/lib/python3.8/site-packages (from evaluate) (0.13.3)\n",
      "Requirement already satisfied: torch>=1.0.0 in /Users/caoyun/miniconda3/envs/ml-env/lib/python3.8/site-packages (from bert_score) (2.2.0)\n",
      "Requirement already satisfied: transformers>=3.0.0 in /Users/caoyun/miniconda3/envs/ml-env/lib/python3.8/site-packages (from bert_score) (4.32.1)\n",
      "Requirement already satisfied: matplotlib in /Users/caoyun/miniconda3/envs/ml-env/lib/python3.8/site-packages (from bert_score) (3.7.5)\n",
      "Requirement already satisfied: click in /Users/caoyun/miniconda3/envs/ml-env/lib/python3.8/site-packages (from nltk) (8.1.7)\n",
      "Requirement already satisfied: joblib in /Users/caoyun/miniconda3/envs/ml-env/lib/python3.8/site-packages (from nltk) (1.4.0)\n",
      "Requirement already satisfied: regex>=2021.8.3 in /Users/caoyun/miniconda3/envs/ml-env/lib/python3.8/site-packages (from nltk) (2023.10.3)\n",
      "Requirement already satisfied: absl-py in /Users/caoyun/miniconda3/envs/ml-env/lib/python3.8/site-packages (from rouge_score) (1.4.0)\n",
      "Requirement already satisfied: six>=1.14.0 in /Users/caoyun/miniconda3/envs/ml-env/lib/python3.8/site-packages (from rouge_score) (1.16.0)\n",
      "Requirement already satisfied: filelock in /Users/caoyun/miniconda3/envs/ml-env/lib/python3.8/site-packages (from datasets>=2.0.0->evaluate) (3.13.1)\n",
      "Requirement already satisfied: pyarrow>=12.0.0 in /Users/caoyun/miniconda3/envs/ml-env/lib/python3.8/site-packages (from datasets>=2.0.0->evaluate) (15.0.2)\n",
      "Requirement already satisfied: pyarrow-hotfix in /Users/caoyun/miniconda3/envs/ml-env/lib/python3.8/site-packages (from datasets>=2.0.0->evaluate) (0.6)\n",
      "Requirement already satisfied: aiohttp in /Users/caoyun/miniconda3/envs/ml-env/lib/python3.8/site-packages (from datasets>=2.0.0->evaluate) (3.9.3)\n",
      "Requirement already satisfied: pyyaml>=5.1 in /Users/caoyun/miniconda3/envs/ml-env/lib/python3.8/site-packages (from datasets>=2.0.0->evaluate) (6.0.1)\n",
      "Requirement already satisfied: typing-extensions>=3.7.4.3 in /Users/caoyun/miniconda3/envs/ml-env/lib/python3.8/site-packages (from huggingface-hub>=0.7.0->evaluate) (4.9.0)\n",
      "Requirement already satisfied: python-dateutil>=2.8.2 in /Users/caoyun/miniconda3/envs/ml-env/lib/python3.8/site-packages (from pandas->evaluate) (2.8.2)\n",
      "Requirement already satisfied: pytz>=2020.1 in /Users/caoyun/miniconda3/envs/ml-env/lib/python3.8/site-packages (from pandas->evaluate) (2023.3.post1)\n",
      "Requirement already satisfied: tzdata>=2022.1 in /Users/caoyun/miniconda3/envs/ml-env/lib/python3.8/site-packages (from pandas->evaluate) (2023.3)\n",
      "Requirement already satisfied: charset-normalizer<4,>=2 in /Users/caoyun/miniconda3/envs/ml-env/lib/python3.8/site-packages (from requests>=2.19.0->evaluate) (2.0.4)\n",
      "Requirement already satisfied: idna<4,>=2.5 in /Users/caoyun/miniconda3/envs/ml-env/lib/python3.8/site-packages (from requests>=2.19.0->evaluate) (3.4)\n",
      "Requirement already satisfied: urllib3<3,>=1.21.1 in /Users/caoyun/miniconda3/envs/ml-env/lib/python3.8/site-packages (from requests>=2.19.0->evaluate) (2.1.0)\n",
      "Requirement already satisfied: certifi>=2017.4.17 in /Users/caoyun/miniconda3/envs/ml-env/lib/python3.8/site-packages (from requests>=2.19.0->evaluate) (2024.2.2)\n",
      "Requirement already satisfied: sympy in /Users/caoyun/miniconda3/envs/ml-env/lib/python3.8/site-packages (from torch>=1.0.0->bert_score) (1.12)\n",
      "Requirement already satisfied: networkx in /Users/caoyun/miniconda3/envs/ml-env/lib/python3.8/site-packages (from torch>=1.0.0->bert_score) (3.1)\n",
      "Requirement already satisfied: jinja2 in /Users/caoyun/miniconda3/envs/ml-env/lib/python3.8/site-packages (from torch>=1.0.0->bert_score) (3.1.3)\n",
      "Requirement already satisfied: tokenizers!=0.11.3,<0.14,>=0.11.1 in /Users/caoyun/miniconda3/envs/ml-env/lib/python3.8/site-packages (from transformers>=3.0.0->bert_score) (0.13.3)\n",
      "Requirement already satisfied: safetensors>=0.3.1 in /Users/caoyun/miniconda3/envs/ml-env/lib/python3.8/site-packages (from transformers>=3.0.0->bert_score) (0.3.2)\n",
      "Requirement already satisfied: contourpy>=1.0.1 in /Users/caoyun/miniconda3/envs/ml-env/lib/python3.8/site-packages (from matplotlib->bert_score) (1.1.1)\n",
      "Requirement already satisfied: cycler>=0.10 in /Users/caoyun/miniconda3/envs/ml-env/lib/python3.8/site-packages (from matplotlib->bert_score) (0.12.1)\n",
      "Requirement already satisfied: fonttools>=4.22.0 in /Users/caoyun/miniconda3/envs/ml-env/lib/python3.8/site-packages (from matplotlib->bert_score) (4.51.0)\n",
      "Requirement already satisfied: kiwisolver>=1.0.1 in /Users/caoyun/miniconda3/envs/ml-env/lib/python3.8/site-packages (from matplotlib->bert_score) (1.4.5)\n",
      "Requirement already satisfied: pillow>=6.2.0 in /Users/caoyun/miniconda3/envs/ml-env/lib/python3.8/site-packages (from matplotlib->bert_score) (10.3.0)\n",
      "Requirement already satisfied: pyparsing>=2.3.1 in /Users/caoyun/miniconda3/envs/ml-env/lib/python3.8/site-packages (from matplotlib->bert_score) (3.1.2)\n",
      "Requirement already satisfied: importlib-resources>=3.2.0 in /Users/caoyun/miniconda3/envs/ml-env/lib/python3.8/site-packages (from matplotlib->bert_score) (6.4.0)\n",
      "Requirement already satisfied: aiosignal>=1.1.2 in /Users/caoyun/miniconda3/envs/ml-env/lib/python3.8/site-packages (from aiohttp->datasets>=2.0.0->evaluate) (1.2.0)\n",
      "Requirement already satisfied: attrs>=17.3.0 in /Users/caoyun/miniconda3/envs/ml-env/lib/python3.8/site-packages (from aiohttp->datasets>=2.0.0->evaluate) (23.1.0)\n",
      "Requirement already satisfied: frozenlist>=1.1.1 in /Users/caoyun/miniconda3/envs/ml-env/lib/python3.8/site-packages (from aiohttp->datasets>=2.0.0->evaluate) (1.4.0)\n",
      "Requirement already satisfied: multidict<7.0,>=4.5 in /Users/caoyun/miniconda3/envs/ml-env/lib/python3.8/site-packages (from aiohttp->datasets>=2.0.0->evaluate) (6.0.4)\n",
      "Requirement already satisfied: yarl<2.0,>=1.0 in /Users/caoyun/miniconda3/envs/ml-env/lib/python3.8/site-packages (from aiohttp->datasets>=2.0.0->evaluate) (1.9.3)\n",
      "Requirement already satisfied: async-timeout<5.0,>=4.0 in /Users/caoyun/miniconda3/envs/ml-env/lib/python3.8/site-packages (from aiohttp->datasets>=2.0.0->evaluate) (4.0.3)\n",
      "Requirement already satisfied: zipp>=3.1.0 in /Users/caoyun/miniconda3/envs/ml-env/lib/python3.8/site-packages (from importlib-resources>=3.2.0->matplotlib->bert_score) (3.17.0)\n",
      "Requirement already satisfied: MarkupSafe>=2.0 in /Users/caoyun/miniconda3/envs/ml-env/lib/python3.8/site-packages (from jinja2->torch>=1.0.0->bert_score) (2.1.3)\n",
      "Requirement already satisfied: mpmath>=0.19 in /Users/caoyun/miniconda3/envs/ml-env/lib/python3.8/site-packages (from sympy->torch>=1.0.0->bert_score) (1.3.0)\n",
      "Note: you may need to restart the kernel to use updated packages.\n"
     ]
    }
   ],
   "source": [
    "%pip install evaluate bert_score nltk rouge_score"
   ]
  },
  {
   "cell_type": "code",
   "execution_count": 12,
   "metadata": {},
   "outputs": [],
   "source": [
    "import pandas as pd\n",
    "\n",
    "# Define column and row names\n",
    "columns = ['BLEU', 'BERT', 'ROUGE']\n",
    "rows = ['Target', 'GPT3.5', 'Translated Twice', 'Title', 'X']\n",
    "\n",
    "# Create an empty DataFrame\n",
    "df = pd.DataFrame(index=rows, columns=columns)\n",
    "\n",
    "target = \"\"\"\n",
    "Subject: Elevate Your Piano Skills - Exclusive Offer Inside! Hey [Name], Looking to unlock your piano potential? As a fellow male college student and a passionate piano player, I understand your love for music. That's why I'm thrilled to offer you exclusive piano lessons designed to fit your busy student schedule. Master your favorite melodies, refine techniques, and gain a deeper understanding of music theory-all while enjoying a flexible lesson plan tailored to your goals. Let's embark on this musical journey together! Limited slots available, so act fast! Reply now for more details and an irresistible offer. Keep playing and shining! [Your Name]\n",
    "\"\"\"\n",
    "title = 'Subject: Elevate Your Piano Skills - Exclusive Offer Inside!'\n",
    "generated = \"\"\"\n",
    "Subject: Enhance Your Piano Skills with Our Exclusive Lessons!\n",
    "\n",
    "Dear [Target User's Name],\n",
    "\n",
    "Are you looking to take your piano skills to the next level? We have just the right opportunity for you! As a college student with a passion for playing the piano, our tailored piano lessons are designed to elevate your musical journey.\n",
    "\n",
    "At [Your Piano Academy], we understand the dedication it takes to master this beautiful instrument. Our experienced instructors specialize in guiding students like you to unlock your full potential. Whether you're a beginner or an intermediate player, our curriculum caters to all levels, ensuring a personalized learning experience that suits your pace and goals.\n",
    "\n",
    "Here are some highlights of what you can expect from our piano lessons:\n",
    "\n",
    "Comprehensive instruction covering music theory, technique, and repertoire.\n",
    "One-on-one sessions with skilled instructors who prioritize your progress.\n",
    "Access to practice resources and materials to reinforce learning outside of class.\n",
    "Opportunities to participate in recitals and showcases to showcase your talent.\n",
    "As a fellow piano enthusiast, we believe you'll find immense joy and satisfaction in honing your skills with us. Whether you aspire to play professionally or simply want to enhance your musical prowess as a hobby, our lessons are crafted to nurture your talent and passion.\n",
    "\n",
    "To get started or learn more about our programs, feel free to reach out to us at [Your Contact Information]. We would be delighted to answer any questions you may have and assist you in joining our vibrant musical community.\n",
    "\n",
    "Looking forward to embarking on this musical journey together!\n",
    "\n",
    "Best regards,\n",
    "\n",
    "[Your Name]\n",
    "[Your Title]\n",
    "[Your Piano Academy]\n",
    "[Contact Information]\n",
    "\t\t\t\t\t\t\t \"\"\"\n",
    "translated = \"\"\"\n",
    "Subject Boost your piano skills - exclusive insider discount! Hey [name], want to unleash your piano potential? As a male college student and a passionate piano player, I understand your love for music. That's why I'm excited to offer you exclusive piano lessons to fit your busy student schedule. Master your favorite melodies, perfect your technique, and gain a deeper understanding of music theory while enjoying a flexible lesson plan tailored to your goals. Let's embark on a musical journey together! Places are limited, so sign up soon! RSVP now for more details and irresistible offers. Keep playing and shine! [your name]\n",
    "\"\"\"\n",
    "x = 'x'\n",
    "references = [target]\n"
   ]
  },
  {
   "cell_type": "code",
   "execution_count": 13,
   "metadata": {},
   "outputs": [
    {
     "name": "stdout",
     "output_type": "stream",
     "text": [
      "                      BLEU BERT ROUGE\n",
      "Target                 1.0  NaN   NaN\n",
      "GPT3.5            0.052389  NaN   NaN\n",
      "Translated Twice  0.564568  NaN   NaN\n",
      "Title             0.000041  NaN   NaN\n",
      "X                      0.0  NaN   NaN\n"
     ]
    }
   ],
   "source": [
    "import evaluate\n",
    "\n",
    "bleu = evaluate.load(\"bleu\")\n",
    "# results = bleu.compute(predictions=[target], references=references)\n",
    "df.at['Target', 'BLEU'] = bleu.compute(predictions=[target], references=references)['bleu']\n",
    "df.at['GPT3.5', 'BLEU'] = bleu.compute(predictions=[generated], references=references)['bleu']\n",
    "df.at['Translated Twice', 'BLEU'] = bleu.compute(predictions=[translated], references=references)['bleu']\n",
    "df.at['Title', 'BLEU'] = bleu.compute(predictions=[title], references=references)['bleu']\n",
    "df.at['X', 'BLEU'] = bleu.compute(predictions=[x], references=references)['bleu']\n",
    "\n",
    "print(df)\n"
   ]
  },
  {
   "cell_type": "code",
   "execution_count": 14,
   "metadata": {},
   "outputs": [],
   "source": [
    "from evaluate import load\n",
    "bertscore = load(\"bertscore\")"
   ]
  },
  {
   "cell_type": "code",
   "execution_count": 15,
   "metadata": {},
   "outputs": [
    {
     "name": "stderr",
     "output_type": "stream",
     "text": [
      "Some weights of RobertaModel were not initialized from the model checkpoint at roberta-large and are newly initialized: ['roberta.pooler.dense.bias', 'roberta.pooler.dense.weight']\n",
      "You should probably TRAIN this model on a down-stream task to be able to use it for predictions and inference.\n"
     ]
    },
    {
     "name": "stdout",
     "output_type": "stream",
     "text": [
      "                      BLEU      BERT ROUGE\n",
      "Target                 1.0       1.0   NaN\n",
      "GPT3.5            0.052389  0.843668   NaN\n",
      "Translated Twice  0.564568   0.96876   NaN\n",
      "Title             0.000041  0.954038   NaN\n",
      "X                      0.0  0.774057   NaN\n"
     ]
    }
   ],
   "source": [
    "\n",
    "df.at['Target', 'BERT'] = bertscore.compute(predictions=[target], references=references, lang=\"en\")['precision'][0]\n",
    "df.at['GPT3.5', 'BERT'] = bertscore.compute(predictions=[generated], references=references, lang=\"en\")['precision'][0]\n",
    "df.at['Translated Twice', 'BERT'] = bertscore.compute(predictions=[translated], references=references, lang=\"en\")['precision'][0]\n",
    "df.at['Title', 'BERT'] = bertscore.compute(predictions=[title], references=references, lang=\"en\")['precision'][0]\n",
    "df.at['X', 'BERT'] = bertscore.compute(predictions=[x], references=references, lang=\"en\")['precision'][0]\n",
    "print(df)"
   ]
  },
  {
   "cell_type": "code",
   "execution_count": 16,
   "metadata": {},
   "outputs": [
    {
     "name": "stdout",
     "output_type": "stream",
     "text": [
      "                      BLEU      BERT     ROUGE\n",
      "Target                 1.0       1.0       1.0\n",
      "GPT3.5            0.052389  0.843668  0.316623\n",
      "Translated Twice  0.564568   0.96876  0.819048\n",
      "Title             0.000041  0.954038  0.140351\n",
      "X                      0.0  0.774057       0.0\n"
     ]
    }
   ],
   "source": [
    "rouge = evaluate.load('rouge')\n",
    "\n",
    "df.at['Target', 'ROUGE'] = rouge.compute(predictions=[target], references=references)['rouge1']\n",
    "df.at['GPT3.5', 'ROUGE'] = rouge.compute(predictions=[generated], references=references)['rouge1']\n",
    "df.at['Translated Twice', 'ROUGE'] = rouge.compute(predictions=[translated], references=references)['rouge1']\n",
    "df.at['Title', 'ROUGE'] = rouge.compute(predictions=[title], references=references)['rouge1']\n",
    "df.at['X', 'ROUGE'] = rouge.compute(predictions=[x], references=references)['rouge1']\n",
    "print(df)"
   ]
  }
 ],
 "metadata": {
  "kernelspec": {
   "display_name": "ml-env",
   "language": "python",
   "name": "python3"
  },
  "language_info": {
   "codemirror_mode": {
    "name": "ipython",
    "version": 3
   },
   "file_extension": ".py",
   "mimetype": "text/x-python",
   "name": "python",
   "nbconvert_exporter": "python",
   "pygments_lexer": "ipython3",
   "version": "3.8.18"
  }
 },
 "nbformat": 4,
 "nbformat_minor": 2
}
