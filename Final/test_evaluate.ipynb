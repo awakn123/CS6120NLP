{
 "cells": [
  {
   "cell_type": "code",
   "execution_count": 29,
   "metadata": {},
   "outputs": [
    {
     "name": "stdout",
     "output_type": "stream",
     "text": [
      "Requirement already satisfied: evaluate in /Users/caoyun/miniconda3/envs/ml-env/lib/python3.8/site-packages (0.4.1)\n",
      "Requirement already satisfied: bert_score in /Users/caoyun/miniconda3/envs/ml-env/lib/python3.8/site-packages (0.3.13)\n",
      "Collecting nltk\n",
      "  Downloading nltk-3.8.1-py3-none-any.whl.metadata (2.8 kB)\n",
      "Collecting rouge_score\n",
      "  Downloading rouge_score-0.1.2.tar.gz (17 kB)\n",
      "  Preparing metadata (setup.py) ... \u001b[?25ldone\n",
      "\u001b[?25hRequirement already satisfied: datasets>=2.0.0 in /Users/caoyun/miniconda3/envs/ml-env/lib/python3.8/site-packages (from evaluate) (2.18.0)\n",
      "Requirement already satisfied: numpy>=1.17 in /Users/caoyun/miniconda3/envs/ml-env/lib/python3.8/site-packages (from evaluate) (1.23.5)\n",
      "Requirement already satisfied: dill in /Users/caoyun/miniconda3/envs/ml-env/lib/python3.8/site-packages (from evaluate) (0.3.6)\n",
      "Requirement already satisfied: pandas in /Users/caoyun/miniconda3/envs/ml-env/lib/python3.8/site-packages (from evaluate) (2.0.3)\n",
      "Requirement already satisfied: requests>=2.19.0 in /Users/caoyun/miniconda3/envs/ml-env/lib/python3.8/site-packages (from evaluate) (2.31.0)\n",
      "Requirement already satisfied: tqdm>=4.62.1 in /Users/caoyun/miniconda3/envs/ml-env/lib/python3.8/site-packages (from evaluate) (4.65.0)\n",
      "Requirement already satisfied: xxhash in /Users/caoyun/miniconda3/envs/ml-env/lib/python3.8/site-packages (from evaluate) (2.0.2)\n",
      "Requirement already satisfied: multiprocess in /Users/caoyun/miniconda3/envs/ml-env/lib/python3.8/site-packages (from evaluate) (0.70.14)\n",
      "Requirement already satisfied: fsspec>=2021.05.0 in /Users/caoyun/miniconda3/envs/ml-env/lib/python3.8/site-packages (from fsspec[http]>=2021.05.0->evaluate) (2023.9.2)\n",
      "Requirement already satisfied: huggingface-hub>=0.7.0 in /Users/caoyun/miniconda3/envs/ml-env/lib/python3.8/site-packages (from evaluate) (0.20.3)\n",
      "Requirement already satisfied: packaging in /Users/caoyun/miniconda3/envs/ml-env/lib/python3.8/site-packages (from evaluate) (23.2)\n",
      "Requirement already satisfied: responses<0.19 in /Users/caoyun/miniconda3/envs/ml-env/lib/python3.8/site-packages (from evaluate) (0.13.3)\n",
      "Requirement already satisfied: torch>=1.0.0 in /Users/caoyun/miniconda3/envs/ml-env/lib/python3.8/site-packages (from bert_score) (2.2.0)\n",
      "Requirement already satisfied: transformers>=3.0.0 in /Users/caoyun/miniconda3/envs/ml-env/lib/python3.8/site-packages (from bert_score) (4.32.1)\n",
      "Requirement already satisfied: matplotlib in /Users/caoyun/miniconda3/envs/ml-env/lib/python3.8/site-packages (from bert_score) (3.7.5)\n",
      "Requirement already satisfied: click in /Users/caoyun/miniconda3/envs/ml-env/lib/python3.8/site-packages (from nltk) (8.1.7)\n",
      "Requirement already satisfied: joblib in /Users/caoyun/miniconda3/envs/ml-env/lib/python3.8/site-packages (from nltk) (1.4.0)\n",
      "Requirement already satisfied: regex>=2021.8.3 in /Users/caoyun/miniconda3/envs/ml-env/lib/python3.8/site-packages (from nltk) (2023.10.3)\n",
      "Requirement already satisfied: absl-py in /Users/caoyun/miniconda3/envs/ml-env/lib/python3.8/site-packages (from rouge_score) (1.4.0)\n",
      "Requirement already satisfied: six>=1.14.0 in /Users/caoyun/miniconda3/envs/ml-env/lib/python3.8/site-packages (from rouge_score) (1.16.0)\n",
      "Requirement already satisfied: filelock in /Users/caoyun/miniconda3/envs/ml-env/lib/python3.8/site-packages (from datasets>=2.0.0->evaluate) (3.13.1)\n",
      "Requirement already satisfied: pyarrow>=12.0.0 in /Users/caoyun/miniconda3/envs/ml-env/lib/python3.8/site-packages (from datasets>=2.0.0->evaluate) (15.0.2)\n",
      "Requirement already satisfied: pyarrow-hotfix in /Users/caoyun/miniconda3/envs/ml-env/lib/python3.8/site-packages (from datasets>=2.0.0->evaluate) (0.6)\n",
      "Requirement already satisfied: aiohttp in /Users/caoyun/miniconda3/envs/ml-env/lib/python3.8/site-packages (from datasets>=2.0.0->evaluate) (3.9.3)\n",
      "Requirement already satisfied: pyyaml>=5.1 in /Users/caoyun/miniconda3/envs/ml-env/lib/python3.8/site-packages (from datasets>=2.0.0->evaluate) (6.0.1)\n",
      "Requirement already satisfied: typing-extensions>=3.7.4.3 in /Users/caoyun/miniconda3/envs/ml-env/lib/python3.8/site-packages (from huggingface-hub>=0.7.0->evaluate) (4.9.0)\n",
      "Requirement already satisfied: python-dateutil>=2.8.2 in /Users/caoyun/miniconda3/envs/ml-env/lib/python3.8/site-packages (from pandas->evaluate) (2.8.2)\n",
      "Requirement already satisfied: pytz>=2020.1 in /Users/caoyun/miniconda3/envs/ml-env/lib/python3.8/site-packages (from pandas->evaluate) (2023.3.post1)\n",
      "Requirement already satisfied: tzdata>=2022.1 in /Users/caoyun/miniconda3/envs/ml-env/lib/python3.8/site-packages (from pandas->evaluate) (2023.3)\n",
      "Requirement already satisfied: charset-normalizer<4,>=2 in /Users/caoyun/miniconda3/envs/ml-env/lib/python3.8/site-packages (from requests>=2.19.0->evaluate) (2.0.4)\n",
      "Requirement already satisfied: idna<4,>=2.5 in /Users/caoyun/miniconda3/envs/ml-env/lib/python3.8/site-packages (from requests>=2.19.0->evaluate) (3.4)\n",
      "Requirement already satisfied: urllib3<3,>=1.21.1 in /Users/caoyun/miniconda3/envs/ml-env/lib/python3.8/site-packages (from requests>=2.19.0->evaluate) (2.1.0)\n",
      "Requirement already satisfied: certifi>=2017.4.17 in /Users/caoyun/miniconda3/envs/ml-env/lib/python3.8/site-packages (from requests>=2.19.0->evaluate) (2024.2.2)\n",
      "Requirement already satisfied: sympy in /Users/caoyun/miniconda3/envs/ml-env/lib/python3.8/site-packages (from torch>=1.0.0->bert_score) (1.12)\n",
      "Requirement already satisfied: networkx in /Users/caoyun/miniconda3/envs/ml-env/lib/python3.8/site-packages (from torch>=1.0.0->bert_score) (3.1)\n",
      "Requirement already satisfied: jinja2 in /Users/caoyun/miniconda3/envs/ml-env/lib/python3.8/site-packages (from torch>=1.0.0->bert_score) (3.1.3)\n",
      "Requirement already satisfied: tokenizers!=0.11.3,<0.14,>=0.11.1 in /Users/caoyun/miniconda3/envs/ml-env/lib/python3.8/site-packages (from transformers>=3.0.0->bert_score) (0.13.3)\n",
      "Requirement already satisfied: safetensors>=0.3.1 in /Users/caoyun/miniconda3/envs/ml-env/lib/python3.8/site-packages (from transformers>=3.0.0->bert_score) (0.3.2)\n",
      "Requirement already satisfied: contourpy>=1.0.1 in /Users/caoyun/miniconda3/envs/ml-env/lib/python3.8/site-packages (from matplotlib->bert_score) (1.1.1)\n",
      "Requirement already satisfied: cycler>=0.10 in /Users/caoyun/miniconda3/envs/ml-env/lib/python3.8/site-packages (from matplotlib->bert_score) (0.12.1)\n",
      "Requirement already satisfied: fonttools>=4.22.0 in /Users/caoyun/miniconda3/envs/ml-env/lib/python3.8/site-packages (from matplotlib->bert_score) (4.51.0)\n",
      "Requirement already satisfied: kiwisolver>=1.0.1 in /Users/caoyun/miniconda3/envs/ml-env/lib/python3.8/site-packages (from matplotlib->bert_score) (1.4.5)\n",
      "Requirement already satisfied: pillow>=6.2.0 in /Users/caoyun/miniconda3/envs/ml-env/lib/python3.8/site-packages (from matplotlib->bert_score) (10.3.0)\n",
      "Requirement already satisfied: pyparsing>=2.3.1 in /Users/caoyun/miniconda3/envs/ml-env/lib/python3.8/site-packages (from matplotlib->bert_score) (3.1.2)\n",
      "Requirement already satisfied: importlib-resources>=3.2.0 in /Users/caoyun/miniconda3/envs/ml-env/lib/python3.8/site-packages (from matplotlib->bert_score) (6.4.0)\n",
      "Requirement already satisfied: aiosignal>=1.1.2 in /Users/caoyun/miniconda3/envs/ml-env/lib/python3.8/site-packages (from aiohttp->datasets>=2.0.0->evaluate) (1.2.0)\n",
      "Requirement already satisfied: attrs>=17.3.0 in /Users/caoyun/miniconda3/envs/ml-env/lib/python3.8/site-packages (from aiohttp->datasets>=2.0.0->evaluate) (23.1.0)\n",
      "Requirement already satisfied: frozenlist>=1.1.1 in /Users/caoyun/miniconda3/envs/ml-env/lib/python3.8/site-packages (from aiohttp->datasets>=2.0.0->evaluate) (1.4.0)\n",
      "Requirement already satisfied: multidict<7.0,>=4.5 in /Users/caoyun/miniconda3/envs/ml-env/lib/python3.8/site-packages (from aiohttp->datasets>=2.0.0->evaluate) (6.0.4)\n",
      "Requirement already satisfied: yarl<2.0,>=1.0 in /Users/caoyun/miniconda3/envs/ml-env/lib/python3.8/site-packages (from aiohttp->datasets>=2.0.0->evaluate) (1.9.3)\n",
      "Requirement already satisfied: async-timeout<5.0,>=4.0 in /Users/caoyun/miniconda3/envs/ml-env/lib/python3.8/site-packages (from aiohttp->datasets>=2.0.0->evaluate) (4.0.3)\n",
      "Requirement already satisfied: zipp>=3.1.0 in /Users/caoyun/miniconda3/envs/ml-env/lib/python3.8/site-packages (from importlib-resources>=3.2.0->matplotlib->bert_score) (3.17.0)\n",
      "Requirement already satisfied: MarkupSafe>=2.0 in /Users/caoyun/miniconda3/envs/ml-env/lib/python3.8/site-packages (from jinja2->torch>=1.0.0->bert_score) (2.1.3)\n",
      "Requirement already satisfied: mpmath>=0.19 in /Users/caoyun/miniconda3/envs/ml-env/lib/python3.8/site-packages (from sympy->torch>=1.0.0->bert_score) (1.3.0)\n",
      "Downloading nltk-3.8.1-py3-none-any.whl (1.5 MB)\n",
      "\u001b[2K   \u001b[90m━━━━━━━━━━━━━━━━━━━━━━━━━━━━━━━━━━━━━━━━\u001b[0m \u001b[32m1.5/1.5 MB\u001b[0m \u001b[31m2.1 MB/s\u001b[0m eta \u001b[36m0:00:00\u001b[0m00:01\u001b[0m00:01\u001b[0m0m\n",
      "\u001b[?25hBuilding wheels for collected packages: rouge_score\n",
      "  Building wheel for rouge_score (setup.py) ... \u001b[?25ldone\n",
      "\u001b[?25h  Created wheel for rouge_score: filename=rouge_score-0.1.2-py3-none-any.whl size=24936 sha256=3e65477644d9a46ad67f1fa5760c5e7019e10934ca139ca167f8f9fe8343eacd\n",
      "  Stored in directory: /Users/caoyun/Library/Caches/pip/wheels/24/55/6f/ebfc4cb176d1c9665da4e306e1705496206d08215c1acd9dde\n",
      "Successfully built rouge_score\n",
      "Installing collected packages: nltk, rouge_score\n",
      "Successfully installed nltk-3.8.1 rouge_score-0.1.2\n",
      "Note: you may need to restart the kernel to use updated packages.\n"
     ]
    }
   ],
   "source": [
    "%pip install evaluate bert_score nltk rouge_score"
   ]
  },
  {
   "cell_type": "code",
   "execution_count": 10,
   "metadata": {},
   "outputs": [
    {
     "name": "stdout",
     "output_type": "stream",
     "text": [
      "{'bleu': 0.052389362367760366, 'precisions': [0.2315112540192926, 0.07741935483870968, 0.032362459546925564, 0.012987012987012988], 'brevity_penalty': 1.0, 'length_ratio': 2.5491803278688523, 'translation_length': 311, 'reference_length': 122}\n"
     ]
    }
   ],
   "source": [
    "import evaluate\n",
    "predictions = [\"\"\"\n",
    "Subject: Enhance Your Piano Skills with Our Exclusive Lessons!\n",
    "\n",
    "Dear [Target User's Name],\n",
    "\n",
    "Are you looking to take your piano skills to the next level? We have just the right opportunity for you! As a college student with a passion for playing the piano, our tailored piano lessons are designed to elevate your musical journey.\n",
    "\n",
    "At [Your Piano Academy], we understand the dedication it takes to master this beautiful instrument. Our experienced instructors specialize in guiding students like you to unlock your full potential. Whether you're a beginner or an intermediate player, our curriculum caters to all levels, ensuring a personalized learning experience that suits your pace and goals.\n",
    "\n",
    "Here are some highlights of what you can expect from our piano lessons:\n",
    "\n",
    "Comprehensive instruction covering music theory, technique, and repertoire.\n",
    "One-on-one sessions with skilled instructors who prioritize your progress.\n",
    "Access to practice resources and materials to reinforce learning outside of class.\n",
    "Opportunities to participate in recitals and showcases to showcase your talent.\n",
    "As a fellow piano enthusiast, we believe you'll find immense joy and satisfaction in honing your skills with us. Whether you aspire to play professionally or simply want to enhance your musical prowess as a hobby, our lessons are crafted to nurture your talent and passion.\n",
    "\n",
    "To get started or learn more about our programs, feel free to reach out to us at [Your Contact Information]. We would be delighted to answer any questions you may have and assist you in joining our vibrant musical community.\n",
    "\n",
    "Looking forward to embarking on this musical journey together!\n",
    "\n",
    "Best regards,\n",
    "\n",
    "[Your Name]\n",
    "[Your Title]\n",
    "[Your Piano Academy]\n",
    "[Contact Information]\n",
    "\t\t\t\t\t\t\t \"\"\"]\n",
    "references = [\n",
    "    [\"\"\"\n",
    "Subject: Elevate Your Piano Skills - Exclusive Offer Inside! Hey [Name], Looking to unlock your piano potential? As a fellow male college student and a passionate piano player, I understand your love for music. That's why I'm thrilled to offer you exclusive piano lessons designed to fit your busy student schedule. Master your favorite melodies, refine techniques, and gain a deeper understanding of music theory-all while enjoying a flexible lesson plan tailored to your goals. Let's embark on this musical journey together! Limited slots available, so act fast! Reply now for more details and an irresistible offer. Keep playing and shining! [Your Name]\n",
    "\"\"\"]\n",
    "]\n",
    "bleu = evaluate.load(\"bleu\")\n",
    "results = bleu.compute(predictions=predictions, references=references)\n",
    "print(results)\n"
   ]
  },
  {
   "cell_type": "code",
   "execution_count": 13,
   "metadata": {},
   "outputs": [
    {
     "name": "stderr",
     "output_type": "stream",
     "text": [
      "tokenizer_config.json: 100%|██████████| 25.0/25.0 [00:00<00:00, 4.12kB/s]\n",
      "config.json: 100%|██████████| 482/482 [00:00<00:00, 216kB/s]\n",
      "vocab.json: 100%|██████████| 899k/899k [00:00<00:00, 3.11MB/s]\n",
      "merges.txt: 100%|██████████| 456k/456k [00:00<00:00, 14.5MB/s]\n",
      "model.safetensors: 100%|██████████| 1.42G/1.42G [00:54<00:00, 26.1MB/s]\n",
      "Some weights of RobertaModel were not initialized from the model checkpoint at roberta-large and are newly initialized: ['roberta.pooler.dense.weight', 'roberta.pooler.dense.bias']\n",
      "You should probably TRAIN this model on a down-stream task to be able to use it for predictions and inference.\n"
     ]
    }
   ],
   "source": [
    "from evaluate import load\n",
    "bertscore = load(\"bertscore\")"
   ]
  },
  {
   "cell_type": "code",
   "execution_count": 26,
   "metadata": {},
   "outputs": [
    {
     "name": "stdout",
     "output_type": "stream",
     "text": [
      "{'precision': [0.846822202205658], 'recall': [0.8825923204421997], 'f1': [0.8643373847007751], 'hashcode': 'roberta-large_L17_no-idf_version=0.3.12(hug_trans=4.32.1)'}\n"
     ]
    }
   ],
   "source": [
    "\n",
    "predictions = [\"BERTScore is an automatic evaluation metric for text generation that computes a similarity score for each token in the candidate sentence with each token in the reference sentence. It leverages the pre-trained contextual embeddings from BERT models and matches words in candidate and reference sentences by cosine similarity.\"]\n",
    "references = [\"Moreover, BERTScore computes precision, recall, and F1 measure, which can be useful for evaluating different language generation tasks.\"]\n",
    "\n",
    "results = bertscore.compute(predictions=predictions, references=references, lang=\"en\")\n",
    "print(results)"
   ]
  },
  {
   "cell_type": "code",
   "execution_count": 37,
   "metadata": {},
   "outputs": [
    {
     "name": "stdout",
     "output_type": "stream",
     "text": [
      "{'rouge1': 0.3898916967509025, 'rouge2': 0.11636363636363636, 'rougeL': 0.2527075812274368, 'rougeLsum': 0.25992779783393505}\n"
     ]
    }
   ],
   "source": [
    "rouge = evaluate.load('rouge')\n",
    "predictions = [\n",
    "\t\"\"\"\n",
    "Subject: Evaluate Your Piano Skills with Our Exclusive Lessons!\n",
    "\n",
    "Dear [Target User's Name],\n",
    "\n",
    "Are you looking to take your piano skills to the next level? We have just the right opportunity for you! As a college student with a passion for playing the piano, our tailored piano lessons are designed to elevate your musical journey.\n",
    "\n",
    "At [Your Piano Academy], we understand the dedication it takes to master this beautiful instrument. Our experienced instructors specialize in guiding students like you to unlock your full potential. Whether you're a beginner or an intermediate player, our curriculum caters to all levels, ensuring a personalized learning experience that suits your pace and goals.\n",
    "\n",
    "To get started or learn more about our programs, feel free to reach out to us at [Your Contact Information]. We would be delighted to answer any questions you may have and assist you in joining our vibrant musical community.\n",
    "\n",
    "Looking forward to embarking on this musical journey together!\n",
    "\n",
    "Best regards,\n",
    "\n",
    "[Your Name]\n",
    "[Your Title]\n",
    "[Your Piano Academy]\n",
    "[Contact Information]\n",
    "\t\t\t\t\t\t\t \"\"\"\n",
    "]\n",
    "references = [\"\"\"\n",
    "Subject: Elevate Your Piano Skills - Exclusive Offer Inside! Hey [Name], Looking to unlock your piano potential? As a fellow male college student and a passionate piano player, I understand your love for music. That's why I'm thrilled to offer you exclusive piano lessons designed to fit your busy student schedule. Master your favorite melodies, refine techniques, and gain a deeper understanding of music theory-all while enjoying a flexible lesson plan tailored to your goals. Let's embark on this musical journey together! Limited slots available, so act fast! Reply now for more details and an irresistible offer. Keep playing and shining! [Your Name]\n",
    "\"\"\"]\n",
    "results = rouge.compute(predictions=predictions,\n",
    "                        references=references)\n",
    "print(results)"
   ]
  }
 ],
 "metadata": {
  "kernelspec": {
   "display_name": "ml-env",
   "language": "python",
   "name": "python3"
  },
  "language_info": {
   "codemirror_mode": {
    "name": "ipython",
    "version": 3
   },
   "file_extension": ".py",
   "mimetype": "text/x-python",
   "name": "python",
   "nbconvert_exporter": "python",
   "pygments_lexer": "ipython3",
   "version": "3.8.18"
  }
 },
 "nbformat": 4,
 "nbformat_minor": 2
}
