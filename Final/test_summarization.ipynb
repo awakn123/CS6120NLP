{
 "cells": [
  {
   "cell_type": "code",
   "execution_count": 2,
   "metadata": {},
   "outputs": [
    {
     "name": "stdout",
     "output_type": "stream",
     "text": [
      "Requirement already satisfied: transformers in /Users/caoyun/miniconda3/envs/ml-env/lib/python3.8/site-packages (4.32.1)\n",
      "Requirement already satisfied: datasets in /Users/caoyun/miniconda3/envs/ml-env/lib/python3.8/site-packages (2.18.0)\n",
      "Requirement already satisfied: torch in /Users/caoyun/miniconda3/envs/ml-env/lib/python3.8/site-packages (2.2.0)\n",
      "Collecting scikit-learn\n",
      "  Downloading scikit_learn-1.3.2-cp38-cp38-macosx_10_9_x86_64.whl.metadata (11 kB)\n",
      "Requirement already satisfied: filelock in /Users/caoyun/miniconda3/envs/ml-env/lib/python3.8/site-packages (from transformers) (3.13.1)\n",
      "Requirement already satisfied: huggingface-hub<1.0,>=0.15.1 in /Users/caoyun/miniconda3/envs/ml-env/lib/python3.8/site-packages (from transformers) (0.20.3)\n",
      "Requirement already satisfied: numpy>=1.17 in /Users/caoyun/miniconda3/envs/ml-env/lib/python3.8/site-packages (from transformers) (1.23.5)\n",
      "Requirement already satisfied: packaging>=20.0 in /Users/caoyun/miniconda3/envs/ml-env/lib/python3.8/site-packages (from transformers) (23.2)\n",
      "Requirement already satisfied: pyyaml>=5.1 in /Users/caoyun/miniconda3/envs/ml-env/lib/python3.8/site-packages (from transformers) (6.0.1)\n",
      "Requirement already satisfied: regex!=2019.12.17 in /Users/caoyun/miniconda3/envs/ml-env/lib/python3.8/site-packages (from transformers) (2023.10.3)\n",
      "Requirement already satisfied: requests in /Users/caoyun/miniconda3/envs/ml-env/lib/python3.8/site-packages (from transformers) (2.31.0)\n",
      "Requirement already satisfied: tokenizers!=0.11.3,<0.14,>=0.11.1 in /Users/caoyun/miniconda3/envs/ml-env/lib/python3.8/site-packages (from transformers) (0.13.3)\n",
      "Requirement already satisfied: safetensors>=0.3.1 in /Users/caoyun/miniconda3/envs/ml-env/lib/python3.8/site-packages (from transformers) (0.3.2)\n",
      "Requirement already satisfied: tqdm>=4.27 in /Users/caoyun/miniconda3/envs/ml-env/lib/python3.8/site-packages (from transformers) (4.65.0)\n",
      "Requirement already satisfied: pyarrow>=12.0.0 in /Users/caoyun/miniconda3/envs/ml-env/lib/python3.8/site-packages (from datasets) (15.0.2)\n",
      "Requirement already satisfied: pyarrow-hotfix in /Users/caoyun/miniconda3/envs/ml-env/lib/python3.8/site-packages (from datasets) (0.6)\n",
      "Requirement already satisfied: dill<0.3.9,>=0.3.0 in /Users/caoyun/miniconda3/envs/ml-env/lib/python3.8/site-packages (from datasets) (0.3.6)\n",
      "Requirement already satisfied: pandas in /Users/caoyun/miniconda3/envs/ml-env/lib/python3.8/site-packages (from datasets) (2.0.3)\n",
      "Requirement already satisfied: xxhash in /Users/caoyun/miniconda3/envs/ml-env/lib/python3.8/site-packages (from datasets) (2.0.2)\n",
      "Requirement already satisfied: multiprocess in /Users/caoyun/miniconda3/envs/ml-env/lib/python3.8/site-packages (from datasets) (0.70.14)\n",
      "Requirement already satisfied: fsspec<=2024.2.0,>=2023.1.0 in /Users/caoyun/miniconda3/envs/ml-env/lib/python3.8/site-packages (from fsspec[http]<=2024.2.0,>=2023.1.0->datasets) (2023.9.2)\n",
      "Requirement already satisfied: aiohttp in /Users/caoyun/miniconda3/envs/ml-env/lib/python3.8/site-packages (from datasets) (3.9.3)\n",
      "Requirement already satisfied: typing-extensions>=4.8.0 in /Users/caoyun/miniconda3/envs/ml-env/lib/python3.8/site-packages (from torch) (4.9.0)\n",
      "Requirement already satisfied: sympy in /Users/caoyun/miniconda3/envs/ml-env/lib/python3.8/site-packages (from torch) (1.12)\n",
      "Requirement already satisfied: networkx in /Users/caoyun/miniconda3/envs/ml-env/lib/python3.8/site-packages (from torch) (3.1)\n",
      "Requirement already satisfied: jinja2 in /Users/caoyun/miniconda3/envs/ml-env/lib/python3.8/site-packages (from torch) (3.1.3)\n",
      "Requirement already satisfied: scipy>=1.5.0 in /Users/caoyun/miniconda3/envs/ml-env/lib/python3.8/site-packages (from scikit-learn) (1.10.1)\n",
      "Collecting joblib>=1.1.1 (from scikit-learn)\n",
      "  Downloading joblib-1.4.0-py3-none-any.whl.metadata (5.4 kB)\n",
      "Collecting threadpoolctl>=2.0.0 (from scikit-learn)\n",
      "  Downloading threadpoolctl-3.4.0-py3-none-any.whl.metadata (13 kB)\n",
      "Requirement already satisfied: aiosignal>=1.1.2 in /Users/caoyun/miniconda3/envs/ml-env/lib/python3.8/site-packages (from aiohttp->datasets) (1.2.0)\n",
      "Requirement already satisfied: attrs>=17.3.0 in /Users/caoyun/miniconda3/envs/ml-env/lib/python3.8/site-packages (from aiohttp->datasets) (23.1.0)\n",
      "Requirement already satisfied: frozenlist>=1.1.1 in /Users/caoyun/miniconda3/envs/ml-env/lib/python3.8/site-packages (from aiohttp->datasets) (1.4.0)\n",
      "Requirement already satisfied: multidict<7.0,>=4.5 in /Users/caoyun/miniconda3/envs/ml-env/lib/python3.8/site-packages (from aiohttp->datasets) (6.0.4)\n",
      "Requirement already satisfied: yarl<2.0,>=1.0 in /Users/caoyun/miniconda3/envs/ml-env/lib/python3.8/site-packages (from aiohttp->datasets) (1.9.3)\n",
      "Requirement already satisfied: async-timeout<5.0,>=4.0 in /Users/caoyun/miniconda3/envs/ml-env/lib/python3.8/site-packages (from aiohttp->datasets) (4.0.3)\n",
      "Requirement already satisfied: charset-normalizer<4,>=2 in /Users/caoyun/miniconda3/envs/ml-env/lib/python3.8/site-packages (from requests->transformers) (2.0.4)\n",
      "Requirement already satisfied: idna<4,>=2.5 in /Users/caoyun/miniconda3/envs/ml-env/lib/python3.8/site-packages (from requests->transformers) (3.4)\n",
      "Requirement already satisfied: urllib3<3,>=1.21.1 in /Users/caoyun/miniconda3/envs/ml-env/lib/python3.8/site-packages (from requests->transformers) (2.1.0)\n",
      "Requirement already satisfied: certifi>=2017.4.17 in /Users/caoyun/miniconda3/envs/ml-env/lib/python3.8/site-packages (from requests->transformers) (2024.2.2)\n",
      "Requirement already satisfied: MarkupSafe>=2.0 in /Users/caoyun/miniconda3/envs/ml-env/lib/python3.8/site-packages (from jinja2->torch) (2.1.3)\n",
      "Requirement already satisfied: python-dateutil>=2.8.2 in /Users/caoyun/miniconda3/envs/ml-env/lib/python3.8/site-packages (from pandas->datasets) (2.8.2)\n",
      "Requirement already satisfied: pytz>=2020.1 in /Users/caoyun/miniconda3/envs/ml-env/lib/python3.8/site-packages (from pandas->datasets) (2023.3.post1)\n",
      "Requirement already satisfied: tzdata>=2022.1 in /Users/caoyun/miniconda3/envs/ml-env/lib/python3.8/site-packages (from pandas->datasets) (2023.3)\n",
      "Requirement already satisfied: mpmath>=0.19 in /Users/caoyun/miniconda3/envs/ml-env/lib/python3.8/site-packages (from sympy->torch) (1.3.0)\n",
      "Requirement already satisfied: six>=1.5 in /Users/caoyun/miniconda3/envs/ml-env/lib/python3.8/site-packages (from python-dateutil>=2.8.2->pandas->datasets) (1.16.0)\n",
      "Downloading scikit_learn-1.3.2-cp38-cp38-macosx_10_9_x86_64.whl (10.1 MB)\n",
      "\u001b[2K   \u001b[90m━━━━━━━━━━━━━━━━━━━━━━━━━━━━━━━━━━━━━━━━\u001b[0m \u001b[32m10.1/10.1 MB\u001b[0m \u001b[31m12.4 MB/s\u001b[0m eta \u001b[36m0:00:00\u001b[0m00:01\u001b[0m0:01\u001b[0m\n",
      "\u001b[?25hDownloading joblib-1.4.0-py3-none-any.whl (301 kB)\n",
      "\u001b[2K   \u001b[90m━━━━━━━━━━━━━━━━━━━━━━━━━━━━━━━━━━━━━━━━\u001b[0m \u001b[32m301.2/301.2 kB\u001b[0m \u001b[31m2.4 MB/s\u001b[0m eta \u001b[36m0:00:00\u001b[0m00:01\u001b[0m:00:01\u001b[0m\n",
      "\u001b[?25hDownloading threadpoolctl-3.4.0-py3-none-any.whl (17 kB)\n",
      "Installing collected packages: threadpoolctl, joblib, scikit-learn\n",
      "Successfully installed joblib-1.4.0 scikit-learn-1.3.2 threadpoolctl-3.4.0\n",
      "Note: you may need to restart the kernel to use updated packages.\n"
     ]
    }
   ],
   "source": [
    "%pip install transformers datasets torch scikit-learn"
   ]
  },
  {
   "cell_type": "code",
   "execution_count": 2,
   "metadata": {},
   "outputs": [
    {
     "name": "stderr",
     "output_type": "stream",
     "text": [
      "Downloading readme: 100%|██████████| 23.0/23.0 [00:00<00:00, 34.1kB/s]\n",
      "Downloading data: 100%|██████████| 24.5k/24.5k [00:00<00:00, 267kB/s]\n",
      "Generating train split: 30 examples [00:00, 1283.76 examples/s]\n"
     ]
    }
   ],
   "source": [
    "from datasets import load_dataset\n",
    "\n",
    "# Load the dataset\n",
    "dataset = load_dataset('LightTai/personalized-email')"
   ]
  },
  {
   "cell_type": "code",
   "execution_count": 3,
   "metadata": {},
   "outputs": [
    {
     "name": "stdout",
     "output_type": "stream",
     "text": [
      "DatasetDict({\n",
      "    train: Dataset({\n",
      "        features: ['product', 'gender', 'profession', 'hobby', 'email'],\n",
      "        num_rows: 30\n",
      "    })\n",
      "})\n",
      "{'product': ['piano lessons', 'guitar lessons', 'vacation plans', 'vacation plans', 'vacation plans'], 'gender': ['male', 'male', 'male', 'female', 'female'], 'profession': ['college students', 'college students', 'college students', 'college students', 'company employees'], 'hobby': ['like to play piano', 'like to play piano', 'like swimming', 'like to look at the scenery', 'like to look at the scenery'], 'email': [\"Subject: Elevate Your Piano Skills - Exclusive Offer Inside!\\n\\nHey [Name],\\n\\nLooking to unlock your piano potential? As a fellow male college student and a passionate piano player, I understand your love for music. That's why I'm thrilled to offer you exclusive piano lessons designed to fit your busy student schedule.\\n\\nMaster your favorite melodies, refine techniques, and gain a deeper understanding of music theory-all while enjoying a flexible lesson plan tailored to your goals. Let's embark on this musical journey together!\\n\\nLimited slots available, so act fast! Reply now for more details and an irresistible offer.\\n\\nKeep playing and shining!\\n\\n[Your Name]\", \"Subject: Expand Your Musical Horizons - Exclusive Guitar Lessons Offer!\\n\\nHey [Name],\\n\\nLooking to broaden your musical repertoire? As a male college student who enjoys playing the piano, I have an exciting opportunity for you. Discover the magic of guitar with our exclusive lessons tailored specifically for college students like you.\\n\\nUnleash your creativity, learn popular chords, and strum your favorite tunes in no time. Our flexible schedule ensures your studies won't miss a beat, and our experienced instructors will guide you every step of the way.\\n\\nLimited spaces available, so secure your spot now! Reply for more details and an exclusive offer that'll have you rocking the guitar in record time.\\n\\nStrumming success awaits!\\n\\n[Your Name]\", \"Subject: Dive into the Perfect Getaway - Exclusive Offer Inside!\\n\\nHey [Name],\\n\\nReady to make a splash on your next vacation? As a fellow male college student who loves swimming, I've got the perfect getaway plan for you. Imagine crystal-clear waters, vibrant marine life, and sandy beaches-the ultimate aquatic paradise!\\n\\nOur specially curated vacation package combines your passion for swimming with unforgettable adventures. Dive into pristine oceans, explore hidden coves, and unwind under the warm sun. It's the ultimate escape from college stress!\\n\\nLimited spots available, so don't miss out on this aquatic adventure. Reply now for more details and an exclusive offer that'll make your swimmer's heart leap!\\n\\nMake a splash!\\n\\n[Your Name]\", \"Subject: Escape to Enchanting Landscapes - Exclusive Offer Inside!\\n\\nHey [Name],\\n\\nCraving an awe-inspiring adventure? As a fellow female college student who appreciates breathtaking scenery, I have the perfect vacation plan for you. Immerse yourself in captivating landscapes, from lush valleys to majestic mountains, and create unforgettable memories.\\n\\nOur carefully curated vacation package combines stunning natural beauty with thrilling activities that cater to your adventurous spirit. Capture picture-perfect moments, hike scenic trails, and soak in the serenity of nature.\\n\\nLimited spots available, so don't miss out on this enchanting journey. Reply now for more details and an exclusive offer that will transport you to the most picturesque destinations.\\n\\nUnleash your wanderlust!\\n\\n[Your Name]\", \"Subject: Escape the Daily Grind - Exclusive Vacation Offer Inside!\\n\\nHey [Name],\\n\\nReady for a rejuvenating getaway? As a female professional who appreciates scenic beauty, I have an irresistible vacation plan tailored just for you and your colleagues. Step away from the office and immerse yourselves in breathtaking landscapes that will recharge your spirits.\\n\\nIndulge in mesmerizing vistas, explore hidden gems, and unwind amidst nature's wonders. Our curated package offers a perfect blend of relaxation and adventure, creating unforgettable memories for your team.\\n\\nLimited availability, so don't miss out on this exclusive offer. Reply now for more details and start planning a revitalizing escape from the corporate hustle.\\n\\nRediscover serenity!\\n\\n[Your Name]\"]}\n",
      "          product  gender         profession                        hobby  \\\n",
      "0   piano lessons    male   college students           like to play piano   \n",
      "1  guitar lessons    male   college students           like to play piano   \n",
      "2  vacation plans    male   college students                like swimming   \n",
      "3  vacation plans  female   college students  like to look at the scenery   \n",
      "4  vacation plans  female  company employees  like to look at the scenery   \n",
      "\n",
      "                                               email  \n",
      "0  Subject: Elevate Your Piano Skills - Exclusive...  \n",
      "1  Subject: Expand Your Musical Horizons - Exclus...  \n",
      "2  Subject: Dive into the Perfect Getaway - Exclu...  \n",
      "3  Subject: Escape to Enchanting Landscapes - Exc...  \n",
      "4  Subject: Escape the Daily Grind - Exclusive Va...  \n",
      "(30, 5)\n"
     ]
    }
   ],
   "source": [
    "print(dataset)\n",
    "print(dataset['train'][:5])\n",
    "df = dataset['train'].to_pandas()\n",
    "print(df.head())\n",
    "print(df.shape)"
   ]
  },
  {
   "cell_type": "code",
   "execution_count": 16,
   "metadata": {},
   "outputs": [
    {
     "name": "stderr",
     "output_type": "stream",
     "text": [
      "Map (num_proc=4): 100%|██████████| 30/30 [00:00<00:00, 88.11 examples/s]\n"
     ]
    }
   ],
   "source": [
    "from transformers import AutoTokenizer\n",
    "\n",
    "model_checkpoint = \"postbot/distilgpt2-emailgen\"\n",
    "tokenizer = AutoTokenizer.from_pretrained(model_checkpoint, use_fast=True)\n",
    "\n",
    "def tokenize_function(examples):\n",
    "    # Concatenate the text fields into a single string for each example\n",
    "    features = [f\"{prod} {gen} {prof} {hob}\" \n",
    "                for prod, gen, prof, hob in zip(examples[\"product\"], \n",
    "                                                examples[\"gender\"], \n",
    "                                                examples[\"profession\"], \n",
    "                                                examples[\"hobby\"])]\n",
    "    # Tokenize the concatenated string\n",
    "    return tokenizer(features, truncation=True, padding=\"max_length\", max_length=512)\n",
    "\n",
    "# Assuming 'dataset' is a Hugging Face 'datasets' object\n",
    "tokenized_datasets = dataset.map(tokenize_function, batched=True, num_proc=4)\n"
   ]
  }
 ],
 "metadata": {
  "kernelspec": {
   "display_name": "ml-env",
   "language": "python",
   "name": "python3"
  },
  "language_info": {
   "codemirror_mode": {
    "name": "ipython",
    "version": 3
   },
   "file_extension": ".py",
   "mimetype": "text/x-python",
   "name": "python",
   "nbconvert_exporter": "python",
   "pygments_lexer": "ipython3",
   "version": "3.8.18"
  }
 },
 "nbformat": 4,
 "nbformat_minor": 2
}
