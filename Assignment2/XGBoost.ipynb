{
 "cells": [
  {
   "cell_type": "code",
   "execution_count": 1,
   "metadata": {},
   "outputs": [
    {
     "name": "stdout",
     "output_type": "stream",
     "text": [
      "Model accuracy: 31.76%\n"
     ]
    }
   ],
   "source": [
    "import umap.umap_ as umap\n",
    "\n",
    "\n",
    "# Create an instance of the UMAP model\n",
    "reducer = umap.UMAP(random_state=42, n_neighbors=15, min_dist=0.1,  n_components=2, metric='euclidean')\n",
    "\n",
    "# Fit the model to your TF-IDF data and transform the data\n",
    "reduced_data_umap = reducer.fit_transform(original_data)"
   ]
  },
  {
   "cell_type": "code",
   "execution_count": null,
   "metadata": {},
   "outputs": [],
   "source": [
    "import umap.umap_ as umap\n",
    "\n",
    "\n",
    "# Create an instance of the UMAP model\n",
    "reducer = umap.UMAP(random_state=42, n_neighbors=15, min_dist=0.1,  n_components=2, metric='euclidean')\n",
    "\n",
    "# Fit the model to your TF-IDF data and transform the data\n",
    "reduced_data_umap = reducer.fit_transform(original_data)"
   ]
  },
  {
   "cell_type": "markdown",
   "metadata": {},
   "source": [
    "### XGBoost\n",
    "According to [XGBoost: Introduction to XGBoost Algorithm in Machine Learning](https://www.analyticsvidhya.com/blog/2018/09/an-end-to-end-guide-to-understand-the-math-behind-xgboost), it is a machine learning algorithm, utilizes the gradient boosting frameowrk, and would combine multiple individual models, often decision trees, to build an ensemble learning model."
   ]
  },
  {
   "cell_type": "code",
   "execution_count": null,
   "metadata": {},
   "outputs": [],
   "source": [
    "import numpy as np\n",
    "from sklearn.preprocessing import LabelEncoder\n",
    "from sklearn.model_selection import train_test_split\n",
    "import xgboost as xgb\n",
    "\n",
    "def handle_xgboost(X, y):\n",
    "\tX_train, X_test, y_train, y_test = train_test_split(X, y, test_size=0.2, random_state=42)\n",
    "\tX_train_csr = csr_matrix(X_train)\n",
    "\tX_test_csr = csr_matrix(X_test)\n",
    "\n",
    "\tdtrain = xgb.DMatrix(X_train_csr, label=y_train)\n",
    "\tdtest = xgb.DMatrix(X_test_csr, label=y_test)\n",
    "\n",
    "\t# Define your model parameters\n",
    "\tparams = {\n",
    "\t    'objective': 'multi:softmax',  # Use 'binary:logistic' if you have two classes\n",
    "\t    'num_class': len(np.unique(y)),  # Needed for multi-class classification\n",
    "\t\t\t'tree_method': 'hist',  # Faster histogram optimized algorithm\n",
    "\t}\n",
    "\tevals = [(dtest, 'eval')]\n",
    "\tnum_boost_round = 1000  # Set higher for early stopping\n",
    "\tearly_stopping_rounds = 10\n",
    "\n",
    "\t# Train the model\n",
    "\tbst = xgb.train(params, dtrain, num_boost_round, evals=evals, early_stopping_rounds=early_stopping_rounds)\n",
    "\n",
    "\t# Make predictions\n",
    "\tpredictions = bst.predict(dtest)\n",
    "\treturn y_test, predictions\n",
    "\n",
    "from sklearn.metrics import accuracy_score, precision_score, recall_score, f1_score\n",
    "\n",
    "def print_precision(y_test, p):\n",
    "\t# Accuracy\n",
    "\taccuracy = accuracy_score(y_test, p)\n",
    "\tprint(f\"Accuracy: {accuracy}\")\n",
    "\n",
    "\t# Precision\n",
    "\tprecision = precision_score(y_test, p, average='macro')\n",
    "\tprint(f\"Precision: {precision}\")\n",
    "\n",
    "\t# Recall\n",
    "\trecall = recall_score(y_test, p, average='macro')\n",
    "\tprint(f\"Recall: {recall}\")\n",
    "\n",
    "\t# F1 Score\n",
    "\tf1 = f1_score(y_test, p, average='macro')\n",
    "\tprint(f\"F1 Score: {f1}\")\n",
    "\n"
   ]
  },
  {
   "cell_type": "markdown",
   "metadata": {},
   "source": [
    "\n",
    "During my processing period, the key difference is its effectiveness. It is too slow to run on the whole dataset, but also the parameter tuning. With default parameter and a tfidf dataset, the XGBoost model was running 74 minutes in my computer, but still not end. \n",
    "\n",
    "Think of previous assignment, dimension reduction maybe a good way. So we tried the PCA analysis. After running the model with a 100 features PCA result, we get the precision: "
   ]
  },
  {
   "cell_type": "code",
   "execution_count": null,
   "metadata": {},
   "outputs": [],
   "source": [
    "y_pca, p_pca = handle_xgboost(reduced_data, y)\n",
    "print_precision(y_pca, p_pca)"
   ]
  },
  {
   "cell_type": "markdown",
   "metadata": {},
   "source": [
    "It seems not so well but can be updated, and it takes 3.5 minutes. But I hope to reduce more and make it within 1 minutes.\n",
    "\n",
    "So I tried to reduce the train model size. With a 0.98 test size, which means only use 0.02, nearly 4,000 rows to train the model, the time is only 14s. However, the result is \n",
    "\n",
    "```\n",
    "Accuracy: 0.4427404705435455\n",
    "Precision: 0.41335755375629696\n",
    "Recall: 0.25124844089816784\n",
    "F1 Score: 0.2880839218375771\n",
    "```\n",
    "\n",
    "It is not so good. I think the amount is too less and make the whole model underfit. \n",
    "\n",
    "\n",
    "Then we tried the UMAP to reduce the whole dataset to 2d. The efficiency improves greatly, we only need 17s to run the whole dataset. However, the precision is not so good: "
   ]
  },
  {
   "cell_type": "code",
   "execution_count": null,
   "metadata": {},
   "outputs": [],
   "source": [
    "\n",
    "y_umap, p_umap = handle_xgboost(reduced_data_umap, y)\n",
    "print_precision(y_umap, p_umap)\n"
   ]
  },
  {
   "cell_type": "markdown",
   "metadata": {},
   "source": [
    "It is worse than only use 2% data. Tthe UMAP ignores too many features.\n",
    "\n",
    "After studying, I found that the stratify sample may be a good way to find a good parameter. And for avoiding the computing burdern of all parameter combination, we decided only consider this 2 kinds of parameters: `max_depth` and `reg_lambda`.\n",
    "\n",
    "```\n",
    "param_grid = {\n",
    "    'max_depth': [3, 5, 7],\n",
    "    'reg_lambda': [1, 10]\n",
    "}\n",
    "```\n"
   ]
  },
  {
   "cell_type": "code",
   "execution_count": null,
   "metadata": {},
   "outputs": [],
   "source": [
    "# from sklearn.model_selection import train_test_split, GridSearchCV\n",
    "# from xgboost import XGBClassifier\n",
    "\n",
    "# # Assuming X, y represent your full dataset\n",
    "# # Select a random subset\n",
    "# X_subset, X_val, y_subset, y_val = train_test_split(reduced_data, y, test_size=0.9, stratify=y, random_state=42)\n",
    "\n",
    "# # Define your model and parameter grid\n",
    "# model = XGBClassifier()\n",
    "# param_grid = {\n",
    "#     'max_depth': [3, 5, 7],\n",
    "#     'reg_lambda': [1, 10],\n",
    "# }\n",
    "\n",
    "# # Perform grid search on the subset\n",
    "# grid_search = GridSearchCV(model, param_grid, cv=3, scoring='accuracy', n_jobs=-1)\n",
    "# grid_search.fit(X_subset, y_subset)\n",
    "\n",
    "# # Sorting the results by the mean test score in descending order\n",
    "# results_df = pd.DataFrame(grid_search.cv_results_)\n",
    "# sorted_results_df = results_df.sort_values(by='rank_test_score')\n",
    "\n",
    "# print(sorted_results_df)\n"
   ]
  },
  {
   "cell_type": "markdown",
   "metadata": {},
   "source": [
    "After 1 hour running, We found max_depth =7 and reg_lambda = 10 is the best, but the time is so long that I cannot run other parameters. We would run XGBoost model with this parameter."
   ]
  },
  {
   "cell_type": "code",
   "execution_count": null,
   "metadata": {},
   "outputs": [],
   "source": [
    "X = reduced_data\n",
    "X_train, X_test, y_train, y_test = train_test_split(X, y, test_size=0.2, random_state=42)\n",
    "X_train_csr = csr_matrix(X_train)\n",
    "X_test_csr = csr_matrix(X_test)\n",
    "\n",
    "dtrain = xgb.DMatrix(X_train_csr, label=y_train)\n",
    "dtest = xgb.DMatrix(X_test_csr, label=y_test)\n",
    "\n",
    "# Define your model parameters\n",
    "params = {\n",
    "    'objective': 'multi:softprob',  # Use 'binary:logistic' if you have two classes\n",
    "    'num_class': len(np.unique(y)),  # Needed for multi-class classification\n",
    "\t\t'tree_method': 'hist',  # Faster histogram optimized algorithm\n",
    "\t\t'max_depth': 7,\n",
    "\t\t'reg_lambda': 10\n",
    "}\n",
    "evals = [(dtest, 'eval')]\n",
    "num_boost_round = 1000  # Set higher for early stopping\n",
    "early_stopping_rounds = 10\n",
    "\n",
    "# Train the model\n",
    "bst = xgb.train(params, dtrain, num_boost_round, evals=evals, early_stopping_rounds=early_stopping_rounds)\n",
    "\n",
    "# Make predictions\n",
    "predictions = bst.predict(dtest)"
   ]
  },
  {
   "cell_type": "markdown",
   "metadata": {},
   "source": [
    "\n",
    "With above XGBoost model, we get the result, confusion matrix and ROC curves."
   ]
  },
  {
   "cell_type": "code",
   "execution_count": null,
   "metadata": {},
   "outputs": [],
   "source": [
    "import numpy as np\n",
    "\n",
    "# Convert probability predictions to predicted class labels\n",
    "predicted_labels = np.argmax(predictions, axis=1)\n",
    "print_precision(y_test, predicted_labels)\n",
    "from sklearn.metrics import confusion_matrix\n",
    "import seaborn as sns\n",
    "import matplotlib.pyplot as plt\n",
    "\n",
    "# Assuming y_test contains your true labels\n",
    "true_labels = y_test  # Replace y_test with your actual true labels\n",
    "conf_matrix = confusion_matrix(true_labels, predicted_labels)  # Use predictions_binary or the equivalent for your case\n",
    "\n",
    "plt.figure(figsize=(10, 7))\n",
    "sns.heatmap(conf_matrix, annot=True, fmt='g', cmap='Blues', xticklabels=['Class1', 'Class2'], yticklabels=['Class1', 'Class2'])\n",
    "plt.xlabel('Predicted Labels')\n",
    "plt.ylabel('True Labels')\n",
    "plt.title('Confusion Matrix')\n",
    "plt.show()\n",
    "print(conf_matrix)\n",
    "\n",
    "# ROC Curve\n",
    "from sklearn.preprocessing import label_binarize\n",
    "\n",
    "# Assuming you have n_classes classes\n",
    "n_classes = len(np.unique(true_labels))  # Make sure true_labels is your array of true labels\n",
    "\n",
    "true_labels_binarized = label_binarize(true_labels, classes=range(n_classes))\n",
    "from sklearn.metrics import roc_curve, auc\n",
    "\n",
    "fpr = dict()\n",
    "tpr = dict()\n",
    "roc_auc = dict()\n",
    "\n",
    "for i in range(n_classes):\n",
    "    fpr[i], tpr[i], _ = roc_curve(true_labels_binarized[:, i], predictions[:, i])\n",
    "    roc_auc[i] = auc(fpr[i], tpr[i])\n",
    "plt.figure(figsize=(7, 7))\n",
    "colors = ['blue', 'red', 'green', 'purple', 'orange']\n",
    "for i, color in zip(range(n_classes), colors):\n",
    "    plt.plot(fpr[i], tpr[i], color=color, lw=2,\n",
    "             label='ROC curve of class {0} (area = {1:0.2f})'.format(i, roc_auc[i]))\n",
    "\n",
    "plt.plot([0, 1], [0, 1], 'k--', lw=2)\n",
    "plt.xlim([0.0, 1.0])\n",
    "plt.ylim([0.0, 1.05])\n",
    "plt.xlabel('False Positive Rate')\n",
    "plt.ylabel('True Positive Rate')\n",
    "plt.title('Multi-class ROC')\n",
    "plt.legend(loc=\"lower right\")\n",
    "plt.show()"
   ]
  },
  {
   "cell_type": "markdown",
   "metadata": {},
   "source": [
    "It seems work well in ROC curve and confusion matrix, but the accuracy, precision, recall, and f1score are not so good. What I get is the model works well in some classes, but not so good in the precision part."
   ]
  }
 ],
 "metadata": {
  "kernelspec": {
   "display_name": "CS6120",
   "language": "python",
   "name": "python3"
  },
  "language_info": {
   "codemirror_mode": {
    "name": "ipython",
    "version": 3
   },
   "file_extension": ".py",
   "mimetype": "text/x-python",
   "name": "python",
   "nbconvert_exporter": "python",
   "pygments_lexer": "ipython3",
   "version": "3.9.18"
  }
 },
 "nbformat": 4,
 "nbformat_minor": 2
}
