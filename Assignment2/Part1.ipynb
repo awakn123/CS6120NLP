{
 "cells": [
  {
   "cell_type": "markdown",
   "metadata": {},
   "source": [
    "### Part 1: Data Preprocessing:\n",
    "1.1 Load the dataset and perform initial exploration to understand its structure."
   ]
  },
  {
   "cell_type": "code",
   "execution_count": 3,
   "metadata": {},
   "outputs": [
    {
     "name": "stdout",
     "output_type": "stream",
     "text": [
      "   Unnamed: 0                                           headline   category  \\\n",
      "0           0  Over 4 Million Americans Roll Up Sleeves For O...  U.S. NEWS   \n",
      "1           1  American Airlines Flyer Charged, Banned For Li...  U.S. NEWS   \n",
      "2           2  23 Of The Funniest Tweets About Cats And Dogs ...     COMEDY   \n",
      "3           3  The Funniest Tweets From Parents This Week (Se...  PARENTING   \n",
      "4           4  Woman Who Called Cops On Black Bird-Watcher Lo...  U.S. NEWS   \n",
      "\n",
      "                                   short_description               authors  \\\n",
      "0  Health experts said it is too early to predict...  Carla K. Johnson, AP   \n",
      "1  He was subdued by passengers and crew when he ...        Mary Papenfuss   \n",
      "2  \"Until you have a dog you don't understand wha...         Elyse Wanshel   \n",
      "3  \"Accidentally put grown-up toothpaste on my to...      Caroline Bologna   \n",
      "4  Amy Cooper accused investment firm Franklin Te...        Nina Golgowski   \n",
      "\n",
      "         date  headline_length  short_description_length  \n",
      "0  2022-09-23               76                       154  \n",
      "1  2022-09-23               89                       159  \n",
      "2  2022-09-23               69                        64  \n",
      "3  2022-09-23               56                       159  \n",
      "4  2022-09-22               77                       156  \n"
     ]
    }
   ],
   "source": [
    "import pandas as pd\n",
    "\n",
    "# Read the CSV file\n",
    "df = pd.read_csv('News_Category_Dataset_v3.csv')\n",
    "\n",
    "print(df.head())"
   ]
  },
  {
   "cell_type": "markdown",
   "metadata": {},
   "source": [
    "1.2 Clean the text data, including removing special characters, stopwords, and applying lowercasing."
   ]
  },
  {
   "cell_type": "code",
   "execution_count": 6,
   "metadata": {},
   "outputs": [
    {
     "name": "stderr",
     "output_type": "stream",
     "text": [
      "[nltk_data] Downloading package stopwords to\n",
      "[nltk_data]     C:\\Users\\Yue\\AppData\\Roaming\\nltk_data...\n",
      "[nltk_data]   Package stopwords is already up-to-date!\n"
     ]
    },
    {
     "name": "stdout",
     "output_type": "stream",
     "text": [
      "        Unnamed: 0                                           headline  \\\n",
      "0                0  Over 4 Million Americans Roll Up Sleeves For O...   \n",
      "1                1  American Airlines Flyer Charged, Banned For Li...   \n",
      "2                2  23 Of The Funniest Tweets About Cats And Dogs ...   \n",
      "3                3  The Funniest Tweets From Parents This Week (Se...   \n",
      "4                4  Woman Who Called Cops On Black Bird-Watcher Lo...   \n",
      "...            ...                                                ...   \n",
      "209522      209522  RIM CEO Thorsten Heins' 'Significant' Plans Fo...   \n",
      "209523      209523  Maria Sharapova Stunned By Victoria Azarenka I...   \n",
      "209524      209524  Giants Over Patriots, Jets Over Colts Among  M...   \n",
      "209525      209525  Aldon Smith Arrested: 49ers Linebacker Busted ...   \n",
      "209526      209526  Dwight Howard Rips Teammates After Magic Loss ...   \n",
      "\n",
      "         category                                  short_description  \\\n",
      "0       U.S. NEWS  Health experts said it is too early to predict...   \n",
      "1       U.S. NEWS  He was subdued by passengers and crew when he ...   \n",
      "2          COMEDY  \"Until you have a dog you don't understand wha...   \n",
      "3       PARENTING  \"Accidentally put grown-up toothpaste on my to...   \n",
      "4       U.S. NEWS  Amy Cooper accused investment firm Franklin Te...   \n",
      "...           ...                                                ...   \n",
      "209522       TECH  Verizon Wireless and AT&T are already promotin...   \n",
      "209523     SPORTS  Afterward, Azarenka, more effusive with the pr...   \n",
      "209524     SPORTS  Leading up to Super Bowl XLVI, the most talked...   \n",
      "209525     SPORTS  CORRECTION: An earlier version of this story i...   \n",
      "209526     SPORTS  The five-time all-star center tore into his te...   \n",
      "\n",
      "                     authors        date  headline_length  \\\n",
      "0       Carla K. Johnson, AP  2022-09-23               76   \n",
      "1             Mary Papenfuss  2022-09-23               89   \n",
      "2              Elyse Wanshel  2022-09-23               69   \n",
      "3           Caroline Bologna  2022-09-23               56   \n",
      "4             Nina Golgowski  2022-09-22               77   \n",
      "...                      ...         ...              ...   \n",
      "209522      Reuters, Reuters  2012-01-28               58   \n",
      "209523                   NaN  2012-01-28               69   \n",
      "209524                   NaN  2012-01-28               99   \n",
      "209525                   NaN  2012-01-28               53   \n",
      "209526                   NaN  2012-01-28               56   \n",
      "\n",
      "        short_description_length  \\\n",
      "0                            154   \n",
      "1                            159   \n",
      "2                             64   \n",
      "3                            159   \n",
      "4                            156   \n",
      "...                          ...   \n",
      "209522                       124   \n",
      "209523                       122   \n",
      "209524                       121   \n",
      "209525                       120   \n",
      "209526                       122   \n",
      "\n",
      "                                         cleaned_headline  \\\n",
      "0       4 million americans roll sleeves omicron targe...   \n",
      "1       american airlines flyer charged banned life pu...   \n",
      "2            23 funniest tweets cats dogs week sept 17 23   \n",
      "3                 funniest tweets parents week sept 17 23   \n",
      "4       woman called cops black bird watcher loses law...   \n",
      "...                                                   ...   \n",
      "209522  rim ceo thorsten heins significant plans black...   \n",
      "209523  maria sharapova stunned victoria azarenka aust...   \n",
      "209524  giants patriots jets colts among improbable su...   \n",
      "209525   aldon smith arrested 49ers linebacker busted dui   \n",
      "209526    dwight howard rips teammates magic loss hornets   \n",
      "\n",
      "                                      cleaned_description  \n",
      "0       health experts said early predict whether dema...  \n",
      "1       subdued passengers crew fled back aircraft con...  \n",
      "2                              dog understand could eaten  \n",
      "3       accidentally put grown toothpaste toddler toot...  \n",
      "4       amy cooper accused investment firm franklin te...  \n",
      "...                                                   ...  \n",
      "209522  verizon wireless already promoting lte devices...  \n",
      "209523  afterward azarenka effusive press normal credi...  \n",
      "209524  leading super bowl xlvi talked game could end ...  \n",
      "209525  correction earlier version story incorrectly s...  \n",
      "209526  five time star center tore teammates friday ni...  \n",
      "\n",
      "[209527 rows x 10 columns]\n"
     ]
    }
   ],
   "source": [
    "from nltk.corpus import stopwords\n",
    "import nltk\n",
    "import re\n",
    "nltk.download('stopwords')\n",
    "\n",
    "stop_words = set(stopwords.words('english'))\n",
    "\n",
    "def clean_text(text):\n",
    "    text = str(text)\n",
    "    # lowercase\n",
    "    text = text.lower()\n",
    "    # remove special characters\n",
    "    text = re.sub(r'[^a-zA-Z0-9\\s]', ' ', text)\n",
    "    # remove stopwords\n",
    "    text = ' '.join([word for word in text.split() if word not in stop_words])\n",
    "    return text\n",
    "\n",
    "# clean 'headline' and 'short_description'\n",
    "df['cleaned_headline'] = df['headline'].apply(clean_text)\n",
    "df['cleaned_description'] = df['short_description'].apply(clean_text)\n",
    "\n",
    "print(df)"
   ]
  },
  {
   "cell_type": "markdown",
   "metadata": {},
   "source": [
    "1.3 Perform text tokenization and vectorization using TF-IDF."
   ]
  },
  {
   "cell_type": "code",
   "execution_count": 10,
   "metadata": {},
   "outputs": [],
   "source": [
    "from sklearn.feature_extraction.text import TfidfVectorizer\n",
    "\n",
    "# combine the headline and short description\n",
    "df['text'] = df['cleaned_headline'] + df['cleaned_description']\n",
    "tfidf = TfidfVectorizer()\n",
    "text_tfidf = tfidf.fit_transform(df['text'])"
   ]
  },
  {
   "cell_type": "markdown",
   "metadata": {},
   "source": [
    "1.4 Extract and analyze different features from the text that might be useful for classification, such as word count,\n",
    "sentence length, n-grams, etc"
   ]
  },
  {
   "cell_type": "code",
   "execution_count": 11,
   "metadata": {},
   "outputs": [
    {
     "name": "stdout",
     "output_type": "stream",
     "text": [
      "['00' '000' '0000' ... 'zzzsrather' 'zzzssnooze' 'zzzzzs']\n"
     ]
    }
   ],
   "source": [
    "# word count\n",
    "df['word_count'] = df['text'].apply(lambda x: len(x.split()))\n",
    "\n",
    "# sentence length\n",
    "df['sentence_length'] = df['text'].apply(len)\n",
    "\n",
    "# n-grams\n",
    "tfidf_vectorizer = TfidfVectorizer(ngram_range=(1, 4))\n",
    "tfidf_matrix = tfidf_vectorizer.fit_transform(df['text'])\n",
    "feature_names = tfidf.get_feature_names_out()\n",
    "print(feature_names)\n"
   ]
  }
 ],
 "metadata": {
  "kernelspec": {
   "display_name": "Python 3",
   "language": "python",
   "name": "python3"
  },
  "language_info": {
   "codemirror_mode": {
    "name": "ipython",
    "version": 3
   },
   "file_extension": ".py",
   "mimetype": "text/x-python",
   "name": "python",
   "nbconvert_exporter": "python",
   "pygments_lexer": "ipython3",
   "version": "3.10.11"
  }
 },
 "nbformat": 4,
 "nbformat_minor": 2
}
