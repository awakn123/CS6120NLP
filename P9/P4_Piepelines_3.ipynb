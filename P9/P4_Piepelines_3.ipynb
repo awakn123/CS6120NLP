{
 "cells": [
  {
   "cell_type": "markdown",
   "metadata": {},
   "source": [
    "## Topic Modeling: zero-shot classification"
   ]
  },
  {
   "cell_type": "code",
   "execution_count": 3,
   "metadata": {},
   "outputs": [
    {
     "name": "stderr",
     "output_type": "stream",
     "text": [
      "/Users/caoyun/miniconda3/envs/ml-env/lib/python3.8/site-packages/torch/utils/data/dataloader.py:643: UserWarning: Length of IterableDataset <transformers.pipelines.pt_utils.PipelineChunkIterator object at 0x7fe3c3c43310> was reported to be 2 (when accessing len(dataloader)), but 3 samples have been fetched. \n",
      "  warnings.warn(warn_msg)\n",
      "/Users/caoyun/miniconda3/envs/ml-env/lib/python3.8/site-packages/torch/utils/data/dataloader.py:643: UserWarning: Length of IterableDataset <transformers.pipelines.pt_utils.PipelineChunkIterator object at 0x7fe3c3c43310> was reported to be 2 (when accessing len(dataloader)), but 4 samples have been fetched. \n",
      "  warnings.warn(warn_msg)\n",
      "/Users/caoyun/miniconda3/envs/ml-env/lib/python3.8/site-packages/torch/utils/data/dataloader.py:643: UserWarning: Length of IterableDataset <transformers.pipelines.pt_utils.PipelineChunkIterator object at 0x7fe3c3c43310> was reported to be 2 (when accessing len(dataloader)), but 5 samples have been fetched. \n",
      "  warnings.warn(warn_msg)\n",
      "/Users/caoyun/miniconda3/envs/ml-env/lib/python3.8/site-packages/torch/utils/data/dataloader.py:643: UserWarning: Length of IterableDataset <transformers.pipelines.pt_utils.PipelineChunkIterator object at 0x7fe3c3c43310> was reported to be 2 (when accessing len(dataloader)), but 6 samples have been fetched. \n",
      "  warnings.warn(warn_msg)\n"
     ]
    },
    {
     "data": {
      "text/html": [
       "<div>\n",
       "<style scoped>\n",
       "    .dataframe tbody tr th:only-of-type {\n",
       "        vertical-align: middle;\n",
       "    }\n",
       "\n",
       "    .dataframe tbody tr th {\n",
       "        vertical-align: top;\n",
       "    }\n",
       "\n",
       "    .dataframe thead th {\n",
       "        text-align: right;\n",
       "    }\n",
       "</style>\n",
       "<table border=\"1\" class=\"dataframe\">\n",
       "  <thead>\n",
       "    <tr style=\"text-align: right;\">\n",
       "      <th></th>\n",
       "      <th>sequence</th>\n",
       "      <th>labels</th>\n",
       "      <th>scores</th>\n",
       "      <th>text</th>\n",
       "    </tr>\n",
       "  </thead>\n",
       "  <tbody>\n",
       "    <tr>\n",
       "      <th>0</th>\n",
       "      <td>Generate AI doesn't maek sense</td>\n",
       "      <td>[sad, angry, happy]</td>\n",
       "      <td>[0.7495173811912537, 0.2182769477367401, 0.032...</td>\n",
       "      <td>Generate AI doesn't maek sense</td>\n",
       "    </tr>\n",
       "    <tr>\n",
       "      <th>1</th>\n",
       "      <td>Find a jobr is too hard.</td>\n",
       "      <td>[sad, angry, happy]</td>\n",
       "      <td>[0.8526198267936707, 0.11205657571554184, 0.03...</td>\n",
       "      <td>Find a jobr is too hard.</td>\n",
       "    </tr>\n",
       "  </tbody>\n",
       "</table>\n",
       "</div>"
      ],
      "text/plain": [
       "                         sequence               labels  \\\n",
       "0  Generate AI doesn't maek sense  [sad, angry, happy]   \n",
       "1        Find a jobr is too hard.  [sad, angry, happy]   \n",
       "\n",
       "                                              scores  \\\n",
       "0  [0.7495173811912537, 0.2182769477367401, 0.032...   \n",
       "1  [0.8526198267936707, 0.11205657571554184, 0.03...   \n",
       "\n",
       "                             text  \n",
       "0  Generate AI doesn't maek sense  \n",
       "1        Find a jobr is too hard.  "
      ]
     },
     "execution_count": 3,
     "metadata": {},
     "output_type": "execute_result"
    }
   ],
   "source": [
    "# --------------------\n",
    "# Import pipeline\n",
    "# --------------------\n",
    "from transformers import pipeline\n",
    "import pandas as pd\n",
    "\n",
    "# text1 = [\"this a non sentence. I am not sure what to do with it.\", \"I am happy to be here\"]\n",
    "text1 = [\"Generate AI doesn't maek sense\", \"Find a jobr is too hard.\"]\n",
    "\n",
    "\n",
    "# zero shot clasification for text1\n",
    "zero_shot_pipeline = pipeline(task=\"zero-shot-classification\", model = \"facebook/bart-large-mnli\")    \n",
    "\n",
    "candidate_labels = [\"sad\", \"happy\", \"angry\"]\n",
    "\n",
    "zeroshot = zero_shot_pipeline(text1, candidate_labels)\n",
    "\n",
    "# ----------------------------------------------------------------------------------------------------\n",
    "# DF including the text, labels and scores for each label\n",
    "# ----------------------------------------------------------------------------------------------------\n",
    "df_4 = pd.DataFrame(zeroshot)\n",
    "df_4[\"text\"] = text1\n",
    "df_4\n",
    "\n",
    "\n"
   ]
  },
  {
   "cell_type": "code",
   "execution_count": 4,
   "metadata": {},
   "outputs": [
    {
     "data": {
      "text/html": [
       "<div>\n",
       "<style scoped>\n",
       "    .dataframe tbody tr th:only-of-type {\n",
       "        vertical-align: middle;\n",
       "    }\n",
       "\n",
       "    .dataframe tbody tr th {\n",
       "        vertical-align: top;\n",
       "    }\n",
       "\n",
       "    .dataframe thead th {\n",
       "        text-align: right;\n",
       "    }\n",
       "</style>\n",
       "<table border=\"1\" class=\"dataframe\">\n",
       "  <thead>\n",
       "    <tr style=\"text-align: right;\">\n",
       "      <th></th>\n",
       "      <th>text</th>\n",
       "      <th>sad</th>\n",
       "      <th>happy</th>\n",
       "      <th>angry</th>\n",
       "    </tr>\n",
       "  </thead>\n",
       "  <tbody>\n",
       "    <tr>\n",
       "      <th>0</th>\n",
       "      <td>Generate AI doesn't maek sense</td>\n",
       "      <td>0.749517</td>\n",
       "      <td>0.218277</td>\n",
       "      <td>0.032206</td>\n",
       "    </tr>\n",
       "    <tr>\n",
       "      <th>1</th>\n",
       "      <td>Find a jobr is too hard.</td>\n",
       "      <td>0.852620</td>\n",
       "      <td>0.112057</td>\n",
       "      <td>0.035324</td>\n",
       "    </tr>\n",
       "  </tbody>\n",
       "</table>\n",
       "</div>"
      ],
      "text/plain": [
       "                             text       sad     happy     angry\n",
       "0  Generate AI doesn't maek sense  0.749517  0.218277  0.032206\n",
       "1        Find a jobr is too hard.  0.852620  0.112057  0.035324"
      ]
     },
     "execution_count": 4,
     "metadata": {},
     "output_type": "execute_result"
    }
   ],
   "source": [
    "# convert labels to separate columns and fill in the scores as values. \n",
    "\n",
    "df_4 = df_4.set_index(\"text\")\n",
    "df_4 = df_4[\"scores\"].apply(pd.Series)\n",
    "df_4.reset_index(inplace=True)\n",
    "\n",
    "# label columns\n",
    "df_4.columns = [\"text\", \"sad\", \"happy\", \"angry\"]\n",
    "df_4"
   ]
  },
  {
   "cell_type": "markdown",
   "metadata": {},
   "source": [
    "## Use zero-shot learning on the reviews sample and test the accuracy of the predicted labels"
   ]
  },
  {
   "cell_type": "markdown",
   "metadata": {},
   "source": []
  }
 ],
 "metadata": {
  "kernelspec": {
   "display_name": "base",
   "language": "python",
   "name": "python3"
  },
  "language_info": {
   "codemirror_mode": {
    "name": "ipython",
    "version": 3
   },
   "file_extension": ".py",
   "mimetype": "text/x-python",
   "name": "python",
   "nbconvert_exporter": "python",
   "pygments_lexer": "ipython3",
   "version": "3.8.18"
  }
 },
 "nbformat": 4,
 "nbformat_minor": 2
}
