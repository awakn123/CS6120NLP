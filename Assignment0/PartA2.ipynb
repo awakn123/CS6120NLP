{
 "cells": [
  {
   "cell_type": "markdown",
   "id": "4f4a002b",
   "metadata": {},
   "source": [
    "First we need to read the csv file."
   ]
  },
  {
   "cell_type": "code",
   "execution_count": 3,
   "id": "dd3438bb-c089-4943-86ac-02b2ffe1aa20",
   "metadata": {},
   "outputs": [
    {
     "name": "stdout",
     "output_type": "stream",
     "text": [
      "File read successfully!\n",
      "   first_name  last_name  company_name  address  city  county  state  phone1  \\\n",
      "0         NaN        NaN           NaN      NaN   NaN     NaN    NaN     NaN   \n",
      "1         NaN        NaN           NaN      NaN   NaN     NaN    NaN     NaN   \n",
      "2         NaN        NaN           NaN      NaN   NaN     NaN    NaN     NaN   \n",
      "3         NaN        NaN           NaN      NaN   NaN     NaN    NaN     NaN   \n",
      "4         NaN        NaN           NaN      NaN   NaN     NaN    NaN     NaN   \n",
      "\n",
      "   phone2  email                                        Description  \n",
      "0     NaN    NaN  James Butt: An avid historian, James Butt from...  \n",
      "1     NaN    NaN  Josephine Darakjy: Amidst the jazz-filled stre...  \n",
      "2     NaN    NaN  Art Venere: Art Venere, a nature enthusiast at...  \n",
      "3     NaN    NaN  Lenna Paprocki: While renovating their office ...  \n",
      "4     NaN    NaN  Donette Foller: In the tech hub of Hamilton, D...  \n"
     ]
    }
   ],
   "source": [
    "import pandas as pd\n",
    "import re\n",
    "\n",
    "def read_csv_file(file_path):\n",
    "    \"\"\"\n",
    "    This function reads a CSV file and returns a pandas DataFrame.\n",
    "    \n",
    "    Parameters:\n",
    "    file_path (str): The path to the CSV file\n",
    "\n",
    "    Returns:\n",
    "    pd.DataFrame: The data from the CSV file\n",
    "    \"\"\"\n",
    "    try:\n",
    "        df = pd.read_csv(file_path)\n",
    "        print(\"File read successfully!\")\n",
    "        return df\n",
    "    except FileNotFoundError:\n",
    "        print(f\"No file found at {file_path}\")\n",
    "    except Exception as e:\n",
    "        print(f\"An error occurred: {e}\")\n",
    "df = read_csv_file('./Assignment 0 Part A.csv')\n",
    "print(df)"
   ]
  },
  {
   "cell_type": "markdown",
   "id": "c142c38f",
   "metadata": {},
   "source": [
    "Second the task is splitting content from the description.\n",
    "We should try to find the total address and then split the city, county, state from it."
   ]
  },
  {
   "cell_type": "code",
   "execution_count": 33,
   "id": "efdd5404-d27f-45d7-8914-77ddf90166f2",
   "metadata": {},
   "outputs": [
    {
     "name": "stdout",
     "output_type": "stream",
     "text": [
      "  first_name last_name company_name              address        city  \\\n",
      "0    Unknown   Unknown      Unknown   6649 N Blue Gum St      Benton   \n",
      "1    Unknown   Unknown      Unknown  4 B Blue Ridge Blvd    Brighton   \n",
      "2    Unknown   Unknown      Unknown                 None  Bridgeport   \n",
      "3    Unknown   Unknown      Unknown          639 Main St       Feltz   \n",
      "4    Unknown   Unknown      Unknown         34 Center St    Hamilton   \n",
      "\n",
      "       county state        phone1        phone2  \\\n",
      "0     Orleans    LA  504-621-8927  504-845-1427   \n",
      "1  Livingston    MI  810-292-9388  810-374-9840   \n",
      "2  Gloucester  None  856-636-8749  856-264-4130   \n",
      "3        None    AK  907-385-4412  907-921-2010   \n",
      "4        None  None       Unknown       Unknown   \n",
      "\n",
      "                            email  \\\n",
      "0                 jbutt@gmail.com   \n",
      "1  josephine_darakjy@darakjy.org.   \n",
      "2                         Unknown   \n",
      "3          lpaprocki@hotmail.com,   \n",
      "4                         Unknown   \n",
      "\n",
      "                                         Description  \n",
      "0  James Butt: An avid historian, James Butt from...  \n",
      "1  Josephine Darakjy: Amidst the jazz-filled stre...  \n",
      "2  Art Venere: Art Venere, a nature enthusiast at...  \n",
      "3  Lenna Paprocki: While renovating their office ...  \n",
      "4  Donette Foller: In the tech hub of Hamilton, D...  \n"
     ]
    }
   ],
   "source": [
    "def process_data(df):\n",
    "    \"\"\"\n",
    "    This function processes each row in the DataFrame.\n",
    "    \n",
    "    Parameters:\n",
    "    df (pd.DataFrame): The DataFrame to process\n",
    "    \"\"\"\n",
    "\n",
    "    # Fill NaN values with a default value\n",
    "    df.fillna('Unknown', inplace=True)\n",
    "    \n",
    "    # Convert columns to string type\n",
    "    df[['first_name', 'last_name', 'company_name', 'address', 'city', 'county', 'state', 'phone1', 'phone2', 'email']] = df[['first_name', 'last_name', 'company_name', 'address', 'city', 'county', 'state', 'phone1', 'phone2', 'email']].astype(str)\n",
    "\n",
    "    for i, row in df.iterrows():\n",
    "        desc = row['Description']\n",
    "        \n",
    "        df.at[i, 'address'] = extractAddress(desc)\n",
    "        df.at[i, 'city'] = extractCity(desc)\n",
    "        df.at[i, 'county'] = extractCounty(desc)\n",
    "        df.at[i, 'state'] = extractState(desc)\n",
    "\n",
    "def extractAddress(desc):\n",
    "    result = re.search(r'\\d+\\s[^,]+(St|Blvd|Rd|Ave|Ln|Dr)',desc)\n",
    "    return result.group() if result else \"None\"\n",
    "\n",
    "def extractCity(desc):\n",
    "    result = re.findall(r'\\b(?:of|from|in)\\s+([A-Z][a-z]+)\\b', desc)\n",
    "    return result[0] if result else \"None\"\n",
    "\n",
    "def extractCounty(desc):\n",
    "    result = re.findall(r'\\b[A-Z][a-z]+(?=\\sCounty)\\b', desc)\n",
    "    return result[0] if result else \"None\"\n",
    "\n",
    "def extractState(desc):\n",
    "    result = re.findall(r'\\b[A-Z]{2}\\b',desc)\n",
    "    return result[0] if result else \"None\"\n",
    "\n",
    "process_data(df)\n",
    "print(df)"
   ]
  },
  {
   "cell_type": "code",
   "execution_count": null,
   "id": "20a2f6ed",
   "metadata": {},
   "outputs": [],
   "source": []
  }
 ],
 "metadata": {
  "kernelspec": {
   "display_name": "Python 3 (ipykernel)",
   "language": "python",
   "name": "python3"
  },
  "language_info": {
   "codemirror_mode": {
    "name": "ipython",
    "version": 3
   },
   "file_extension": ".py",
   "mimetype": "text/x-python",
   "name": "python",
   "nbconvert_exporter": "python",
   "pygments_lexer": "ipython3",
   "version": "3.9.18"
  }
 },
 "nbformat": 4,
 "nbformat_minor": 5
}
