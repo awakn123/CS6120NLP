{
 "cells": [
  {
   "cell_type": "markdown",
   "id": "18838378",
   "metadata": {},
   "source": [
    "Read 5 books into the program."
   ]
  },
  {
   "cell_type": "code",
   "execution_count": 5,
   "id": "efdd5404-d27f-45d7-8914-77ddf90166f2",
   "metadata": {},
   "outputs": [],
   "source": [
    "import pandas as pd\n",
    "import re\n",
    "\n",
    "# Create a list of book filenames\n",
    "book_filenames = ['./vol1.txt', './vol2.txt', './vol3.txt', './vol4.txt', './vol5.txt']\n",
    "\n",
    "# Create a dataframe with the counts\n",
    "df = pd.DataFrame({'Book': book_filenames})\n"
   ]
  },
  {
   "cell_type": "code",
   "execution_count": 6,
   "id": "9999bac6",
   "metadata": {},
   "outputs": [
    {
     "name": "stdout",
     "output_type": "stream",
     "text": [
      "         Book  Heart disease  Cancer  Septicemia  Liver Disease  Hypertension  \\\n",
      "0  ./vol1.txt              4      97           0            231             0   \n",
      "1  ./vol2.txt             29    1335           0           1469             0   \n",
      "2  ./vol3.txt             70     224           0            187             0   \n",
      "3  ./vol4.txt             16     116           0            117             0   \n",
      "4  ./vol5.txt             10      41           0            138             0   \n",
      "\n",
      "   Parkinson's Disease  Chronic Lower Respiratory Disease  Accidents/Injuries  \\\n",
      "0                    0                                  0                  36   \n",
      "1                    0                                  0                  55   \n",
      "2                    0                                  0                  79   \n",
      "3                    0                                  0                  56   \n",
      "4                    3                                  0                 172   \n",
      "\n",
      "   Osteoporosis  Asthma  \n",
      "0             0       6  \n",
      "1             1      10  \n",
      "2             0     383  \n",
      "3             0       1  \n",
      "4             1      15  \n"
     ]
    }
   ],
   "source": [
    "# Read each book and count occurrences of \"heart disease\" and \"cancer\" using regular expressions\n",
    "counts_heart_disease = []\n",
    "counts_cancer = []\n",
    "#9-16\n",
    "counts_septicemia = []\n",
    "counts_liver_disease = []\n",
    "counts_hypertension = []\n",
    "counts_parkinsons_disease = []\n",
    "counts_chronic_lower_respiratory_disease = []\n",
    "counts_accidents_injuries = []\n",
    "counts_osteoporosis = []\n",
    "counts_asthma = []\n",
    "for filename in book_filenames:\n",
    "\twith open(filename, 'r', encoding='utf-8') as file:\n",
    "\t\tbook_text = file.read()\n",
    "\t\tcount_heart_disease = len(re.findall(r'(?i)heart\\s*disease', book_text))\n",
    "\t\tcount_cancer = len(re.findall(r'(?i)cancer', book_text))\n",
    "\t\t#9-16\n",
    "\t\tcount_septicemia = len(re.findall(r'(?i)septicemia', book_text))\n",
    "\t\t#count_liver_disease = len(re.findall(r'(?i)liver\\s*disease', book_text))\n",
    "\t\tcount_liver_disease = len(re.findall(r'(?i)liver', book_text))\n",
    "\t\tcount_hypertension = len(re.findall(r'(?i)hypertension', book_text))\n",
    "\t\t#count_parkinsons_disease = len(re.findall(r'(?i)parkinson\\'s\\s*disease', book_text))\n",
    "\t\tcount_parkinsons_disease = len(re.findall(r'(?i)parkinson', book_text))\n",
    "\t\tcount_chronic_lower_respiratory_disease = len(re.findall(r'(?i)chronic\\s*lower\\s*respiratory\\s*disease', book_text))\n",
    "\t\t#count_accidents_injuries = len(re.findall(r'(?i)accidents\\/injuries', book_text))\n",
    "\t\tcount_accidents_injuries = len(re.findall(r'(?i)accidents', book_text))+len(re.findall(r'(?i)injuries', book_text))\n",
    "\t\tcount_osteoporosis = len(re.findall(r'(?i)osteoporosis', book_text))\n",
    "\t\tcount_asthma = len(re.findall(r'(?i)asthma', book_text))\n",
    "\t\tcounts_heart_disease.append(count_heart_disease)\n",
    "\t\tcounts_cancer.append(count_cancer)\n",
    "\t\tcounts_septicemia.append(count_septicemia)\n",
    "\t\tcounts_liver_disease.append(count_liver_disease)\n",
    "\t\tcounts_hypertension.append(count_hypertension)\n",
    "\t\tcounts_parkinsons_disease.append(count_parkinsons_disease)\n",
    "\t\tcounts_chronic_lower_respiratory_disease.append(count_chronic_lower_respiratory_disease)\n",
    "\t\tcounts_accidents_injuries.append(count_accidents_injuries)\n",
    "\t\tcounts_osteoporosis.append(count_osteoporosis)\n",
    "\t\tcounts_asthma.append(count_asthma)\n",
    "\n",
    "# Create a dataframe with the counts\n",
    "df = pd.DataFrame({\n",
    "    'Book': book_filenames, \n",
    "    'Heart disease': counts_heart_disease, \n",
    "    'Cancer': counts_cancer,\n",
    "    'Septicemia': counts_septicemia,\n",
    "    'Liver Disease': counts_liver_disease,\n",
    "    'Hypertension': counts_hypertension,\n",
    "    'Parkinson\\'s Disease': counts_parkinsons_disease,\n",
    "    'Chronic Lower Respiratory Disease': counts_chronic_lower_respiratory_disease,\n",
    "    'Accidents/Injuries': counts_accidents_injuries,\n",
    "    'Osteoporosis': counts_osteoporosis,\n",
    "    'Asthma': counts_asthma\n",
    "})\n",
    "\n",
    "\n",
    "# Print the dataframe\n",
    "print(df)\n"
   ]
  }
 ],
 "metadata": {
  "kernelspec": {
   "display_name": "Python 3 (ipykernel)",
   "language": "python",
   "name": "python3"
  },
  "language_info": {
   "codemirror_mode": {
    "name": "ipython",
    "version": 3
   },
   "file_extension": ".py",
   "mimetype": "text/x-python",
   "name": "python",
   "nbconvert_exporter": "python",
   "pygments_lexer": "ipython3",
   "version": "3.10.2"
  }
 },
 "nbformat": 4,
 "nbformat_minor": 5
}
