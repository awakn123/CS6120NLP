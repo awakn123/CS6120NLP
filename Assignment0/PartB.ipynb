{
 "cells": [
  {
   "cell_type": "markdown",
   "id": "18838378",
   "metadata": {},
   "source": [
    "Read 5 books into the program."
   ]
  },
  {
   "cell_type": "code",
   "execution_count": 5,
   "id": "efdd5404-d27f-45d7-8914-77ddf90166f2",
   "metadata": {},
   "outputs": [
    {
     "name": "stdout",
     "output_type": "stream",
     "text": [
      "         Book  Count\n",
      "0  ./vol1.txt      1\n",
      "1  ./vol2.txt      4\n",
      "2  ./vol3.txt      1\n",
      "3  ./vol4.txt      2\n",
      "4  ./vol5.txt      1\n"
     ]
    }
   ],
   "source": [
    "import pandas as pd\n",
    "import re\n",
    "\n",
    "# Create a list of book filenames\n",
    "book_filenames = ['./vol1.txt', './vol2.txt', './vol3.txt', './vol4.txt', './vol5.txt']\n",
    "\n",
    "# Create a dataframe with the counts\n",
    "df = pd.DataFrame({'Book': book_filenames})\n"
   ]
  },
  {
   "cell_type": "code",
   "execution_count": 7,
   "id": "9999bac6",
   "metadata": {},
   "outputs": [
    {
     "name": "stdout",
     "output_type": "stream",
     "text": [
      "         Book  Heart disease  Cancer\n",
      "0  ./vol1.txt              4      97\n",
      "1  ./vol2.txt             29    1335\n",
      "2  ./vol3.txt             70     224\n",
      "3  ./vol4.txt             16     116\n",
      "4  ./vol5.txt             10      41\n"
     ]
    }
   ],
   "source": [
    "# Read each book and count occurrences of \"heart disease\" and \"cancer\" using regular expressions\n",
    "counts_heart_disease = []\n",
    "counts_cancer = []\n",
    "for filename in book_filenames:\n",
    "\twith open(filename, 'r', encoding='utf-8') as file:\n",
    "\t\tbook_text = file.read()\n",
    "\t\tcount_heart_disease = len(re.findall(r'(?i)heart\\s*disease', book_text))\n",
    "\t\tcount_cancer = len(re.findall(r'(?i)cancer', book_text))\n",
    "\t\tcounts_heart_disease.append(count_heart_disease)\n",
    "\t\tcounts_cancer.append(count_cancer)\n",
    "\n",
    "# Create a dataframe with the counts\n",
    "df = pd.DataFrame({'Book': book_filenames, 'Heart disease': counts_heart_disease, 'Cancer': counts_cancer})\n",
    "\n",
    "# Print the dataframe\n",
    "print(df)\n"
   ]
  }
 ],
 "metadata": {
  "kernelspec": {
   "display_name": "Python 3 (ipykernel)",
   "language": "python",
   "name": "python3"
  },
  "language_info": {
   "codemirror_mode": {
    "name": "ipython",
    "version": 3
   },
   "file_extension": ".py",
   "mimetype": "text/x-python",
   "name": "python",
   "nbconvert_exporter": "python",
   "pygments_lexer": "ipython3",
   "version": "3.9.18"
  }
 },
 "nbformat": 4,
 "nbformat_minor": 5
}
