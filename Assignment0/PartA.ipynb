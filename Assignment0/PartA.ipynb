{
 "cells": [
  {
   "cell_type": "markdown",
   "metadata": {},
   "source": [
    "\n",
    "This function reads a CSV file and returns a pandas DataFrame.\n",
    "\n",
    "Parameters:\n",
    "file_path (str): The path to the CSV file\n",
    "\n",
    "Returns:\n",
    "pd.DataFrame: The data from the CSV file"
   ]
  },
  {
   "cell_type": "code",
   "execution_count": 2,
   "metadata": {},
   "outputs": [
    {
     "name": "stdout",
     "output_type": "stream",
     "text": [
      "File read successfully!\n",
      "   first_name  last_name  company_name  address  city  county  state  phone1  \\\n",
      "0         NaN        NaN           NaN      NaN   NaN     NaN    NaN     NaN   \n",
      "1         NaN        NaN           NaN      NaN   NaN     NaN    NaN     NaN   \n",
      "2         NaN        NaN           NaN      NaN   NaN     NaN    NaN     NaN   \n",
      "3         NaN        NaN           NaN      NaN   NaN     NaN    NaN     NaN   \n",
      "4         NaN        NaN           NaN      NaN   NaN     NaN    NaN     NaN   \n",
      "\n",
      "   phone2  email                                        Description  \n",
      "0     NaN    NaN  James Butt: An avid historian, James Butt from...  \n",
      "1     NaN    NaN  Josephine Darakjy: Amidst the jazz-filled stre...  \n",
      "2     NaN    NaN  Art Venere: Art Venere, a nature enthusiast at...  \n",
      "3     NaN    NaN  Lenna Paprocki: While renovating their office ...  \n",
      "4     NaN    NaN  Donette Foller: In the tech hub of Hamilton, D...  \n"
     ]
    }
   ],
   "source": [
    "import pandas as pd\n",
    "import re\n",
    "\n",
    "def read_csv_file(file_path):\n",
    "    try:\n",
    "        df = pd.read_csv(file_path)\n",
    "        print(\"File read successfully!\")\n",
    "        return df\n",
    "    except FileNotFoundError:\n",
    "        print(f\"No file found at {file_path}\")\n",
    "    except Exception as e:\n",
    "        print(f\"An error occurred: {e}\")\n",
    "df = read_csv_file('./Assignment 0 Part A.csv')\n",
    "print(df)"
   ]
  },
  {
   "cell_type": "markdown",
   "metadata": {},
   "source": [
    "\n",
    "This function processes each row in the DataFrame. We don't find a way to process them separately, so all of extraction process are placed in this part.\n",
    "    \n",
    "Parameters:\n",
    "df (pd.DataFrame): The DataFrame to process"
   ]
  },
  {
   "cell_type": "code",
   "execution_count": 3,
   "metadata": {},
   "outputs": [
    {
     "name": "stdout",
     "output_type": "stream",
     "text": [
      "  first_name last_name            company_name              address  \\\n",
      "0      James      Butt               John B Jr   6649 N Blue Gum St   \n",
      "1  Josephine   Darakjy           Jeffrey A Esq  4 B Blue Ridge Blvd   \n",
      "2        Art    Venere             James L Cpa                 None   \n",
      "3      Lenna  Paprocki  Feltz Printing Service          639 Main St   \n",
      "4    Donette    Foller     Printing Dimensions         34 Center St   \n",
      "\n",
      "         city      county state        phone1        phone2  \\\n",
      "0      Benton     Orleans    LA  504-621-8927  504-845-1427   \n",
      "1    Brighton  Livingston    MI  810-292-9388  810-374-9840   \n",
      "2  Bridgeport  Gloucester  None  856-636-8749  856-264-4130   \n",
      "3       Feltz        None    AK  907-385-4412  907-921-2010   \n",
      "4    Hamilton        None  None       Unknown       Unknown   \n",
      "\n",
      "                           email  \\\n",
      "0                jbutt@gmail.com   \n",
      "1  josephine_darakjy@darakjy.org   \n",
      "2                        Unknown   \n",
      "3          lpaprocki@hotmail.com   \n",
      "4                        Unknown   \n",
      "\n",
      "                                         Description  \n",
      "0  James Butt: An avid historian, James Butt from...  \n",
      "1  Josephine Darakjy: Amidst the jazz-filled stre...  \n",
      "2  Art Venere: Art Venere, a nature enthusiast at...  \n",
      "3  Lenna Paprocki: While renovating their office ...  \n",
      "4  Donette Foller: In the tech hub of Hamilton, D...  \n"
     ]
    },
    {
     "name": "stderr",
     "output_type": "stream",
     "text": [
      "/var/folders/sr/wj2mw1_s3qv1nywqkp54rk080000gn/T/ipykernel_88998/2083846701.py:4: FutureWarning: Setting an item of incompatible dtype is deprecated and will raise in a future error of pandas. Value 'Unknown' has dtype incompatible with float64, please explicitly cast to a compatible dtype first.\n",
      "  df.fillna('Unknown', inplace=True)\n"
     ]
    }
   ],
   "source": [
    "def extract_data(df):\n",
    "\n",
    "    # Fill NaN values with a default value\n",
    "    df.fillna('Unknown', inplace=True)\n",
    "    \n",
    "    # Convert columns to string type\n",
    "    df[['first_name', 'last_name', 'company_name', 'address', 'city', 'county', 'state', 'phone1', 'phone2', 'email']] = df[['first_name', 'last_name', 'company_name', 'address', 'city', 'county', 'state', 'phone1', 'phone2', 'email']].astype(str)\n",
    "\n",
    "    for i, row in df.iterrows():\n",
    "        desc = row['Description']\n",
    "        # Yue Liu Part\n",
    "        df.at[i, 'first_name'] = extractFirstName(desc)\n",
    "        df.at[i, 'last_name'] = extractLastName(desc)\n",
    "        df.at[i, 'company_name'] = extractCompanyName(desc)\n",
    "        \n",
    "\t\t\t\t# Yun Cao Part\n",
    "        df.at[i, 'address'] = extractAddress(desc)\n",
    "        df.at[i, 'city'] = extractCity(desc)\n",
    "        df.at[i, 'county'] = extractCounty(desc)\n",
    "        df.at[i, 'state'] = extractState(desc)\n",
    "        \n",
    "\t\t\t\t# Nan Chen Part\n",
    "        # Extract phone numbers\n",
    "        phones = re.findall(r'\\d{3}-\\d{3}-\\d{4}', desc)\n",
    "        if phones:\n",
    "            df.at[i, 'phone1'], df.at[i, 'phone2'] = phones\n",
    "        \n",
    "        # Extract email\n",
    "        email_match = re.search(r'(\\b[A-Za-z0-9._%+-]+@[A-Za-z0-9.-]+\\.[A-Z|a-z]{2,}\\b)', desc)\n",
    "        if email_match:\n",
    "            df.at[i, 'email'] = email_match.group(1)\n",
    "\n",
    "# Yue Liu Part\n",
    "def extractFirstName(desc):\n",
    "    result = re.search(r'\\b[A-Z][a-z]*\\b', desc)\n",
    "    return result.group(0) if result else \"Unknown\"\n",
    " \n",
    "def extractLastName(desc):\n",
    "    result = re.search(r' ([A-Z][a-z]+):', desc)\n",
    "    return result.group(1) if result else \"Unknown\"\n",
    " \n",
    "def extractCompanyName(desc):\n",
    "    result = re.search(r'\\b[A-Z]\\w+\\s?\\w+\\s(?:Esq|Cpa|Service|Jr|Dimensions)\\b', desc)\n",
    "    return result.group(0) if result else \"Unknown\"\n",
    "\n",
    "# Yun Cao Part\n",
    "def extractAddress(desc):\n",
    "    result = re.search(r'\\d+\\s[^,]+(St|Blvd|Rd|Ave|Ln|Dr)',desc)\n",
    "    return result.group() if result else \"None\"\n",
    "\n",
    "def extractCity(desc):\n",
    "    result = re.findall(r'\\b(?:of|from|in)\\s+([A-Z][a-z]+)\\b', desc)\n",
    "    return result[0] if result else \"None\"\n",
    "\n",
    "def extractCounty(desc):\n",
    "    result = re.findall(r'\\b[A-Z][a-z]+(?=\\sCounty)\\b', desc)\n",
    "    return result[0] if result else \"None\"\n",
    "\n",
    "def extractState(desc):\n",
    "    result = re.findall(r'\\b[A-Z]{2}\\b',desc)\n",
    "    return result[0] if result else \"None\"\n",
    "\n",
    "extract_data(df)\n",
    "print(df)"
   ]
  }
 ],
 "metadata": {
  "kernelspec": {
   "display_name": "CS6120",
   "language": "python",
   "name": "python3"
  },
  "language_info": {
   "codemirror_mode": {
    "name": "ipython",
    "version": 3
   },
   "file_extension": ".py",
   "mimetype": "text/x-python",
   "name": "python",
   "nbconvert_exporter": "python",
   "pygments_lexer": "ipython3",
   "version": "3.10.2"
  }
 },
 "nbformat": 4,
 "nbformat_minor": 2
}
