{
 "cells": [
  {
   "cell_type": "markdown",
   "id": "5bc7ec48",
   "metadata": {},
   "source": [
    "## <font color = darkblue> The program imports a book already downloaded from Gutenberg project website"
   ]
  },
  {
   "cell_type": "code",
   "execution_count": 1,
   "id": "1bbb9f48",
   "metadata": {},
   "outputs": [
    {
     "name": "stdout",
     "output_type": "stream",
     "text": [
      "/Users/p.mittal/Library/Mobile Documents/com~apple~CloudDocs/Roux/Courses/NLP/Data/Gutenberg\n"
     ]
    }
   ],
   "source": [
    "%cd \"/Users/p.mittal/Library/Mobile Documents/com~apple~CloudDocs/Roux/Courses/NLP/Data/Gutenberg\""
   ]
  },
  {
   "cell_type": "code",
   "execution_count": 3,
   "id": "665b73aa",
   "metadata": {},
   "outputs": [
    {
     "name": "stdout",
     "output_type": "stream",
     "text": [
      "The Project Gutenberg eBook of Pride and Prejudice\n",
      "    \n",
      "This ebook is for the use of anyone anywhere in the United States and\n",
      "most other parts of the world at no cost and with almost no restrictions\n",
      "whatsoever. You may copy it, give it away or re-use it under the terms\n",
      "of the Project Gutenberg License included with this ebook or online\n",
      "at www.gutenberg.org. If you are not located in the United States,\n",
      "you will have to check the laws of the country where you are located\n",
      "before using this eBook.\n",
      "\n",
      "Title: Pride and Prejudice\n",
      "\n",
      "\n",
      "Author: Jane Austen\n",
      "\n",
      "Release date: June 1, 1998 [eBook #1342]\n",
      "                Most recently updated: April 14, 2023\n",
      "\n",
      "Language: English\n",
      "\n",
      "Credits: Chuck Greif and the Online Distributed Proofreading Team at http://www.pgdp.net (This file was produced from images available at The Internet Archive)\n",
      "\n",
      "\n",
      "*** START OF THE PROJECT GUTENBERG EBOOK PRIDE AND PREJUDICE ***\n",
      "\n",
      "\n",
      "\n",
      "\n",
      "                            [Illustration:\n",
      "\n",
      "                             GEORGE ALLEN\n",
      "                 \n"
     ]
    }
   ],
   "source": [
    "# ----------------------------------------\n",
    "# Import necessary library\n",
    "# ----------------------------------------\n",
    "import re\n",
    "\n",
    "# ----------------------------------------\n",
    "# Read the book and bring it in the environment\n",
    "# ----------------------------------------\n",
    "def read_book(filename):\n",
    "    with open(filename, 'r', encoding='utf-8') as file:\n",
    "        return file.read()\n",
    "\n",
    "# ----------------------------------------\n",
    "# # Print the first 1000 characters \n",
    "# ----------------------------------------\n",
    "book_text = read_book('vol1.txt')\n",
    "print(book_text[:1000])  \n"
   ]
  },
  {
   "cell_type": "code",
   "execution_count": 6,
   "id": "6d1204b4",
   "metadata": {},
   "outputs": [
    {
     "name": "stdout",
     "output_type": "stream",
     "text": [
      "Number of occurrences of Elizabeth: 645\n",
      "Sentences containing 'dance': [' But the likeness of quality consists in a great number of\\ncommon subdivisions of quality--demureness, extreme minuteness of touch,\\navoidance of loud tones and glaring effects.', ' Bingley will dance with you at the next\\nball.', ' Bingley had soon made himself acquainted with all the principal\\npeople in the room: he was lively and unreserved, danced every dance,\\nwas angry that the ball closed so early, and talked of giving one\\nhimself at Netherfield.', ' Darcy danced\\nonly once with Mrs.', '\\n\\nElizabeth Bennet had been obliged, by the scarcity of gentlemen, to sit\\ndown for two dances; and during part of that time, Mr.']\n"
     ]
    }
   ],
   "source": [
    "# ----------------------------------------\n",
    "# Find all occurrences of \"Elizabeth\"\n",
    "# ----------------------------------------\n",
    "elizabeth_occurrences = re.findall('Elizabeth', book_text)\n",
    "print(\"Number of occurrences of Elizabeth:\", len(elizabeth_occurrences))\n",
    "\n",
    "# ----------------------------------------\n",
    "# # Replace \"Elizabeth\" with \"Eleanor\"\n",
    "# ----------------------------------------\n",
    "modified_text = re.sub('Elizabeth', 'Eleanor', book_text)\n",
    "\n",
    "# ----------------------------------------\n",
    "# Extract sentences containing the word \"dance\"\n",
    "# ----------------------------------------\n",
    "sentences_with_dance = re.findall(r'([^.]*?dance[^.]*\\.)', book_text, re.IGNORECASE)\n",
    "print(\"Sentences containing 'dance':\", sentences_with_dance[:5])  # Print first 5 sentences\n"
   ]
  },
  {
   "cell_type": "markdown",
   "id": "d2b9dd4a",
   "metadata": {},
   "source": [
    "## Part 2"
   ]
  },
  {
   "cell_type": "code",
   "execution_count": 9,
   "id": "1e4d5ced",
   "metadata": {},
   "outputs": [
    {
     "name": "stdout",
     "output_type": "stream",
     "text": [
      "747\n"
     ]
    }
   ],
   "source": [
    "text = '''In an unu5ual day at the zo0, we observed a total of 33 zebr@s, 44 monkeys, \n",
    "and 56 parrots. The zebras were espec1ally active, which is uncomm0n.\n",
    "The zoo's address is 1234 Wild Ave, Jungle City, AZ 85902. For more information,\n",
    "contact us at (123) 456-7890 or visit our website at www.examplezoo.com.\n",
    "Rememb3r, the zoo is open from 9:00 am to 5:00 pm daily.\n",
    "The entry fee for adults is $20 and for children, it's $15.\n",
    "There was a special event where children learnt to differenti8 between various species,\n",
    "like the African eleph@nt and the Indian rhin0. \n",
    "This event was a huge success, as reported by the loc@l newspaper, \n",
    "Daily Times on 12-08-2023. F0r the next month, the zoo is planning to introduce 2\n",
    "new species of birds and 3 types of reptiles.'''\n",
    "print(len(text)) \n"
   ]
  },
  {
   "cell_type": "markdown",
   "id": "0a1af430",
   "metadata": {},
   "source": [
    "## <font color = darkred> Objectives:\n",
    "    - Remove Typos: Correct common OCR typos like '@' replaced with 'a', '0' replaced with 'o', etc.\n",
    "    - Standardize Numbers: Ensure numbers are consistent (e.g., convert '33' to 'thirty-three').\n",
    "    - Format Phone Numbers: Format phone numbers to a standard format like '123-456-7890'.\n",
    "    - Extract and Remove Zip Codes: Identify and remove zip codes from the text.\n",
    "    - Remove Hyphens from Dates: Standardize date formats by removing hyphens (e.g., '12-08-2023' to '12 08 2023')."
   ]
  },
  {
   "cell_type": "code",
   "execution_count": null,
   "id": "94cb6226",
   "metadata": {},
   "outputs": [],
   "source": []
  }
 ],
 "metadata": {
  "kernelspec": {
   "display_name": "Python 3 (ipykernel)",
   "language": "python",
   "name": "python3"
  },
  "language_info": {
   "codemirror_mode": {
    "name": "ipython",
    "version": 3
   },
   "file_extension": ".py",
   "mimetype": "text/x-python",
   "name": "python",
   "nbconvert_exporter": "python",
   "pygments_lexer": "ipython3",
   "version": "3.9.18"
  }
 },
 "nbformat": 4,
 "nbformat_minor": 5
}
